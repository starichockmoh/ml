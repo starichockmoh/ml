{
 "nbformat": 4,
 "nbformat_minor": 0,
 "metadata": {
  "colab": {
   "provenance": []
  },
  "kernelspec": {
   "name": "python3",
   "display_name": "Python 3 (ipykernel)",
   "language": "python"
  },
  "language_info": {
   "name": "python"
  }
 },
 "cells": [
  {
   "metadata": {},
   "cell_type": "markdown",
   "source": "# Заполнение пропусков с помощью KNN\n"
  },
  {
   "metadata": {},
   "cell_type": "markdown",
   "source": "1. Откройте файл с данными. Посмотрите где и в каком количестве есть пропуски. Строки, где пропуски по 2 и более признакам удалите (т.е. это строки под номерами 3 и 271)."
  },
  {
   "cell_type": "code",
   "metadata": {
    "id": "-lShm1pgMrBt",
    "ExecuteTime": {
     "end_time": "2024-11-12T08:35:00.217743Z",
     "start_time": "2024-11-12T08:35:00.204407Z"
    }
   },
   "source": [
    "# Подключение основных библиотек\n",
    "import warnings\n",
    "warnings.filterwarnings(\"ignore\")\n",
    "\n",
    "import pandas as pd\n",
    "import matplotlib.pyplot as plt\n",
    "\n",
    "from sklearn.preprocessing import LabelEncoder, OrdinalEncoder, OneHotEncoder\n",
    "from sklearn.preprocessing import MinMaxScaler, StandardScaler\n",
    "\n",
    "from sklearn.neighbors import KNeighborsClassifier\n",
    "\n",
    "from sklearn.model_selection import train_test_split\n",
    "\n",
    "import seaborn as sns\n",
    "sns.set()"
   ],
   "outputs": [],
   "execution_count": 21
  },
  {
   "cell_type": "code",
   "source": [
    "# Чтение датасета\n",
    "penguinsDataset = pd.read_csv('penguins.csv');"
   ],
   "metadata": {
    "id": "LijvTS-0R42u",
    "ExecuteTime": {
     "end_time": "2024-11-12T08:35:03.394207Z",
     "start_time": "2024-11-12T08:35:03.381764Z"
    }
   },
   "outputs": [],
   "execution_count": 22
  },
  {
   "cell_type": "code",
   "source": [
    "# первые пять строк\n",
    "penguinsDataset.head()"
   ],
   "metadata": {
    "colab": {
     "base_uri": "https://localhost:8080/",
     "height": 204
    },
    "id": "g11eBe8rSBAT",
    "outputId": "bb2fec6f-f222-4362-b4b9-07eb6f676d65",
    "ExecuteTime": {
     "end_time": "2024-11-12T08:35:05.359101Z",
     "start_time": "2024-11-12T08:35:05.332732Z"
    }
   },
   "outputs": [
    {
     "data": {
      "text/plain": [
       "  species     island  bill_length_mm  bill_depth_mm  flipper_length_mm  \\\n",
       "0  Adelie  Torgersen            39.1           18.7              181.0   \n",
       "1  Adelie  Torgersen            39.5           17.4              186.0   \n",
       "2  Adelie  Torgersen            40.3           18.0              195.0   \n",
       "3  Adelie  Torgersen             NaN            NaN                NaN   \n",
       "4  Adelie  Torgersen            36.7           19.3              193.0   \n",
       "\n",
       "   body_mass_g     sex  \n",
       "0       3750.0    male  \n",
       "1       3800.0  female  \n",
       "2       3250.0  female  \n",
       "3          NaN     NaN  \n",
       "4       3450.0  female  "
      ],
      "text/html": [
       "<div>\n",
       "<style scoped>\n",
       "    .dataframe tbody tr th:only-of-type {\n",
       "        vertical-align: middle;\n",
       "    }\n",
       "\n",
       "    .dataframe tbody tr th {\n",
       "        vertical-align: top;\n",
       "    }\n",
       "\n",
       "    .dataframe thead th {\n",
       "        text-align: right;\n",
       "    }\n",
       "</style>\n",
       "<table border=\"1\" class=\"dataframe\">\n",
       "  <thead>\n",
       "    <tr style=\"text-align: right;\">\n",
       "      <th></th>\n",
       "      <th>species</th>\n",
       "      <th>island</th>\n",
       "      <th>bill_length_mm</th>\n",
       "      <th>bill_depth_mm</th>\n",
       "      <th>flipper_length_mm</th>\n",
       "      <th>body_mass_g</th>\n",
       "      <th>sex</th>\n",
       "    </tr>\n",
       "  </thead>\n",
       "  <tbody>\n",
       "    <tr>\n",
       "      <th>0</th>\n",
       "      <td>Adelie</td>\n",
       "      <td>Torgersen</td>\n",
       "      <td>39.1</td>\n",
       "      <td>18.7</td>\n",
       "      <td>181.0</td>\n",
       "      <td>3750.0</td>\n",
       "      <td>male</td>\n",
       "    </tr>\n",
       "    <tr>\n",
       "      <th>1</th>\n",
       "      <td>Adelie</td>\n",
       "      <td>Torgersen</td>\n",
       "      <td>39.5</td>\n",
       "      <td>17.4</td>\n",
       "      <td>186.0</td>\n",
       "      <td>3800.0</td>\n",
       "      <td>female</td>\n",
       "    </tr>\n",
       "    <tr>\n",
       "      <th>2</th>\n",
       "      <td>Adelie</td>\n",
       "      <td>Torgersen</td>\n",
       "      <td>40.3</td>\n",
       "      <td>18.0</td>\n",
       "      <td>195.0</td>\n",
       "      <td>3250.0</td>\n",
       "      <td>female</td>\n",
       "    </tr>\n",
       "    <tr>\n",
       "      <th>3</th>\n",
       "      <td>Adelie</td>\n",
       "      <td>Torgersen</td>\n",
       "      <td>NaN</td>\n",
       "      <td>NaN</td>\n",
       "      <td>NaN</td>\n",
       "      <td>NaN</td>\n",
       "      <td>NaN</td>\n",
       "    </tr>\n",
       "    <tr>\n",
       "      <th>4</th>\n",
       "      <td>Adelie</td>\n",
       "      <td>Torgersen</td>\n",
       "      <td>36.7</td>\n",
       "      <td>19.3</td>\n",
       "      <td>193.0</td>\n",
       "      <td>3450.0</td>\n",
       "      <td>female</td>\n",
       "    </tr>\n",
       "  </tbody>\n",
       "</table>\n",
       "</div>"
      ]
     },
     "execution_count": 23,
     "metadata": {},
     "output_type": "execute_result"
    }
   ],
   "execution_count": 23
  },
  {
   "cell_type": "code",
   "source": [
    "# Проверяем наличие пропусков\n",
    "print(penguinsDataset.isnull().sum())"
   ],
   "metadata": {
    "colab": {
     "base_uri": "https://localhost:8080/"
    },
    "id": "dL917Gu8SpYO",
    "outputId": "f6acd02f-1705-4562-d773-0c2953516f53",
    "ExecuteTime": {
     "end_time": "2024-11-12T08:35:08.912971Z",
     "start_time": "2024-11-12T08:35:08.902437Z"
    }
   },
   "outputs": [
    {
     "name": "stdout",
     "output_type": "stream",
     "text": [
      "species               0\n",
      "island                0\n",
      "bill_length_mm        2\n",
      "bill_depth_mm         2\n",
      "flipper_length_mm     2\n",
      "body_mass_g           2\n",
      "sex                  11\n",
      "dtype: int64\n"
     ]
    }
   ],
   "execution_count": 24
  },
  {
   "cell_type": "code",
   "source": [
    "# статистика по категориальным признакам\n",
    "penguinsDataset.describe(include=['O'])"
   ],
   "metadata": {
    "colab": {
     "base_uri": "https://localhost:8080/",
     "height": 173
    },
    "id": "CcATyupxS3lK",
    "outputId": "f306f539-422c-4428-86ad-f732ea6e0779",
    "ExecuteTime": {
     "end_time": "2024-11-12T08:35:12.098708Z",
     "start_time": "2024-11-12T08:35:12.077726Z"
    }
   },
   "outputs": [
    {
     "data": {
      "text/plain": [
       "       species  island   sex\n",
       "count      344     344   333\n",
       "unique       3       3     2\n",
       "top     Adelie  Biscoe  male\n",
       "freq       152     168   168"
      ],
      "text/html": [
       "<div>\n",
       "<style scoped>\n",
       "    .dataframe tbody tr th:only-of-type {\n",
       "        vertical-align: middle;\n",
       "    }\n",
       "\n",
       "    .dataframe tbody tr th {\n",
       "        vertical-align: top;\n",
       "    }\n",
       "\n",
       "    .dataframe thead th {\n",
       "        text-align: right;\n",
       "    }\n",
       "</style>\n",
       "<table border=\"1\" class=\"dataframe\">\n",
       "  <thead>\n",
       "    <tr style=\"text-align: right;\">\n",
       "      <th></th>\n",
       "      <th>species</th>\n",
       "      <th>island</th>\n",
       "      <th>sex</th>\n",
       "    </tr>\n",
       "  </thead>\n",
       "  <tbody>\n",
       "    <tr>\n",
       "      <th>count</th>\n",
       "      <td>344</td>\n",
       "      <td>344</td>\n",
       "      <td>333</td>\n",
       "    </tr>\n",
       "    <tr>\n",
       "      <th>unique</th>\n",
       "      <td>3</td>\n",
       "      <td>3</td>\n",
       "      <td>2</td>\n",
       "    </tr>\n",
       "    <tr>\n",
       "      <th>top</th>\n",
       "      <td>Adelie</td>\n",
       "      <td>Biscoe</td>\n",
       "      <td>male</td>\n",
       "    </tr>\n",
       "    <tr>\n",
       "      <th>freq</th>\n",
       "      <td>152</td>\n",
       "      <td>168</td>\n",
       "      <td>168</td>\n",
       "    </tr>\n",
       "  </tbody>\n",
       "</table>\n",
       "</div>"
      ]
     },
     "execution_count": 25,
     "metadata": {},
     "output_type": "execute_result"
    }
   ],
   "execution_count": 25
  },
  {
   "cell_type": "code",
   "source": "penguinsDataset = penguinsDataset.dropna(thresh=len(penguinsDataset.columns)-1)",
   "metadata": {
    "id": "7e5tIloDTIzK",
    "ExecuteTime": {
     "end_time": "2024-11-12T08:35:16.079824Z",
     "start_time": "2024-11-12T08:35:16.065832Z"
    }
   },
   "outputs": [],
   "execution_count": 26
  },
  {
   "cell_type": "code",
   "source": [
    "# статистика по категориальным признакам\n",
    "penguinsDataset.describe(include=['O'])"
   ],
   "metadata": {
    "colab": {
     "base_uri": "https://localhost:8080/",
     "height": 173
    },
    "id": "v9HBwJ0BTJpI",
    "outputId": "0c2954b3-e0b3-41ce-f6e1-42093654d011",
    "ExecuteTime": {
     "end_time": "2024-11-12T08:35:20.317822Z",
     "start_time": "2024-11-12T08:35:20.295825Z"
    }
   },
   "outputs": [
    {
     "data": {
      "text/plain": [
       "       species  island   sex\n",
       "count      342     342   333\n",
       "unique       3       3     2\n",
       "top     Adelie  Biscoe  male\n",
       "freq       151     167   168"
      ],
      "text/html": [
       "<div>\n",
       "<style scoped>\n",
       "    .dataframe tbody tr th:only-of-type {\n",
       "        vertical-align: middle;\n",
       "    }\n",
       "\n",
       "    .dataframe tbody tr th {\n",
       "        vertical-align: top;\n",
       "    }\n",
       "\n",
       "    .dataframe thead th {\n",
       "        text-align: right;\n",
       "    }\n",
       "</style>\n",
       "<table border=\"1\" class=\"dataframe\">\n",
       "  <thead>\n",
       "    <tr style=\"text-align: right;\">\n",
       "      <th></th>\n",
       "      <th>species</th>\n",
       "      <th>island</th>\n",
       "      <th>sex</th>\n",
       "    </tr>\n",
       "  </thead>\n",
       "  <tbody>\n",
       "    <tr>\n",
       "      <th>count</th>\n",
       "      <td>342</td>\n",
       "      <td>342</td>\n",
       "      <td>333</td>\n",
       "    </tr>\n",
       "    <tr>\n",
       "      <th>unique</th>\n",
       "      <td>3</td>\n",
       "      <td>3</td>\n",
       "      <td>2</td>\n",
       "    </tr>\n",
       "    <tr>\n",
       "      <th>top</th>\n",
       "      <td>Adelie</td>\n",
       "      <td>Biscoe</td>\n",
       "      <td>male</td>\n",
       "    </tr>\n",
       "    <tr>\n",
       "      <th>freq</th>\n",
       "      <td>151</td>\n",
       "      <td>167</td>\n",
       "      <td>168</td>\n",
       "    </tr>\n",
       "  </tbody>\n",
       "</table>\n",
       "</div>"
      ]
     },
     "execution_count": 27,
     "metadata": {},
     "output_type": "execute_result"
    }
   ],
   "execution_count": 27
  },
  {
   "metadata": {},
   "cell_type": "markdown",
   "source": [
    "2. Разделите весь набор данных на 2 части: часть без пропусков data и часть data_with_nan, где имеются пропуски в столбце \"sex\" \n",
    "\n"
   ]
  },
  {
   "metadata": {
    "ExecuteTime": {
     "end_time": "2024-11-12T08:40:48.700996Z",
     "start_time": "2024-11-12T08:40:48.691691Z"
    }
   },
   "cell_type": "code",
   "source": [
    "# Создаем набор данных без пропусков\n",
    "data = penguinsDataset.dropna(subset=['sex'])\n",
    "\n",
    "# Создаем набор данных с пропусками\n",
    "data_with_nan = penguinsDataset[penguinsDataset['sex'].isnull()]"
   ],
   "outputs": [],
   "execution_count": 30
  },
  {
   "metadata": {},
   "cell_type": "markdown",
   "source": "3. Отделите целевой признак от нецелевых"
  },
  {
   "cell_type": "code",
   "source": [
    "X = data.drop('sex', axis=1)\n",
    "y = data['sex']"
   ],
   "metadata": {
    "id": "c6t19eJ8UyoP",
    "ExecuteTime": {
     "end_time": "2024-11-12T08:40:51.962780Z",
     "start_time": "2024-11-12T08:40:51.954938Z"
    }
   },
   "outputs": [],
   "execution_count": 31
  },
  {
   "metadata": {},
   "cell_type": "markdown",
   "source": "4. разделите данные на части для обучения train и тестирования test"
  },
  {
   "cell_type": "code",
   "source": [
    "X_train, X_test, y_train, y_test = train_test_split(X, y, test_size=0.2, random_state=42)"
   ],
   "metadata": {
    "id": "wtx1DVxFWzZ8",
    "ExecuteTime": {
     "end_time": "2024-11-12T08:40:55.147335Z",
     "start_time": "2024-11-12T08:40:55.132892Z"
    }
   },
   "outputs": [],
   "execution_count": 32
  },
  {
   "metadata": {},
   "cell_type": "markdown",
   "source": "5. Проведите кодирование категориальных признаков в train, а затем в test используя кодировщики, обученные на train"
  },
  {
   "cell_type": "code",
   "source": [
    "onehotencoder = OneHotEncoder()\n",
    "res = onehotencoder.fit_transform(X_train[['island','species']])"
   ],
   "metadata": {
    "id": "k6GuyvkkW4i_",
    "ExecuteTime": {
     "end_time": "2024-11-12T08:42:02.554761Z",
     "start_time": "2024-11-12T08:42:02.543640Z"
    }
   },
   "outputs": [],
   "execution_count": 33
  },
  {
   "cell_type": "code",
   "source": [
    "X_train[onehotencoder.categories_[0] ] = res[:, :3].toarray()\n",
    "X_train[onehotencoder.categories_[1] ] = res[:, 3:].toarray()"
   ],
   "metadata": {
    "id": "ARX5slYgfLh3",
    "ExecuteTime": {
     "end_time": "2024-11-12T08:42:12.876071Z",
     "start_time": "2024-11-12T08:42:12.858882Z"
    }
   },
   "outputs": [],
   "execution_count": 34
  },
  {
   "cell_type": "code",
   "source": [
    "X_train.drop(['island','species'], axis=1, inplace=True)\n",
    "X_train.head()"
   ],
   "metadata": {
    "colab": {
     "base_uri": "https://localhost:8080/",
     "height": 224
    },
    "id": "CL5xAD3sfOd4",
    "outputId": "08584974-2257-48db-d416-a70a13cf12d6",
    "ExecuteTime": {
     "end_time": "2024-11-12T08:42:31.530856Z",
     "start_time": "2024-11-12T08:42:31.501588Z"
    }
   },
   "outputs": [
    {
     "data": {
      "text/plain": [
       "     bill_length_mm  bill_depth_mm  flipper_length_mm  body_mass_g  Biscoe  \\\n",
       "232            49.1           14.5              212.0       4625.0     1.0   \n",
       "84             37.3           17.8              191.0       3350.0     0.0   \n",
       "306            40.9           16.6              187.0       3200.0     0.0   \n",
       "22             35.9           19.2              189.0       3800.0     1.0   \n",
       "29             40.5           18.9              180.0       3950.0     1.0   \n",
       "\n",
       "     Dream  Torgersen  Adelie  Chinstrap  Gentoo  \n",
       "232    0.0        0.0     0.0        0.0     1.0  \n",
       "84     1.0        0.0     1.0        0.0     0.0  \n",
       "306    1.0        0.0     0.0        1.0     0.0  \n",
       "22     0.0        0.0     1.0        0.0     0.0  \n",
       "29     0.0        0.0     1.0        0.0     0.0  "
      ],
      "text/html": [
       "<div>\n",
       "<style scoped>\n",
       "    .dataframe tbody tr th:only-of-type {\n",
       "        vertical-align: middle;\n",
       "    }\n",
       "\n",
       "    .dataframe tbody tr th {\n",
       "        vertical-align: top;\n",
       "    }\n",
       "\n",
       "    .dataframe thead th {\n",
       "        text-align: right;\n",
       "    }\n",
       "</style>\n",
       "<table border=\"1\" class=\"dataframe\">\n",
       "  <thead>\n",
       "    <tr style=\"text-align: right;\">\n",
       "      <th></th>\n",
       "      <th>bill_length_mm</th>\n",
       "      <th>bill_depth_mm</th>\n",
       "      <th>flipper_length_mm</th>\n",
       "      <th>body_mass_g</th>\n",
       "      <th>Biscoe</th>\n",
       "      <th>Dream</th>\n",
       "      <th>Torgersen</th>\n",
       "      <th>Adelie</th>\n",
       "      <th>Chinstrap</th>\n",
       "      <th>Gentoo</th>\n",
       "    </tr>\n",
       "  </thead>\n",
       "  <tbody>\n",
       "    <tr>\n",
       "      <th>232</th>\n",
       "      <td>49.1</td>\n",
       "      <td>14.5</td>\n",
       "      <td>212.0</td>\n",
       "      <td>4625.0</td>\n",
       "      <td>1.0</td>\n",
       "      <td>0.0</td>\n",
       "      <td>0.0</td>\n",
       "      <td>0.0</td>\n",
       "      <td>0.0</td>\n",
       "      <td>1.0</td>\n",
       "    </tr>\n",
       "    <tr>\n",
       "      <th>84</th>\n",
       "      <td>37.3</td>\n",
       "      <td>17.8</td>\n",
       "      <td>191.0</td>\n",
       "      <td>3350.0</td>\n",
       "      <td>0.0</td>\n",
       "      <td>1.0</td>\n",
       "      <td>0.0</td>\n",
       "      <td>1.0</td>\n",
       "      <td>0.0</td>\n",
       "      <td>0.0</td>\n",
       "    </tr>\n",
       "    <tr>\n",
       "      <th>306</th>\n",
       "      <td>40.9</td>\n",
       "      <td>16.6</td>\n",
       "      <td>187.0</td>\n",
       "      <td>3200.0</td>\n",
       "      <td>0.0</td>\n",
       "      <td>1.0</td>\n",
       "      <td>0.0</td>\n",
       "      <td>0.0</td>\n",
       "      <td>1.0</td>\n",
       "      <td>0.0</td>\n",
       "    </tr>\n",
       "    <tr>\n",
       "      <th>22</th>\n",
       "      <td>35.9</td>\n",
       "      <td>19.2</td>\n",
       "      <td>189.0</td>\n",
       "      <td>3800.0</td>\n",
       "      <td>1.0</td>\n",
       "      <td>0.0</td>\n",
       "      <td>0.0</td>\n",
       "      <td>1.0</td>\n",
       "      <td>0.0</td>\n",
       "      <td>0.0</td>\n",
       "    </tr>\n",
       "    <tr>\n",
       "      <th>29</th>\n",
       "      <td>40.5</td>\n",
       "      <td>18.9</td>\n",
       "      <td>180.0</td>\n",
       "      <td>3950.0</td>\n",
       "      <td>1.0</td>\n",
       "      <td>0.0</td>\n",
       "      <td>0.0</td>\n",
       "      <td>1.0</td>\n",
       "      <td>0.0</td>\n",
       "      <td>0.0</td>\n",
       "    </tr>\n",
       "  </tbody>\n",
       "</table>\n",
       "</div>"
      ]
     },
     "execution_count": 35,
     "metadata": {},
     "output_type": "execute_result"
    }
   ],
   "execution_count": 35
  },
  {
   "cell_type": "code",
   "source": [
    "res = onehotencoder.transform(X_test[['island', 'species']])\n",
    "X_test[onehotencoder.categories_[0] ] = res[:, :3].toarray()\n",
    "X_test[onehotencoder.categories_[1] ] = res[:, 3:].toarray()\n",
    "X_test.drop(['island','species'], axis=1, inplace=True)\n",
    "X_test.head()"
   ],
   "metadata": {
    "colab": {
     "base_uri": "https://localhost:8080/",
     "height": 224
    },
    "id": "VgLhfonWg436",
    "outputId": "2eebacd1-225c-4b9e-e2b5-89130aca8cfc",
    "ExecuteTime": {
     "end_time": "2024-11-12T08:43:02.525611Z",
     "start_time": "2024-11-12T08:43:02.468923Z"
    }
   },
   "outputs": [
    {
     "data": {
      "text/plain": [
       "     bill_length_mm  bill_depth_mm  flipper_length_mm  body_mass_g  Biscoe  \\\n",
       "30             39.5           16.7              178.0       3250.0     0.0   \n",
       "320            50.9           17.9              196.0       3675.0     0.0   \n",
       "79             42.1           19.1              195.0       4000.0     0.0   \n",
       "202            46.6           14.2              210.0       4850.0     1.0   \n",
       "63             41.1           18.2              192.0       4050.0     1.0   \n",
       "\n",
       "     Dream  Torgersen  Adelie  Chinstrap  Gentoo  \n",
       "30     1.0        0.0     1.0        0.0     0.0  \n",
       "320    1.0        0.0     0.0        1.0     0.0  \n",
       "79     0.0        1.0     1.0        0.0     0.0  \n",
       "202    0.0        0.0     0.0        0.0     1.0  \n",
       "63     0.0        0.0     1.0        0.0     0.0  "
      ],
      "text/html": [
       "<div>\n",
       "<style scoped>\n",
       "    .dataframe tbody tr th:only-of-type {\n",
       "        vertical-align: middle;\n",
       "    }\n",
       "\n",
       "    .dataframe tbody tr th {\n",
       "        vertical-align: top;\n",
       "    }\n",
       "\n",
       "    .dataframe thead th {\n",
       "        text-align: right;\n",
       "    }\n",
       "</style>\n",
       "<table border=\"1\" class=\"dataframe\">\n",
       "  <thead>\n",
       "    <tr style=\"text-align: right;\">\n",
       "      <th></th>\n",
       "      <th>bill_length_mm</th>\n",
       "      <th>bill_depth_mm</th>\n",
       "      <th>flipper_length_mm</th>\n",
       "      <th>body_mass_g</th>\n",
       "      <th>Biscoe</th>\n",
       "      <th>Dream</th>\n",
       "      <th>Torgersen</th>\n",
       "      <th>Adelie</th>\n",
       "      <th>Chinstrap</th>\n",
       "      <th>Gentoo</th>\n",
       "    </tr>\n",
       "  </thead>\n",
       "  <tbody>\n",
       "    <tr>\n",
       "      <th>30</th>\n",
       "      <td>39.5</td>\n",
       "      <td>16.7</td>\n",
       "      <td>178.0</td>\n",
       "      <td>3250.0</td>\n",
       "      <td>0.0</td>\n",
       "      <td>1.0</td>\n",
       "      <td>0.0</td>\n",
       "      <td>1.0</td>\n",
       "      <td>0.0</td>\n",
       "      <td>0.0</td>\n",
       "    </tr>\n",
       "    <tr>\n",
       "      <th>320</th>\n",
       "      <td>50.9</td>\n",
       "      <td>17.9</td>\n",
       "      <td>196.0</td>\n",
       "      <td>3675.0</td>\n",
       "      <td>0.0</td>\n",
       "      <td>1.0</td>\n",
       "      <td>0.0</td>\n",
       "      <td>0.0</td>\n",
       "      <td>1.0</td>\n",
       "      <td>0.0</td>\n",
       "    </tr>\n",
       "    <tr>\n",
       "      <th>79</th>\n",
       "      <td>42.1</td>\n",
       "      <td>19.1</td>\n",
       "      <td>195.0</td>\n",
       "      <td>4000.0</td>\n",
       "      <td>0.0</td>\n",
       "      <td>0.0</td>\n",
       "      <td>1.0</td>\n",
       "      <td>1.0</td>\n",
       "      <td>0.0</td>\n",
       "      <td>0.0</td>\n",
       "    </tr>\n",
       "    <tr>\n",
       "      <th>202</th>\n",
       "      <td>46.6</td>\n",
       "      <td>14.2</td>\n",
       "      <td>210.0</td>\n",
       "      <td>4850.0</td>\n",
       "      <td>1.0</td>\n",
       "      <td>0.0</td>\n",
       "      <td>0.0</td>\n",
       "      <td>0.0</td>\n",
       "      <td>0.0</td>\n",
       "      <td>1.0</td>\n",
       "    </tr>\n",
       "    <tr>\n",
       "      <th>63</th>\n",
       "      <td>41.1</td>\n",
       "      <td>18.2</td>\n",
       "      <td>192.0</td>\n",
       "      <td>4050.0</td>\n",
       "      <td>1.0</td>\n",
       "      <td>0.0</td>\n",
       "      <td>0.0</td>\n",
       "      <td>1.0</td>\n",
       "      <td>0.0</td>\n",
       "      <td>0.0</td>\n",
       "    </tr>\n",
       "  </tbody>\n",
       "</table>\n",
       "</div>"
      ]
     },
     "execution_count": 36,
     "metadata": {},
     "output_type": "execute_result"
    }
   ],
   "execution_count": 36
  },
  {
   "metadata": {},
   "cell_type": "markdown",
   "source": "6. Проведите нормирование нецелевых признаков в train, а затем в test используя нормировщик, обученный на train"
  },
  {
   "cell_type": "code",
   "source": [
    "scaler_mm = MinMaxScaler()\n",
    "\n",
    "X_train_norm = scaler_mm.fit_transform(X_train)\n",
    "X_train_norm= pd.DataFrame(X_train_norm, columns = scaler_mm.feature_names_in_)\n",
    "X_train_norm.head()"
   ],
   "metadata": {
    "colab": {
     "base_uri": "https://localhost:8080/",
     "height": 204
    },
    "id": "HJBe6HoSZrdN",
    "outputId": "11dd7b09-479f-4ecf-f96f-7888e26207c8",
    "ExecuteTime": {
     "end_time": "2024-11-12T08:45:44.779339Z",
     "start_time": "2024-11-12T08:45:44.749573Z"
    }
   },
   "outputs": [
    {
     "data": {
      "text/plain": [
       "   bill_length_mm  bill_depth_mm  flipper_length_mm  body_mass_g  Biscoe  \\\n",
       "0        0.618182       0.166667           0.677966     0.574627     1.0   \n",
       "1        0.189091       0.559524           0.322034     0.194030     0.0   \n",
       "2        0.320000       0.416667           0.254237     0.149254     0.0   \n",
       "3        0.138182       0.726190           0.288136     0.328358     1.0   \n",
       "4        0.305455       0.690476           0.135593     0.373134     1.0   \n",
       "\n",
       "   Dream  Torgersen  Adelie  Chinstrap  Gentoo  \n",
       "0    0.0        0.0     0.0        0.0     1.0  \n",
       "1    1.0        0.0     1.0        0.0     0.0  \n",
       "2    1.0        0.0     0.0        1.0     0.0  \n",
       "3    0.0        0.0     1.0        0.0     0.0  \n",
       "4    0.0        0.0     1.0        0.0     0.0  "
      ],
      "text/html": [
       "<div>\n",
       "<style scoped>\n",
       "    .dataframe tbody tr th:only-of-type {\n",
       "        vertical-align: middle;\n",
       "    }\n",
       "\n",
       "    .dataframe tbody tr th {\n",
       "        vertical-align: top;\n",
       "    }\n",
       "\n",
       "    .dataframe thead th {\n",
       "        text-align: right;\n",
       "    }\n",
       "</style>\n",
       "<table border=\"1\" class=\"dataframe\">\n",
       "  <thead>\n",
       "    <tr style=\"text-align: right;\">\n",
       "      <th></th>\n",
       "      <th>bill_length_mm</th>\n",
       "      <th>bill_depth_mm</th>\n",
       "      <th>flipper_length_mm</th>\n",
       "      <th>body_mass_g</th>\n",
       "      <th>Biscoe</th>\n",
       "      <th>Dream</th>\n",
       "      <th>Torgersen</th>\n",
       "      <th>Adelie</th>\n",
       "      <th>Chinstrap</th>\n",
       "      <th>Gentoo</th>\n",
       "    </tr>\n",
       "  </thead>\n",
       "  <tbody>\n",
       "    <tr>\n",
       "      <th>0</th>\n",
       "      <td>0.618182</td>\n",
       "      <td>0.166667</td>\n",
       "      <td>0.677966</td>\n",
       "      <td>0.574627</td>\n",
       "      <td>1.0</td>\n",
       "      <td>0.0</td>\n",
       "      <td>0.0</td>\n",
       "      <td>0.0</td>\n",
       "      <td>0.0</td>\n",
       "      <td>1.0</td>\n",
       "    </tr>\n",
       "    <tr>\n",
       "      <th>1</th>\n",
       "      <td>0.189091</td>\n",
       "      <td>0.559524</td>\n",
       "      <td>0.322034</td>\n",
       "      <td>0.194030</td>\n",
       "      <td>0.0</td>\n",
       "      <td>1.0</td>\n",
       "      <td>0.0</td>\n",
       "      <td>1.0</td>\n",
       "      <td>0.0</td>\n",
       "      <td>0.0</td>\n",
       "    </tr>\n",
       "    <tr>\n",
       "      <th>2</th>\n",
       "      <td>0.320000</td>\n",
       "      <td>0.416667</td>\n",
       "      <td>0.254237</td>\n",
       "      <td>0.149254</td>\n",
       "      <td>0.0</td>\n",
       "      <td>1.0</td>\n",
       "      <td>0.0</td>\n",
       "      <td>0.0</td>\n",
       "      <td>1.0</td>\n",
       "      <td>0.0</td>\n",
       "    </tr>\n",
       "    <tr>\n",
       "      <th>3</th>\n",
       "      <td>0.138182</td>\n",
       "      <td>0.726190</td>\n",
       "      <td>0.288136</td>\n",
       "      <td>0.328358</td>\n",
       "      <td>1.0</td>\n",
       "      <td>0.0</td>\n",
       "      <td>0.0</td>\n",
       "      <td>1.0</td>\n",
       "      <td>0.0</td>\n",
       "      <td>0.0</td>\n",
       "    </tr>\n",
       "    <tr>\n",
       "      <th>4</th>\n",
       "      <td>0.305455</td>\n",
       "      <td>0.690476</td>\n",
       "      <td>0.135593</td>\n",
       "      <td>0.373134</td>\n",
       "      <td>1.0</td>\n",
       "      <td>0.0</td>\n",
       "      <td>0.0</td>\n",
       "      <td>1.0</td>\n",
       "      <td>0.0</td>\n",
       "      <td>0.0</td>\n",
       "    </tr>\n",
       "  </tbody>\n",
       "</table>\n",
       "</div>"
      ]
     },
     "execution_count": 37,
     "metadata": {},
     "output_type": "execute_result"
    }
   ],
   "execution_count": 37
  },
  {
   "cell_type": "code",
   "source": [
    "X_test_norm = scaler_mm.transform(X_test)\n",
    "X_test_norm = pd.DataFrame(X_test_norm, columns =  scaler_mm.feature_names_in_)\n",
    "X_test_norm.head()"
   ],
   "metadata": {
    "colab": {
     "base_uri": "https://localhost:8080/",
     "height": 204
    },
    "id": "Rt2nlWhJgu8t",
    "outputId": "33b16a82-4f2b-4c45-907e-cac698a056b7",
    "ExecuteTime": {
     "end_time": "2024-11-12T08:45:50.423247Z",
     "start_time": "2024-11-12T08:45:50.385860Z"
    }
   },
   "outputs": [
    {
     "data": {
      "text/plain": [
       "   bill_length_mm  bill_depth_mm  flipper_length_mm  body_mass_g  Biscoe  \\\n",
       "0        0.269091       0.428571           0.101695     0.164179     0.0   \n",
       "1        0.683636       0.571429           0.406780     0.291045     0.0   \n",
       "2        0.363636       0.714286           0.389831     0.388060     0.0   \n",
       "3        0.527273       0.130952           0.644068     0.641791     1.0   \n",
       "4        0.327273       0.607143           0.338983     0.402985     1.0   \n",
       "\n",
       "   Dream  Torgersen  Adelie  Chinstrap  Gentoo  \n",
       "0    1.0        0.0     1.0        0.0     0.0  \n",
       "1    1.0        0.0     0.0        1.0     0.0  \n",
       "2    0.0        1.0     1.0        0.0     0.0  \n",
       "3    0.0        0.0     0.0        0.0     1.0  \n",
       "4    0.0        0.0     1.0        0.0     0.0  "
      ],
      "text/html": [
       "<div>\n",
       "<style scoped>\n",
       "    .dataframe tbody tr th:only-of-type {\n",
       "        vertical-align: middle;\n",
       "    }\n",
       "\n",
       "    .dataframe tbody tr th {\n",
       "        vertical-align: top;\n",
       "    }\n",
       "\n",
       "    .dataframe thead th {\n",
       "        text-align: right;\n",
       "    }\n",
       "</style>\n",
       "<table border=\"1\" class=\"dataframe\">\n",
       "  <thead>\n",
       "    <tr style=\"text-align: right;\">\n",
       "      <th></th>\n",
       "      <th>bill_length_mm</th>\n",
       "      <th>bill_depth_mm</th>\n",
       "      <th>flipper_length_mm</th>\n",
       "      <th>body_mass_g</th>\n",
       "      <th>Biscoe</th>\n",
       "      <th>Dream</th>\n",
       "      <th>Torgersen</th>\n",
       "      <th>Adelie</th>\n",
       "      <th>Chinstrap</th>\n",
       "      <th>Gentoo</th>\n",
       "    </tr>\n",
       "  </thead>\n",
       "  <tbody>\n",
       "    <tr>\n",
       "      <th>0</th>\n",
       "      <td>0.269091</td>\n",
       "      <td>0.428571</td>\n",
       "      <td>0.101695</td>\n",
       "      <td>0.164179</td>\n",
       "      <td>0.0</td>\n",
       "      <td>1.0</td>\n",
       "      <td>0.0</td>\n",
       "      <td>1.0</td>\n",
       "      <td>0.0</td>\n",
       "      <td>0.0</td>\n",
       "    </tr>\n",
       "    <tr>\n",
       "      <th>1</th>\n",
       "      <td>0.683636</td>\n",
       "      <td>0.571429</td>\n",
       "      <td>0.406780</td>\n",
       "      <td>0.291045</td>\n",
       "      <td>0.0</td>\n",
       "      <td>1.0</td>\n",
       "      <td>0.0</td>\n",
       "      <td>0.0</td>\n",
       "      <td>1.0</td>\n",
       "      <td>0.0</td>\n",
       "    </tr>\n",
       "    <tr>\n",
       "      <th>2</th>\n",
       "      <td>0.363636</td>\n",
       "      <td>0.714286</td>\n",
       "      <td>0.389831</td>\n",
       "      <td>0.388060</td>\n",
       "      <td>0.0</td>\n",
       "      <td>0.0</td>\n",
       "      <td>1.0</td>\n",
       "      <td>1.0</td>\n",
       "      <td>0.0</td>\n",
       "      <td>0.0</td>\n",
       "    </tr>\n",
       "    <tr>\n",
       "      <th>3</th>\n",
       "      <td>0.527273</td>\n",
       "      <td>0.130952</td>\n",
       "      <td>0.644068</td>\n",
       "      <td>0.641791</td>\n",
       "      <td>1.0</td>\n",
       "      <td>0.0</td>\n",
       "      <td>0.0</td>\n",
       "      <td>0.0</td>\n",
       "      <td>0.0</td>\n",
       "      <td>1.0</td>\n",
       "    </tr>\n",
       "    <tr>\n",
       "      <th>4</th>\n",
       "      <td>0.327273</td>\n",
       "      <td>0.607143</td>\n",
       "      <td>0.338983</td>\n",
       "      <td>0.402985</td>\n",
       "      <td>1.0</td>\n",
       "      <td>0.0</td>\n",
       "      <td>0.0</td>\n",
       "      <td>1.0</td>\n",
       "      <td>0.0</td>\n",
       "      <td>0.0</td>\n",
       "    </tr>\n",
       "  </tbody>\n",
       "</table>\n",
       "</div>"
      ]
     },
     "execution_count": 38,
     "metadata": {},
     "output_type": "execute_result"
    }
   ],
   "execution_count": 38
  },
  {
   "metadata": {},
   "cell_type": "markdown",
   "source": "7. Проведите подбор гиперпараметров (количество соседей и метрика расстояния) в KNN, обучите классификатор с наилучшими гиперпараметрами на train, проверьте его качество на test"
  },
  {
   "cell_type": "code",
   "source": [
    "KNNClassifier = KNeighborsClassifier()\n",
    "KNNClassifier.fit(X_train_norm, y_train)\n",
    "print(KNNClassifier.score(X_train_norm, y_train), KNNClassifier.score(X_test_norm, y_test))"
   ],
   "metadata": {
    "colab": {
     "base_uri": "https://localhost:8080/"
    },
    "id": "ko9ASNHMaW_h",
    "outputId": "06d205d3-9436-4b35-811c-90644e268b39",
    "ExecuteTime": {
     "end_time": "2024-11-12T08:47:57.223405Z",
     "start_time": "2024-11-12T08:47:57.161417Z"
    }
   },
   "outputs": [
    {
     "name": "stdout",
     "output_type": "stream",
     "text": [
      "0.9360902255639098 0.8955223880597015\n"
     ]
    }
   ],
   "execution_count": 39
  },
  {
   "cell_type": "code",
   "source": [
    "X_train_norm.head()"
   ],
   "metadata": {
    "colab": {
     "base_uri": "https://localhost:8080/",
     "height": 204
    },
    "id": "rIUkTiyunoHc",
    "outputId": "ae93b630-0d02-40ec-9280-a59387055389",
    "ExecuteTime": {
     "end_time": "2024-11-12T08:49:32.799698Z",
     "start_time": "2024-11-12T08:49:32.764270Z"
    }
   },
   "outputs": [
    {
     "data": {
      "text/plain": [
       "   bill_length_mm  bill_depth_mm  flipper_length_mm  body_mass_g  Biscoe  \\\n",
       "0        0.618182       0.166667           0.677966     0.574627     1.0   \n",
       "1        0.189091       0.559524           0.322034     0.194030     0.0   \n",
       "2        0.320000       0.416667           0.254237     0.149254     0.0   \n",
       "3        0.138182       0.726190           0.288136     0.328358     1.0   \n",
       "4        0.305455       0.690476           0.135593     0.373134     1.0   \n",
       "\n",
       "   Dream  Torgersen  Adelie  Chinstrap  Gentoo  \n",
       "0    0.0        0.0     0.0        0.0     1.0  \n",
       "1    1.0        0.0     1.0        0.0     0.0  \n",
       "2    1.0        0.0     0.0        1.0     0.0  \n",
       "3    0.0        0.0     1.0        0.0     0.0  \n",
       "4    0.0        0.0     1.0        0.0     0.0  "
      ],
      "text/html": [
       "<div>\n",
       "<style scoped>\n",
       "    .dataframe tbody tr th:only-of-type {\n",
       "        vertical-align: middle;\n",
       "    }\n",
       "\n",
       "    .dataframe tbody tr th {\n",
       "        vertical-align: top;\n",
       "    }\n",
       "\n",
       "    .dataframe thead th {\n",
       "        text-align: right;\n",
       "    }\n",
       "</style>\n",
       "<table border=\"1\" class=\"dataframe\">\n",
       "  <thead>\n",
       "    <tr style=\"text-align: right;\">\n",
       "      <th></th>\n",
       "      <th>bill_length_mm</th>\n",
       "      <th>bill_depth_mm</th>\n",
       "      <th>flipper_length_mm</th>\n",
       "      <th>body_mass_g</th>\n",
       "      <th>Biscoe</th>\n",
       "      <th>Dream</th>\n",
       "      <th>Torgersen</th>\n",
       "      <th>Adelie</th>\n",
       "      <th>Chinstrap</th>\n",
       "      <th>Gentoo</th>\n",
       "    </tr>\n",
       "  </thead>\n",
       "  <tbody>\n",
       "    <tr>\n",
       "      <th>0</th>\n",
       "      <td>0.618182</td>\n",
       "      <td>0.166667</td>\n",
       "      <td>0.677966</td>\n",
       "      <td>0.574627</td>\n",
       "      <td>1.0</td>\n",
       "      <td>0.0</td>\n",
       "      <td>0.0</td>\n",
       "      <td>0.0</td>\n",
       "      <td>0.0</td>\n",
       "      <td>1.0</td>\n",
       "    </tr>\n",
       "    <tr>\n",
       "      <th>1</th>\n",
       "      <td>0.189091</td>\n",
       "      <td>0.559524</td>\n",
       "      <td>0.322034</td>\n",
       "      <td>0.194030</td>\n",
       "      <td>0.0</td>\n",
       "      <td>1.0</td>\n",
       "      <td>0.0</td>\n",
       "      <td>1.0</td>\n",
       "      <td>0.0</td>\n",
       "      <td>0.0</td>\n",
       "    </tr>\n",
       "    <tr>\n",
       "      <th>2</th>\n",
       "      <td>0.320000</td>\n",
       "      <td>0.416667</td>\n",
       "      <td>0.254237</td>\n",
       "      <td>0.149254</td>\n",
       "      <td>0.0</td>\n",
       "      <td>1.0</td>\n",
       "      <td>0.0</td>\n",
       "      <td>0.0</td>\n",
       "      <td>1.0</td>\n",
       "      <td>0.0</td>\n",
       "    </tr>\n",
       "    <tr>\n",
       "      <th>3</th>\n",
       "      <td>0.138182</td>\n",
       "      <td>0.726190</td>\n",
       "      <td>0.288136</td>\n",
       "      <td>0.328358</td>\n",
       "      <td>1.0</td>\n",
       "      <td>0.0</td>\n",
       "      <td>0.0</td>\n",
       "      <td>1.0</td>\n",
       "      <td>0.0</td>\n",
       "      <td>0.0</td>\n",
       "    </tr>\n",
       "    <tr>\n",
       "      <th>4</th>\n",
       "      <td>0.305455</td>\n",
       "      <td>0.690476</td>\n",
       "      <td>0.135593</td>\n",
       "      <td>0.373134</td>\n",
       "      <td>1.0</td>\n",
       "      <td>0.0</td>\n",
       "      <td>0.0</td>\n",
       "      <td>1.0</td>\n",
       "      <td>0.0</td>\n",
       "      <td>0.0</td>\n",
       "    </tr>\n",
       "  </tbody>\n",
       "</table>\n",
       "</div>"
      ]
     },
     "execution_count": 40,
     "metadata": {},
     "output_type": "execute_result"
    }
   ],
   "execution_count": 40
  },
  {
   "metadata": {},
   "cell_type": "markdown",
   "source": [
    "8. Используя обученный классификатор заполните пропуски пола в data_with_nan\n",
    "  * у data_with_nan  удалить столбец \"sex\";\n",
    "  * провести кодирование нецелевых признаков обученным на train кодировщиком;   "
   ]
  },
  {
   "cell_type": "code",
   "source": [
    "# Удаляем столбец \"sex\"\n",
    "data_with_nan_no_sex = data_with_nan.drop('sex', axis=1)\n",
    "\n",
    "# Кодируем\n",
    "res = onehotencoder.transform(data_with_nan_no_sex[['island', 'species']])\n",
    "data_with_nan_no_sex[onehotencoder.categories_[0] ] = res[:, :3].toarray()\n",
    "data_with_nan_no_sex[onehotencoder.categories_[1] ] = res[:, 3:].toarray()\n",
    "data_with_nan_no_sex.drop(['island','species'], axis=1, inplace=True)\n",
    "data_with_nan_no_sex.head()\n"
   ],
   "metadata": {
    "colab": {
     "base_uri": "https://localhost:8080/",
     "height": 224
    },
    "id": "gvhhi2EVhWRd",
    "outputId": "8af468d5-df74-40d8-9123-d80adccd1c05",
    "ExecuteTime": {
     "end_time": "2024-11-12T08:53:40.834449Z",
     "start_time": "2024-11-12T08:53:40.801079Z"
    }
   },
   "outputs": [
    {
     "data": {
      "text/plain": [
       "    bill_length_mm  bill_depth_mm  flipper_length_mm  body_mass_g  Biscoe  \\\n",
       "8             34.1           18.1              193.0       3475.0     0.0   \n",
       "9             42.0           20.2              190.0       4250.0     0.0   \n",
       "10            37.8           17.1              186.0       3300.0     0.0   \n",
       "11            37.8           17.3              180.0       3700.0     0.0   \n",
       "47            37.5           18.9              179.0       2975.0     0.0   \n",
       "\n",
       "    Dream  Torgersen  Adelie  Chinstrap  Gentoo  \n",
       "8     0.0        1.0     1.0        0.0     0.0  \n",
       "9     0.0        1.0     1.0        0.0     0.0  \n",
       "10    0.0        1.0     1.0        0.0     0.0  \n",
       "11    0.0        1.0     1.0        0.0     0.0  \n",
       "47    1.0        0.0     1.0        0.0     0.0  "
      ],
      "text/html": [
       "<div>\n",
       "<style scoped>\n",
       "    .dataframe tbody tr th:only-of-type {\n",
       "        vertical-align: middle;\n",
       "    }\n",
       "\n",
       "    .dataframe tbody tr th {\n",
       "        vertical-align: top;\n",
       "    }\n",
       "\n",
       "    .dataframe thead th {\n",
       "        text-align: right;\n",
       "    }\n",
       "</style>\n",
       "<table border=\"1\" class=\"dataframe\">\n",
       "  <thead>\n",
       "    <tr style=\"text-align: right;\">\n",
       "      <th></th>\n",
       "      <th>bill_length_mm</th>\n",
       "      <th>bill_depth_mm</th>\n",
       "      <th>flipper_length_mm</th>\n",
       "      <th>body_mass_g</th>\n",
       "      <th>Biscoe</th>\n",
       "      <th>Dream</th>\n",
       "      <th>Torgersen</th>\n",
       "      <th>Adelie</th>\n",
       "      <th>Chinstrap</th>\n",
       "      <th>Gentoo</th>\n",
       "    </tr>\n",
       "  </thead>\n",
       "  <tbody>\n",
       "    <tr>\n",
       "      <th>8</th>\n",
       "      <td>34.1</td>\n",
       "      <td>18.1</td>\n",
       "      <td>193.0</td>\n",
       "      <td>3475.0</td>\n",
       "      <td>0.0</td>\n",
       "      <td>0.0</td>\n",
       "      <td>1.0</td>\n",
       "      <td>1.0</td>\n",
       "      <td>0.0</td>\n",
       "      <td>0.0</td>\n",
       "    </tr>\n",
       "    <tr>\n",
       "      <th>9</th>\n",
       "      <td>42.0</td>\n",
       "      <td>20.2</td>\n",
       "      <td>190.0</td>\n",
       "      <td>4250.0</td>\n",
       "      <td>0.0</td>\n",
       "      <td>0.0</td>\n",
       "      <td>1.0</td>\n",
       "      <td>1.0</td>\n",
       "      <td>0.0</td>\n",
       "      <td>0.0</td>\n",
       "    </tr>\n",
       "    <tr>\n",
       "      <th>10</th>\n",
       "      <td>37.8</td>\n",
       "      <td>17.1</td>\n",
       "      <td>186.0</td>\n",
       "      <td>3300.0</td>\n",
       "      <td>0.0</td>\n",
       "      <td>0.0</td>\n",
       "      <td>1.0</td>\n",
       "      <td>1.0</td>\n",
       "      <td>0.0</td>\n",
       "      <td>0.0</td>\n",
       "    </tr>\n",
       "    <tr>\n",
       "      <th>11</th>\n",
       "      <td>37.8</td>\n",
       "      <td>17.3</td>\n",
       "      <td>180.0</td>\n",
       "      <td>3700.0</td>\n",
       "      <td>0.0</td>\n",
       "      <td>0.0</td>\n",
       "      <td>1.0</td>\n",
       "      <td>1.0</td>\n",
       "      <td>0.0</td>\n",
       "      <td>0.0</td>\n",
       "    </tr>\n",
       "    <tr>\n",
       "      <th>47</th>\n",
       "      <td>37.5</td>\n",
       "      <td>18.9</td>\n",
       "      <td>179.0</td>\n",
       "      <td>2975.0</td>\n",
       "      <td>0.0</td>\n",
       "      <td>1.0</td>\n",
       "      <td>0.0</td>\n",
       "      <td>1.0</td>\n",
       "      <td>0.0</td>\n",
       "      <td>0.0</td>\n",
       "    </tr>\n",
       "  </tbody>\n",
       "</table>\n",
       "</div>"
      ]
     },
     "execution_count": 41,
     "metadata": {},
     "output_type": "execute_result"
    }
   ],
   "execution_count": 41
  },
  {
   "metadata": {},
   "cell_type": "markdown",
   "source": "9. Провести нормировку обученным на train нормализатором."
  },
  {
   "cell_type": "code",
   "source": [
    "# нормируем данные\n",
    "\n",
    "data_with_nan_no_sex_norm = scaler_mm.transform(data_with_nan_no_sex)\n",
    "data_with_nan_no_sex_norm = pd.DataFrame(data_with_nan_no_sex_norm, columns =  scaler_mm.feature_names_in_)\n",
    "data_with_nan_no_sex_norm.head()"
   ],
   "metadata": {
    "colab": {
     "base_uri": "https://localhost:8080/",
     "height": 204
    },
    "id": "hoLOTSsWmDWr",
    "outputId": "d585d495-3a95-4e02-a015-4b146a9cb0a7",
    "ExecuteTime": {
     "end_time": "2024-11-12T08:54:17.607833Z",
     "start_time": "2024-11-12T08:54:17.568680Z"
    }
   },
   "outputs": [
    {
     "data": {
      "text/plain": [
       "   bill_length_mm  bill_depth_mm  flipper_length_mm  body_mass_g  Biscoe  \\\n",
       "0        0.072727       0.595238           0.355932     0.231343     0.0   \n",
       "1        0.360000       0.845238           0.305085     0.462687     0.0   \n",
       "2        0.207273       0.476190           0.237288     0.179104     0.0   \n",
       "3        0.207273       0.500000           0.135593     0.298507     0.0   \n",
       "4        0.196364       0.690476           0.118644     0.082090     0.0   \n",
       "\n",
       "   Dream  Torgersen  Adelie  Chinstrap  Gentoo  \n",
       "0    0.0        1.0     1.0        0.0     0.0  \n",
       "1    0.0        1.0     1.0        0.0     0.0  \n",
       "2    0.0        1.0     1.0        0.0     0.0  \n",
       "3    0.0        1.0     1.0        0.0     0.0  \n",
       "4    1.0        0.0     1.0        0.0     0.0  "
      ],
      "text/html": [
       "<div>\n",
       "<style scoped>\n",
       "    .dataframe tbody tr th:only-of-type {\n",
       "        vertical-align: middle;\n",
       "    }\n",
       "\n",
       "    .dataframe tbody tr th {\n",
       "        vertical-align: top;\n",
       "    }\n",
       "\n",
       "    .dataframe thead th {\n",
       "        text-align: right;\n",
       "    }\n",
       "</style>\n",
       "<table border=\"1\" class=\"dataframe\">\n",
       "  <thead>\n",
       "    <tr style=\"text-align: right;\">\n",
       "      <th></th>\n",
       "      <th>bill_length_mm</th>\n",
       "      <th>bill_depth_mm</th>\n",
       "      <th>flipper_length_mm</th>\n",
       "      <th>body_mass_g</th>\n",
       "      <th>Biscoe</th>\n",
       "      <th>Dream</th>\n",
       "      <th>Torgersen</th>\n",
       "      <th>Adelie</th>\n",
       "      <th>Chinstrap</th>\n",
       "      <th>Gentoo</th>\n",
       "    </tr>\n",
       "  </thead>\n",
       "  <tbody>\n",
       "    <tr>\n",
       "      <th>0</th>\n",
       "      <td>0.072727</td>\n",
       "      <td>0.595238</td>\n",
       "      <td>0.355932</td>\n",
       "      <td>0.231343</td>\n",
       "      <td>0.0</td>\n",
       "      <td>0.0</td>\n",
       "      <td>1.0</td>\n",
       "      <td>1.0</td>\n",
       "      <td>0.0</td>\n",
       "      <td>0.0</td>\n",
       "    </tr>\n",
       "    <tr>\n",
       "      <th>1</th>\n",
       "      <td>0.360000</td>\n",
       "      <td>0.845238</td>\n",
       "      <td>0.305085</td>\n",
       "      <td>0.462687</td>\n",
       "      <td>0.0</td>\n",
       "      <td>0.0</td>\n",
       "      <td>1.0</td>\n",
       "      <td>1.0</td>\n",
       "      <td>0.0</td>\n",
       "      <td>0.0</td>\n",
       "    </tr>\n",
       "    <tr>\n",
       "      <th>2</th>\n",
       "      <td>0.207273</td>\n",
       "      <td>0.476190</td>\n",
       "      <td>0.237288</td>\n",
       "      <td>0.179104</td>\n",
       "      <td>0.0</td>\n",
       "      <td>0.0</td>\n",
       "      <td>1.0</td>\n",
       "      <td>1.0</td>\n",
       "      <td>0.0</td>\n",
       "      <td>0.0</td>\n",
       "    </tr>\n",
       "    <tr>\n",
       "      <th>3</th>\n",
       "      <td>0.207273</td>\n",
       "      <td>0.500000</td>\n",
       "      <td>0.135593</td>\n",
       "      <td>0.298507</td>\n",
       "      <td>0.0</td>\n",
       "      <td>0.0</td>\n",
       "      <td>1.0</td>\n",
       "      <td>1.0</td>\n",
       "      <td>0.0</td>\n",
       "      <td>0.0</td>\n",
       "    </tr>\n",
       "    <tr>\n",
       "      <th>4</th>\n",
       "      <td>0.196364</td>\n",
       "      <td>0.690476</td>\n",
       "      <td>0.118644</td>\n",
       "      <td>0.082090</td>\n",
       "      <td>0.0</td>\n",
       "      <td>1.0</td>\n",
       "      <td>0.0</td>\n",
       "      <td>1.0</td>\n",
       "      <td>0.0</td>\n",
       "      <td>0.0</td>\n",
       "    </tr>\n",
       "  </tbody>\n",
       "</table>\n",
       "</div>"
      ]
     },
     "execution_count": 42,
     "metadata": {},
     "output_type": "execute_result"
    }
   ],
   "execution_count": 42
  },
  {
   "metadata": {},
   "cell_type": "markdown",
   "source": "10. После этого предскажите обученным классификатором значение целевого признака на данных их data_with_nan"
  },
  {
   "cell_type": "code",
   "source": [
    "# # Предсказываем значения пола\n",
    "predicted_sex = KNNClassifier.predict(data_with_nan_no_sex_norm)"
   ],
   "metadata": {
    "id": "PUcsnvWymhtz",
    "ExecuteTime": {
     "end_time": "2024-11-12T08:55:27.940917Z",
     "start_time": "2024-11-12T08:55:27.928143Z"
    }
   },
   "outputs": [],
   "execution_count": 43
  },
  {
   "metadata": {},
   "cell_type": "markdown",
   "source": "11. Объедините нецелевые столбцы из data_with_nan и предсказанные значения пола, выведите их. Сравните с заполнением, которое мы делали, ориентируясь на вес пингвина"
  },
  {
   "cell_type": "code",
   "source": [
    "# Добавляем предсказанные значения обратно в data_with_nan\n",
    "data_with_nan['sex'] = predicted_sex\n",
    "\n",
    "# Выводим результаты\n",
    "result_data = data_with_nan[['species', 'island', 'bill_length_mm', 'bill_depth_mm',\n",
    "                              'flipper_length_mm', 'body_mass_g', 'sex']]\n",
    "print(result_data)"
   ],
   "metadata": {
    "colab": {
     "base_uri": "https://localhost:8080/"
    },
    "id": "8JbcrtPxpTV9",
    "outputId": "94285b5b-d812-4f87-aa53-16e3f88b4d97",
    "ExecuteTime": {
     "end_time": "2024-11-12T08:56:29.242464Z",
     "start_time": "2024-11-12T08:56:29.228040Z"
    }
   },
   "outputs": [
    {
     "name": "stdout",
     "output_type": "stream",
     "text": [
      "    species     island  bill_length_mm  bill_depth_mm  flipper_length_mm  \\\n",
      "8    Adelie  Torgersen            34.1           18.1              193.0   \n",
      "9    Adelie  Torgersen            42.0           20.2              190.0   \n",
      "10   Adelie  Torgersen            37.8           17.1              186.0   \n",
      "11   Adelie  Torgersen            37.8           17.3              180.0   \n",
      "47   Adelie      Dream            37.5           18.9              179.0   \n",
      "178  Gentoo     Biscoe            44.5           14.3              216.0   \n",
      "218  Gentoo     Biscoe            46.2           14.4              214.0   \n",
      "256  Gentoo     Biscoe            47.3           13.8              216.0   \n",
      "268  Gentoo     Biscoe            44.5           15.7              217.0   \n",
      "\n",
      "     body_mass_g     sex  \n",
      "8         3475.0  female  \n",
      "9         4250.0    male  \n",
      "10        3300.0  female  \n",
      "11        3700.0  female  \n",
      "47        2975.0  female  \n",
      "178       4100.0  female  \n",
      "218       4650.0  female  \n",
      "256       4725.0  female  \n",
      "268       4875.0    male  \n"
     ]
    }
   ],
   "execution_count": 44
  },
  {
   "cell_type": "code",
   "source": [
    "result_data"
   ],
   "metadata": {
    "colab": {
     "base_uri": "https://localhost:8080/",
     "height": 1272
    },
    "id": "Xuc2qpfwpVYR",
    "outputId": "f3ae99d9-1348-4300-da5a-ae8471910be1",
    "ExecuteTime": {
     "end_time": "2024-11-12T08:56:38.537855Z",
     "start_time": "2024-11-12T08:56:38.499911Z"
    }
   },
   "outputs": [
    {
     "data": {
      "text/plain": [
       "    species     island  bill_length_mm  bill_depth_mm  flipper_length_mm  \\\n",
       "8    Adelie  Torgersen            34.1           18.1              193.0   \n",
       "9    Adelie  Torgersen            42.0           20.2              190.0   \n",
       "10   Adelie  Torgersen            37.8           17.1              186.0   \n",
       "11   Adelie  Torgersen            37.8           17.3              180.0   \n",
       "47   Adelie      Dream            37.5           18.9              179.0   \n",
       "178  Gentoo     Biscoe            44.5           14.3              216.0   \n",
       "218  Gentoo     Biscoe            46.2           14.4              214.0   \n",
       "256  Gentoo     Biscoe            47.3           13.8              216.0   \n",
       "268  Gentoo     Biscoe            44.5           15.7              217.0   \n",
       "\n",
       "     body_mass_g     sex  \n",
       "8         3475.0  female  \n",
       "9         4250.0    male  \n",
       "10        3300.0  female  \n",
       "11        3700.0  female  \n",
       "47        2975.0  female  \n",
       "178       4100.0  female  \n",
       "218       4650.0  female  \n",
       "256       4725.0  female  \n",
       "268       4875.0    male  "
      ],
      "text/html": [
       "<div>\n",
       "<style scoped>\n",
       "    .dataframe tbody tr th:only-of-type {\n",
       "        vertical-align: middle;\n",
       "    }\n",
       "\n",
       "    .dataframe tbody tr th {\n",
       "        vertical-align: top;\n",
       "    }\n",
       "\n",
       "    .dataframe thead th {\n",
       "        text-align: right;\n",
       "    }\n",
       "</style>\n",
       "<table border=\"1\" class=\"dataframe\">\n",
       "  <thead>\n",
       "    <tr style=\"text-align: right;\">\n",
       "      <th></th>\n",
       "      <th>species</th>\n",
       "      <th>island</th>\n",
       "      <th>bill_length_mm</th>\n",
       "      <th>bill_depth_mm</th>\n",
       "      <th>flipper_length_mm</th>\n",
       "      <th>body_mass_g</th>\n",
       "      <th>sex</th>\n",
       "    </tr>\n",
       "  </thead>\n",
       "  <tbody>\n",
       "    <tr>\n",
       "      <th>8</th>\n",
       "      <td>Adelie</td>\n",
       "      <td>Torgersen</td>\n",
       "      <td>34.1</td>\n",
       "      <td>18.1</td>\n",
       "      <td>193.0</td>\n",
       "      <td>3475.0</td>\n",
       "      <td>female</td>\n",
       "    </tr>\n",
       "    <tr>\n",
       "      <th>9</th>\n",
       "      <td>Adelie</td>\n",
       "      <td>Torgersen</td>\n",
       "      <td>42.0</td>\n",
       "      <td>20.2</td>\n",
       "      <td>190.0</td>\n",
       "      <td>4250.0</td>\n",
       "      <td>male</td>\n",
       "    </tr>\n",
       "    <tr>\n",
       "      <th>10</th>\n",
       "      <td>Adelie</td>\n",
       "      <td>Torgersen</td>\n",
       "      <td>37.8</td>\n",
       "      <td>17.1</td>\n",
       "      <td>186.0</td>\n",
       "      <td>3300.0</td>\n",
       "      <td>female</td>\n",
       "    </tr>\n",
       "    <tr>\n",
       "      <th>11</th>\n",
       "      <td>Adelie</td>\n",
       "      <td>Torgersen</td>\n",
       "      <td>37.8</td>\n",
       "      <td>17.3</td>\n",
       "      <td>180.0</td>\n",
       "      <td>3700.0</td>\n",
       "      <td>female</td>\n",
       "    </tr>\n",
       "    <tr>\n",
       "      <th>47</th>\n",
       "      <td>Adelie</td>\n",
       "      <td>Dream</td>\n",
       "      <td>37.5</td>\n",
       "      <td>18.9</td>\n",
       "      <td>179.0</td>\n",
       "      <td>2975.0</td>\n",
       "      <td>female</td>\n",
       "    </tr>\n",
       "    <tr>\n",
       "      <th>178</th>\n",
       "      <td>Gentoo</td>\n",
       "      <td>Biscoe</td>\n",
       "      <td>44.5</td>\n",
       "      <td>14.3</td>\n",
       "      <td>216.0</td>\n",
       "      <td>4100.0</td>\n",
       "      <td>female</td>\n",
       "    </tr>\n",
       "    <tr>\n",
       "      <th>218</th>\n",
       "      <td>Gentoo</td>\n",
       "      <td>Biscoe</td>\n",
       "      <td>46.2</td>\n",
       "      <td>14.4</td>\n",
       "      <td>214.0</td>\n",
       "      <td>4650.0</td>\n",
       "      <td>female</td>\n",
       "    </tr>\n",
       "    <tr>\n",
       "      <th>256</th>\n",
       "      <td>Gentoo</td>\n",
       "      <td>Biscoe</td>\n",
       "      <td>47.3</td>\n",
       "      <td>13.8</td>\n",
       "      <td>216.0</td>\n",
       "      <td>4725.0</td>\n",
       "      <td>female</td>\n",
       "    </tr>\n",
       "    <tr>\n",
       "      <th>268</th>\n",
       "      <td>Gentoo</td>\n",
       "      <td>Biscoe</td>\n",
       "      <td>44.5</td>\n",
       "      <td>15.7</td>\n",
       "      <td>217.0</td>\n",
       "      <td>4875.0</td>\n",
       "      <td>male</td>\n",
       "    </tr>\n",
       "  </tbody>\n",
       "</table>\n",
       "</div>"
      ]
     },
     "execution_count": 45,
     "metadata": {},
     "output_type": "execute_result"
    }
   ],
   "execution_count": 45
  }
 ]
}
