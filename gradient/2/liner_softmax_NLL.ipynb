{
 "cells": [
  {
   "cell_type": "markdown",
   "metadata": {
    "id": "8OM9YH_w6yXD"
   },
   "source": [
    "# Neural network from scratch.\n",
    "\n",
    "Based on YSDA Deep Learning course materials.\n",
    "\n",
    "https://github.com/yandexdataschool/Practical_DL/blob/spring2019/homework01/homework_modules.ipynb"
   ]
  },
  {
   "cell_type": "markdown",
   "metadata": {
    "id": "QkOjLyq46yXK"
   },
   "source": [
    "We will implement most common layers using `numpy` for matrix operations.\n",
    "\n",
    "The file `modules.py` contains the abstract classes for **module**, **criterion** and **sequential** model class.\n",
    "\n",
    "**Module** is an abstract class which defines the fundamental methods required for training a neural network.\n",
    "\n",
    "**Criterion** class implements a container which can be used to score the models answers.\n",
    "\n",
    "**Sequential** class implements a container which processes `input` data sequentially.\n"
   ]
  },
  {
   "cell_type": "markdown",
   "metadata": {
    "id": "8c5OjyPn6yXK"
   },
   "source": [
    "#### Tips and tricks\n",
    "Original `numpy` operation are preferable to the overloaded ones (`+`, `*`, `-`, etc. vs `np.add`, `np.multiply`, `np.substract`). They are less prone to excess memory usage and seem unified with tensor frameworks.\n",
    "\n",
    "*Example:*\n",
    "\n",
    "```\n",
    "a = np.zeros_like(arr1)\n",
    "\n",
    "a = arr1 + arr2 #  bad, we reallocate memory for the result of + operation\n",
    "\n",
    "a = np.zeros_like(arr1)\n",
    "\n",
    "np.add(arr1, arr2, out=a) #  good, we use same allocated memory, no need to call gc\n",
    "```\n",
    "\n",
    "But I won't follow that advice ;)"
   ]
  },
  {
   "cell_type": "code",
   "metadata": {
    "id": "-cNJXFsp6yXL",
    "ExecuteTime": {
     "end_time": "2025-02-15T11:23:38.367446Z",
     "start_time": "2025-02-15T11:23:38.132634Z"
    }
   },
   "source": [
    "%matplotlib inline\n",
    "from time import time, sleep\n",
    "import numpy as np\n",
    "import matplotlib.pyplot as plt\n",
    "from IPython import display\n"
   ],
   "outputs": [],
   "execution_count": 1
  },
  {
   "cell_type": "code",
   "source": [
    "!wget -O modules.py https://github.com/girafe-ai/ml-course/blob/b57d7c8df19b6166dbc173ee027f9fdd55cc8686/week0_07_intro_to_DL/modules.py?raw=true"
   ],
   "metadata": {
    "colab": {
     "base_uri": "https://localhost:8080/"
    },
    "collapsed": true,
    "id": "9VwEAmIFbe8x",
    "outputId": "47d1fdf3-9eda-44b2-979e-ff58d7bdfdca",
    "ExecuteTime": {
     "end_time": "2025-02-15T11:23:41.112262Z",
     "start_time": "2025-02-15T11:23:40.995624Z"
    }
   },
   "outputs": [
    {
     "name": "stdout",
     "output_type": "stream",
     "text": [
      "zsh:1: no matches found: https://github.com/girafe-ai/ml-course/blob/b57d7c8df19b6166dbc173ee027f9fdd55cc8686/week0_07_intro_to_DL/modules.py?raw=true\r\n"
     ]
    }
   ],
   "execution_count": 2
  },
  {
   "cell_type": "code",
   "metadata": {
    "id": "jY5f8KaAdlTx",
    "ExecuteTime": {
     "end_time": "2025-02-15T11:23:45.230352Z",
     "start_time": "2025-02-15T11:23:45.226754Z"
    }
   },
   "source": [
    "from modules import Module, Sequential, Criterion"
   ],
   "outputs": [],
   "execution_count": 3
  },
  {
   "cell_type": "markdown",
   "metadata": {
    "id": "f2shlktH6yXL"
   },
   "source": [
    "## Impelementing main layers\n",
    "\n",
    "\n",
    "Let's try to implement some layers in numpy.\n",
    "Today we are going to discuss only the most common ones.\n",
    "\n",
    "https://en.wikipedia.org/wiki/Matrix_calculus\n",
    "\n"
   ]
  },
  {
   "cell_type": "markdown",
   "metadata": {
    "id": "yaLmLd-7Wfs8"
   },
   "source": [
    "[Post about einsum](https://habr.com/ru/post/544498/)"
   ]
  },
  {
   "cell_type": "markdown",
   "metadata": {
    "id": "D5FB1rBB6yXM"
   },
   "source": [
    "### 1. Linear transform layer\n",
    "Also known as dense layer, fully-connected layer, FC-layer, InnerProductLayer (in caffe), affine transform\n",
    "- input:   **`batch_size x n_in`**\n",
    "- output  **`batch_size x n_out`**"
   ]
  },
  {
   "cell_type": "markdown",
   "metadata": {
    "id": "f4Abm9jleWzI"
   },
   "source": [
    "[Backpropagation for a Linear Layer handout](http://cs231n.stanford.edu/handouts/linear-backprop.pdf)"
   ]
  },
  {
   "cell_type": "code",
   "metadata": {
    "id": "w1K9RnIq6yXM",
    "ExecuteTime": {
     "end_time": "2025-02-15T11:23:47.958936Z",
     "start_time": "2025-02-15T11:23:47.953930Z"
    }
   },
   "source": [
    "class Linear(Module):\n",
    "    \"\"\"\n",
    "    A module which applies a linear transformation\n",
    "    A common name is fully-connected layer, InnerProductLayer in caffe.\n",
    "\n",
    "    The module should work with 2D input of shape (n_samples, n_feature).\n",
    "    \"\"\"\n",
    "    def __init__(self, n_in, n_out):\n",
    "        super(Linear, self).__init__()\n",
    "\n",
    "        # This is a nice initialization\n",
    "        stdv = 1./np.sqrt(n_in)\n",
    "        self.W = np.random.uniform(-stdv, stdv, size = (n_in, n_out))\n",
    "        self.b = np.random.uniform(-stdv, stdv, size = n_out)\n",
    "\n",
    "        self.gradW = np.zeros_like(self.W)\n",
    "        self.gradb = np.zeros_like(self.b)\n",
    "\n",
    "    def updateOutput(self, input):\n",
    "        multiply = np.matmul(input, self.W)\n",
    "        a = np.zeros_like(multiply)\n",
    "        np.add(self.b, multiply, out=a)\n",
    "        self.output = a\n",
    "        return self.output\n",
    "\n",
    "    def updateGradInput(self, input, gradOutput):\n",
    "        self.gradInput = np.dot(gradOutput, self.W.T)\n",
    "        return self.gradInput\n",
    "\n",
    "    def accGradParameters(self, input, gradOutput):\n",
    "        self.gradW = np.dot(input.T, gradOutput)\n",
    "        self.gradb = np.sum(gradOutput, axis=0)\n",
    "\n",
    "    def zeroGradParameters(self):\n",
    "        self.gradW.fill(0)\n",
    "        self.gradb.fill(0)\n",
    "\n",
    "    def getParameters(self):\n",
    "        return [self.W, self.b]\n",
    "\n",
    "    def getGradParameters(self):\n",
    "        return [self.gradW, self.gradb]\n",
    "\n",
    "    def __repr__(self):\n",
    "        s = self.W.shape\n",
    "        q = 'Linear %d -> %d' %(s[1],s[0])\n",
    "        return q"
   ],
   "outputs": [],
   "execution_count": 4
  },
  {
   "cell_type": "code",
   "source": [
    "import torch\n",
    "from torch import nn\n",
    "\n",
    "K = 10  # Input features\n",
    "N = 8  # Output features\n",
    "B = 10  # Batch size\n",
    "\n",
    "linear_torch = nn.Linear(in_features=K, out_features=N, bias=True)\n",
    "x_torch = torch.rand((B, K), requires_grad=True)\n",
    "y_grad_torch = torch.rand((B, N))\n",
    "y_torch = linear_torch(x_torch)\n",
    "y_torch.backward(y_grad_torch)\n",
    "\n",
    "print(\"Torch реализация:\")\n",
    "print(\"x\", x_torch)\n",
    "print(\"Градиент по входу:\", x_torch.grad)\n",
    "print(\"Градиент по весам:\", linear_torch.weight.grad)\n",
    "print(\"Градиент по биасу:\", linear_torch.bias.grad)\n",
    "\n",
    "linear_custom = Linear(K, N)\n",
    "x_custom = x_torch.cpu().detach().numpy()\n",
    "y_grad_custom = y_grad_torch.cpu().detach().numpy()\n",
    "# Прямой\n",
    "y_custom = linear_custom.updateOutput(x_custom)\n",
    "# Обратный\n",
    "grad_input_custom = linear_custom.updateGradInput(x_custom, y_grad_custom)\n",
    "linear_custom.accGradParameters(x_custom, y_grad_custom)\n",
    "\n",
    "print(\"\\nКасотмная реализация:\")\n",
    "print(\"x\", x_custom)\n",
    "print(\"Градиент по входу:\", grad_input_custom)\n",
    "print(\"Градиент по весам:\", linear_custom.gradW)\n",
    "print(\"Градиент по биасу:\", linear_custom.gradb)"
   ],
   "metadata": {
    "colab": {
     "base_uri": "https://localhost:8080/"
    },
    "id": "zyV2eMpj6o-4",
    "outputId": "023011f3-612d-4020-8cf4-f55870862870",
    "ExecuteTime": {
     "end_time": "2025-02-15T13:07:11.313602Z",
     "start_time": "2025-02-15T13:07:11.306744Z"
    }
   },
   "outputs": [
    {
     "name": "stdout",
     "output_type": "stream",
     "text": [
      "Torch реализация:\n",
      "x tensor([[0.8391, 0.4045, 0.8891, 0.9028, 0.5249, 0.7957, 0.2646, 0.1695, 0.6978,\n",
      "         0.2646],\n",
      "        [0.3014, 0.5556, 0.9591, 0.4573, 0.6053, 0.4240, 0.2461, 0.7539, 0.1489,\n",
      "         0.6977],\n",
      "        [0.4476, 0.6522, 0.1398, 0.1645, 0.6364, 0.4846, 0.9859, 0.4614, 0.7319,\n",
      "         0.0257],\n",
      "        [0.4800, 0.8606, 0.1086, 0.5764, 0.9498, 0.4359, 0.2249, 0.5004, 0.2750,\n",
      "         0.9518],\n",
      "        [0.0296, 0.3078, 0.4304, 0.9035, 0.4703, 0.6344, 0.1996, 0.4870, 0.3727,\n",
      "         0.8451],\n",
      "        [0.8602, 0.5056, 0.5194, 0.8535, 0.1034, 0.7132, 0.2346, 0.8260, 0.4358,\n",
      "         0.1634],\n",
      "        [0.9313, 0.6896, 0.3610, 0.5426, 0.5285, 0.8073, 0.7688, 0.6964, 0.1273,\n",
      "         0.0034],\n",
      "        [0.6194, 0.8765, 0.2467, 0.9135, 0.6580, 0.7529, 0.2386, 0.7955, 0.5804,\n",
      "         0.8879],\n",
      "        [0.1193, 0.2444, 0.6343, 0.0559, 0.8265, 0.2471, 0.4615, 0.3228, 0.1583,\n",
      "         0.2511],\n",
      "        [0.8533, 0.6109, 0.8128, 0.9782, 0.6713, 0.8858, 0.6016, 0.1858, 0.1039,\n",
      "         0.0887]], requires_grad=True)\n",
      "Градиент по входу: tensor([[-0.1080, -0.4234,  0.4653,  0.4686, -0.5579,  0.1490,  0.0221, -0.3619,\n",
      "          0.3638,  0.1863],\n",
      "        [-0.3271, -0.3422,  0.5353,  0.7178, -0.3287,  0.1610, -0.2774, -0.3545,\n",
      "          0.2324,  0.0732],\n",
      "        [-0.1158, -0.5824,  0.6204,  0.5215, -0.7244,  0.1942,  0.1969, -0.2961,\n",
      "          0.1877,  0.1745],\n",
      "        [ 0.0072, -0.2648,  0.4128,  0.3644, -0.3613,  0.3191,  0.1580, -0.1428,\n",
      "         -0.0564, -0.0540],\n",
      "        [ 0.2287, -0.3280,  0.3518,  0.2766, -0.3582,  0.5783,  0.1916, -0.4855,\n",
      "          0.0675,  0.1230],\n",
      "        [ 0.0440, -0.3460,  0.8638,  0.6415, -0.5718,  0.4130,  0.4072, -0.2744,\n",
      "          0.2523, -0.0358],\n",
      "        [ 0.1558, -0.7392,  0.7307,  0.5952, -1.0066,  0.3784,  0.4076, -0.4061,\n",
      "          0.1976,  0.2411],\n",
      "        [ 0.2268, -0.5054,  0.5591,  0.5224, -0.6775,  0.3919,  0.2617, -0.4235,\n",
      "          0.1977,  0.1823],\n",
      "        [ 0.2784, -0.3569,  0.3049,  0.0099, -0.5559,  0.3608,  0.5536, -0.2095,\n",
      "          0.0965,  0.0431],\n",
      "        [-0.0302, -0.5056,  0.5977,  0.4938, -0.4631,  0.2722,  0.2090, -0.4187,\n",
      "          0.1736,  0.1466]])\n",
      "Градиент по весам: tensor([[3.0590, 3.0249, 2.3691, 2.8295, 3.1533, 3.1319, 2.7479, 2.5166, 1.6908,\n",
      "         1.4298],\n",
      "        [3.0963, 3.0931, 2.1306, 3.2749, 2.6286, 3.2330, 2.0728, 3.0512, 1.9647,\n",
      "         2.0652],\n",
      "        [3.4385, 3.1666, 3.0058, 3.4159, 2.9815, 3.5502, 2.5761, 2.7809, 2.1594,\n",
      "         1.7093],\n",
      "        [2.8705, 3.1448, 2.7855, 3.7571, 2.9364, 3.3469, 1.7748, 3.2466, 2.0286,\n",
      "         2.8626],\n",
      "        [3.5104, 3.0991, 2.8124, 3.4315, 3.0786, 3.5798, 2.6912, 2.7600, 1.9395,\n",
      "         1.4414],\n",
      "        [2.2429, 2.3289, 2.0718, 2.7073, 2.4334, 2.6103, 1.8252, 2.0037, 1.2596,\n",
      "         1.5849],\n",
      "        [2.8439, 3.0629, 2.5124, 3.4896, 3.4136, 3.4844, 2.4482, 2.9043, 2.0100,\n",
      "         2.3804],\n",
      "        [3.3049, 3.0015, 2.7521, 3.7571, 2.8881, 3.6402, 2.3823, 2.8726, 1.9779,\n",
      "         1.8140]])\n",
      "Градиент по биасу: tensor([5.0634, 4.8698, 5.2667, 5.3937, 5.4320, 4.0081, 5.6143, 5.4102])\n",
      "\n",
      "Касотмная реализация:\n",
      "x [[0.8391241  0.4045456  0.8890654  0.90282774 0.5248676  0.7957303\n",
      "  0.26456875 0.16946429 0.69781625 0.26457345]\n",
      " [0.301387   0.55557394 0.9590757  0.45734775 0.605256   0.4240458\n",
      "  0.24609023 0.7538875  0.14891595 0.69769603]\n",
      " [0.44755656 0.6521933  0.13980436 0.16452724 0.63638437 0.48464715\n",
      "  0.9858504  0.46144778 0.7318547  0.0256511 ]\n",
      " [0.47999227 0.8605652  0.10861951 0.5763903  0.949797   0.43594074\n",
      "  0.22489184 0.5003732  0.27503008 0.95175123]\n",
      " [0.02957016 0.3078366  0.43044263 0.9034817  0.47028816 0.6343682\n",
      "  0.19962794 0.486987   0.37273318 0.84514624]\n",
      " [0.8602073  0.5055716  0.51938176 0.85352623 0.10343438 0.7131944\n",
      "  0.23459494 0.8259561  0.43575412 0.16337687]\n",
      " [0.9313032  0.68963134 0.3610443  0.5426169  0.5284518  0.8072553\n",
      "  0.76875454 0.69639516 0.12730294 0.00339276]\n",
      " [0.61944324 0.87646925 0.24669802 0.9134941  0.6580074  0.7528794\n",
      "  0.23856968 0.79549885 0.5804379  0.88794374]\n",
      " [0.11931247 0.24444413 0.63430655 0.05594772 0.82647496 0.24707824\n",
      "  0.46147233 0.32280725 0.15828311 0.2511015 ]\n",
      " [0.85333896 0.6109328  0.81283575 0.9782024  0.67133063 0.8857835\n",
      "  0.6015973  0.1857953  0.10393584 0.08869475]]\n",
      "Градиент по входу: [[-2.63504237e-01 -1.30629005e-01  4.12146820e-02 -2.76432690e-01\n",
      "  -2.88322679e-01  2.59418399e-01 -1.14584909e-01  2.57279512e-02\n",
      "  -7.13455663e-02 -2.38829062e-01]\n",
      " [-3.56972023e-01 -1.94489877e-01  2.98226720e-02 -2.55887462e-01\n",
      "  -2.37525289e-01  1.59163884e-01 -2.18573384e-01 -5.48222557e-02\n",
      "   2.50668133e-02 -2.39344154e-01]\n",
      " [-3.59584018e-01 -9.86225906e-02 -1.11706391e-01 -3.68857518e-01\n",
      "  -1.59916596e-01  1.44180524e-01  3.20264287e-02  1.66919679e-01\n",
      "  -2.92916296e-01 -1.78334217e-01]\n",
      " [-9.99396580e-02 -1.94505237e-01 -1.51072656e-01 -1.44372100e-01\n",
      "  -7.44025217e-02 -7.71122097e-02  1.76468754e-01  1.20837148e-01\n",
      "  -3.52437784e-02  6.35203511e-02]\n",
      " [-1.11239358e-01 -1.77999539e-01 -1.62392717e-01 -5.54719859e-02\n",
      "  -2.15320805e-01 -5.59193306e-03  2.95286905e-01  1.53566159e-01\n",
      "   1.50742241e-01  1.15590875e-01]\n",
      " [-2.12902216e-01 -3.10750516e-01 -1.38055662e-01 -2.31920517e-01\n",
      "   2.21065052e-02  4.60121194e-02  1.88558259e-01  1.33124288e-01\n",
      "  -8.88542253e-02 -2.43472175e-01]\n",
      " [-2.36692159e-01 -2.34033943e-01 -9.95817144e-02 -3.87060505e-01\n",
      "  -2.05974705e-01  1.78710785e-01  2.39124046e-01  3.38270839e-01\n",
      "  -3.17891973e-01 -2.11260945e-01]\n",
      " [-1.29077056e-01 -2.58663271e-01 -4.43438197e-02 -2.29386575e-01\n",
      "  -1.45712450e-01  1.56826891e-01  2.03451400e-01  2.69256868e-01\n",
      "  -1.14373731e-01 -2.09589366e-01]\n",
      " [-1.07029342e-01 -4.24564915e-02 -3.11369096e-01 -2.08883476e-01\n",
      "  -3.95612899e-02  3.85912513e-04  2.85353060e-01  2.57698037e-01\n",
      "  -1.84096603e-01  1.66385914e-01]\n",
      " [-5.16867777e-01 -4.36415634e-03 -3.14460317e-01 -3.50311741e-01\n",
      "   1.19946297e-01  8.37567836e-02  3.39107856e-02  2.58603071e-01\n",
      "  -3.24422323e-01 -1.66184592e-01]]\n",
      "Градиент по весам: [[3.058969  3.096279  3.4384592 2.8704803 3.5103502 2.242901  2.8439133\n",
      "  3.3048947]\n",
      " [3.0249448 3.0930624 3.1666043 3.144781  3.0990872 2.3289256 3.0629053\n",
      "  3.0014596]\n",
      " [2.3690505 2.1306007 3.0058484 2.7854614 2.8123736 2.0718093 2.5123534\n",
      "  2.752052 ]\n",
      " [2.8295236 3.2749386 3.4158816 3.757091  3.4314938 2.707345  3.4896016\n",
      "  3.757143 ]\n",
      " [3.153286  2.6285586 2.9814975 2.9363527 3.0786285 2.433371  3.4135761\n",
      "  2.8881183]\n",
      " [3.1319442 3.2330112 3.5501542 3.3469362 3.57975   2.6103232 3.4843726\n",
      "  3.6401925]\n",
      " [2.7479327 2.0728462 2.5761018 1.774771  2.6911933 1.8251709 2.4482396\n",
      "  2.3822732]\n",
      " [2.5166242 3.05118   2.7809052 3.2466471 2.7599516 2.003662  2.904344\n",
      "  2.8725724]\n",
      " [1.6907594 1.9646575 2.1593525 2.028559  1.9394763 1.2596362 2.0099647\n",
      "  1.9779316]\n",
      " [1.4298011 2.0652041 1.7092892 2.8626108 1.4414477 1.5849186 2.380363\n",
      "  1.8140146]]\n",
      "Градиент по биасу: [5.06335   4.8698444 5.2666597 5.3936625 5.432047  4.008129  5.614284\n",
      " 5.410165 ]\n"
     ]
    }
   ],
   "execution_count": 7
  },
  {
   "cell_type": "markdown",
   "metadata": {
    "id": "7RVaSCBkfC8d"
   },
   "source": [
    "### 2. SoftMax\n",
    "- input:   **`batch_size x n_feats`**\n",
    "- output: **`batch_size x n_feats`**\n",
    "\n",
    "$\\text{softmax}(x)_i = \\frac{\\exp x_i} {\\sum_j \\exp x_j}$\n",
    "\n",
    "Recall that $\\text{softmax}(x) == \\text{softmax}(x - \\text{const})$. It makes possible to avoid computing exp() from large argument.\n",
    "\n",
    "[Notes on softmax](https://deepnotes.io/softmax-crossentropy)"
   ]
  },
  {
   "cell_type": "code",
   "execution_count": null,
   "metadata": {
    "colab": {
     "base_uri": "https://localhost:8080/"
    },
    "id": "n8Zy921LURI_",
    "outputId": "d6d23439-8159-4293-ae61-e43bfad62a88"
   },
   "outputs": [
    {
     "output_type": "execute_result",
     "data": {
      "text/plain": [
       "array([[[ 0,  0,  0],\n",
       "        [ 0,  1,  2],\n",
       "        [ 0,  2,  4]],\n",
       "\n",
       "       [[ 9, 12, 15],\n",
       "        [12, 16, 20],\n",
       "        [15, 20, 25]]])"
      ]
     },
     "metadata": {},
     "execution_count": 19
    }
   ],
   "source": [
    "# simple einsum example\n",
    "p = np.arange(6).reshape((2, 3))\n",
    "np.einsum('bi,bj->bij', p, p)"
   ]
  },
  {
   "cell_type": "code",
   "metadata": {
    "id": "-kih1-sC6yXN",
    "ExecuteTime": {
     "end_time": "2025-02-15T13:28:36.259691Z",
     "start_time": "2025-02-15T13:28:36.256303Z"
    }
   },
   "source": [
    "class SoftMax(Module):\n",
    "    def __init__(self):\n",
    "         super(SoftMax, self).__init__()\n",
    "\n",
    "    def updateOutput(self, input):\n",
    "        # start with normalization for numerical stability\n",
    "        if input.ndim == 1:\n",
    "            # Вычитаем максимум\n",
    "            x = input - np.max(input)\n",
    "            # Применяем экспоненту\n",
    "            exp_x = np.exp(x)\n",
    "            # Делим на сумму\n",
    "            self.output = exp_x / np.sum(exp_x)\n",
    "        else:\n",
    "            x = input - np.max(input, axis=1, keepdims=True)\n",
    "            exp_x = np.exp(x)\n",
    "            self.output = exp_x / np.sum(exp_x, axis=1, keepdims=True)\n",
    "        return self.output\n",
    "\n",
    "    def updateGradInput(self, input, gradOutput):\n",
    "        if input.ndim == 1:\n",
    "            p = self.output\n",
    "            # First we create for each example feature vector, it's outer product with itself\n",
    "            # ( p1^2  p1*p2  p1*p3 .... )\n",
    "            # ( p2*p1 p2^2   p2*p3 .... )\n",
    "            # ( ...                     )\n",
    "\n",
    "            # создаёт матрицу размерности (N, N)\n",
    "            outer = np.outer(p, p)\n",
    "            # Second we need to create an (n_feats, n_feats) identity of the feature vector\n",
    "            # ( p1  0  0  ...  )\n",
    "            # ( 0   p2 0  ...  )\n",
    "            # ( ...            )\n",
    "            diag_p = np.diag(p)\n",
    "            # Then we need to subtract the first tensor from the second\n",
    "            # ( p1 - p1^2   -p1*p2   -p1*p3  ... )\n",
    "            # ( -p1*p2     p2 - p2^2   -p2*p3 ...)\n",
    "            # ( ...                              )\n",
    "\n",
    "            # якобиан\n",
    "            self.gradInput = np.dot(diag_p - outer, gradOutput)\n",
    "        else:\n",
    "            self.gradInput = np.zeros_like(input)\n",
    "            for i in range(input.shape[0]):\n",
    "                p = self.output[i]\n",
    "                outer = np.outer(p, p)\n",
    "                diag_p = np.diag(p)\n",
    "                self.gradInput[i] = np.dot(diag_p - outer, gradOutput[i])\n",
    "        return self.gradInput\n",
    "\n",
    "    def __repr__(self):\n",
    "        return \"SoftMax\""
   ],
   "outputs": [],
   "execution_count": 12
  },
  {
   "cell_type": "code",
   "source": [
    "import torch\n",
    "import torch.nn.functional as F\n",
    "\n",
    "print(\"Одномерный вектор, прямой проход:\")\n",
    "x_np = np.array([1.0, 2.0, 3.0])\n",
    "softmax_layer = SoftMax()\n",
    "out_np = softmax_layer.forward(x_np)\n",
    "\n",
    "x_torch = torch.tensor(x_np, requires_grad=True)\n",
    "out_torch = F.softmax(x_torch, dim=0)\n",
    "\n",
    "print(\"Кастомный SoftMax:\", out_np)\n",
    "print(\"Torch SoftMax:  \", out_torch.detach().numpy())\n",
    "\n",
    "print(\"\\nОдномерный вектор, обратный проход:\")\n",
    "grad_output_np = np.array([0.1, 0.2, 0.3])\n",
    "grad_np = softmax_layer.backward(x_np, grad_output_np)\n",
    "\n",
    "out_torch.backward(torch.tensor(grad_output_np, dtype=torch.float32))\n",
    "grad_torch = x_torch.grad.numpy()\n",
    "\n",
    "print(\"Кастомный SoftMax:\", grad_np)\n",
    "print(\"Torch SoftMax:  \", grad_torch)\n",
    "\n",
    "# Test forward for a batch.\n",
    "print(\"\\nДвумерный вектор, прямой проход:\")\n",
    "x_batch_np = np.array([[1.0, 2.0, 3.0],\n",
    "                        [1.0, 3.0, 2.0]])\n",
    "softmax_layer = SoftMax()\n",
    "out_batch_np = softmax_layer.forward(x_batch_np)\n",
    "\n",
    "x_batch_torch = torch.tensor(x_batch_np, requires_grad=True)\n",
    "# For 2D tensor, softmax is applied along dim=1 (each row)\n",
    "out_batch_torch = F.softmax(x_batch_torch, dim=1)\n",
    "\n",
    "print(\"Кастомный SoftMax:\\n\", out_batch_np)\n",
    "print(\"Torch SoftMax:\\n\", out_batch_torch.detach().numpy())\n",
    "\n",
    "# Test backward for a batch.\n",
    "print(\"\\nДвумерный вектор, обратный проход:\")\n",
    "grad_output_batch_np = np.array([[0.1, 0.2, 0.3],\n",
    "                                  [0.3, 0.2, 0.1]])\n",
    "grad_batch_np = softmax_layer.backward(x_batch_np, grad_output_batch_np)\n",
    "\n",
    "out_batch_torch.backward(torch.tensor(grad_output_batch_np, dtype=torch.float32))\n",
    "grad_batch_torch = x_batch_torch.grad.numpy()\n",
    "\n",
    "print(\"Кастомный SoftMax:\\n\", grad_batch_np)\n",
    "print(\"Torch SoftMax:\\n\", grad_batch_torch)"
   ],
   "metadata": {
    "colab": {
     "base_uri": "https://localhost:8080/"
    },
    "id": "u03kmTZy0UYw",
    "outputId": "8be6027e-734b-4453-93b8-7e6a0844eaf0",
    "ExecuteTime": {
     "end_time": "2025-02-15T13:28:38.587718Z",
     "start_time": "2025-02-15T13:28:38.582571Z"
    }
   },
   "outputs": [
    {
     "name": "stdout",
     "output_type": "stream",
     "text": [
      "Одномерный вектор, прямой проход:\n",
      "Кастомный SoftMax: [0.09003057 0.24472847 0.66524096]\n",
      "Torch SoftMax:   [0.09003057 0.24472847 0.66524096]\n",
      "\n",
      "Одномерный вектор, обратный проход:\n",
      "Кастомный SoftMax: [-0.01418171 -0.01407704  0.02825875]\n",
      "Torch SoftMax:   [-0.01418171 -0.01407704  0.02825875]\n",
      "\n",
      "Двумерный вектор, прямой проход:\n",
      "Кастомный SoftMax:\n",
      " [[0.09003057 0.24472847 0.66524096]\n",
      " [0.09003057 0.66524096 0.24472847]]\n",
      "Torch SoftMax:\n",
      " [[0.09003057 0.24472847 0.66524096]\n",
      " [0.09003057 0.66524096 0.24472847]]\n",
      "\n",
      "Двумерный вектор, обратный проход:\n",
      "Кастомный SoftMax:\n",
      " [[-0.01418171 -0.01407704  0.02825875]\n",
      " [ 0.01039581  0.01029114 -0.02068695]]\n",
      "Torch SoftMax:\n",
      " [[-0.01418171 -0.01407704  0.02825875]\n",
      " [ 0.01039581  0.01029114 -0.02068695]]\n"
     ]
    }
   ],
   "execution_count": 13
  },
  {
   "cell_type": "markdown",
   "metadata": {
    "id": "sgo9jxXQPGRh"
   },
   "source": [
    "### 3. Negative LogLikelihood criterion (numerically unstable)\n",
    "[multiclass log loss](http://scikit-learn.org/stable/modules/model_evaluation.html#log-loss). Remember that targets are one-hot encoded. Note, that criterions are the only places, where you divide by batch size. Also there is a small hack with adding small number to probabilities to avoid computing log(0).\n",
    "- input:   **`batch_size x n_feats`** - probabilities\n",
    "- target: **`batch_size x n_feats`** - one-hot representation of ground truth\n",
    "- output: **scalar**##\n",
    "\n"
   ]
  },
  {
   "cell_type": "code",
   "source": [
    "class ClassNLLCriterionUnstable(Criterion):\n",
    "    EPS = 1e-15  # small constant for numerical stability\n",
    "\n",
    "    def __init__(self):\n",
    "        super(ClassNLLCriterionUnstable, self).__init__()\n",
    "\n",
    "        # We will keep around the softmax probabilities for use in backward().\n",
    "        self.probs = None\n",
    "\n",
    "    def updateOutput(self, input, target):\n",
    "        exps = np.exp(input)  # (batch_size, num_classes)\n",
    "        sums = np.sum(exps, axis=1, keepdims=True)  # (batch_size, 1)\n",
    "        self.probs = exps / sums  # (batch_size, num_classes)\n",
    "\n",
    "        batch_size = input.shape[0]\n",
    "        nlls = []\n",
    "        for i in range(batch_size):\n",
    "            p_i = self.probs[i, target[i]] + self.EPS\n",
    "            nlls.append(-np.log(p_i))\n",
    "\n",
    "        self.output = np.mean(nlls)\n",
    "        return self.output\n",
    "\n",
    "    def updateGradInput(self, input, target):\n",
    "        batch_size = input.shape[0]\n",
    "\n",
    "        grad = self.probs.copy()\n",
    "        for i in range(batch_size):\n",
    "            grad[i, target[i]] -= 1.0\n",
    "\n",
    "        self.gradInput = grad / batch_size\n",
    "        return self.gradInput\n",
    "\n",
    "    def __repr__(self):\n",
    "        return \"ClassNLLCriterionUnstable\""
   ],
   "metadata": {
    "id": "loO8BVGaBGBr",
    "ExecuteTime": {
     "end_time": "2025-02-15T13:31:29.947428Z",
     "start_time": "2025-02-15T13:31:29.944157Z"
    }
   },
   "outputs": [],
   "execution_count": 14
  },
  {
   "cell_type": "code",
   "source": [
    "np.random.seed(0)\n",
    "torch.manual_seed(0)\n",
    "N, C = 5, 10\n",
    "\n",
    "# Генерация вероятностей для кастома\n",
    "custom_probs = np.random.rand(N, C)\n",
    "custom_probs = custom_probs / np.sum(custom_probs, axis=1, keepdims=True)\n",
    "\n",
    "# Генерация целевых меток для кастома\n",
    "custom_target = np.random.randint(0, C, size=N)\n",
    "\n",
    "# Кастомная реализация функции потерь (Custom NLL)\n",
    "crit_custom = ClassNLLCriterionUnstable()\n",
    "loss_custom = crit_custom.updateOutput(custom_probs, custom_target)\n",
    "grad_custom = crit_custom.updateGradInput(custom_probs, custom_target)\n",
    "\n",
    "print(\"Custom Loss:\", loss_custom)\n",
    "print(\"Custom Gradient:\\n\", grad_custom)\n",
    "\n",
    "# PyTorch реализация (NLLLoss)\n",
    "EPS = 1e-15\n",
    "custom_probs_torch = torch.tensor(custom_probs, dtype=torch.float32, requires_grad=True)\n",
    "custom_target_torch = torch.tensor(custom_target, dtype=torch.long)\n",
    "custom_probs_torch_clipped = torch.clamp(custom_probs_torch, min=EPS)\n",
    "custom_log_probs_torch = torch.log(custom_probs_torch_clipped)\n",
    "\n",
    "crit_torch = nn.NLLLoss(reduction='mean')\n",
    "loss_torch = crit_torch(custom_log_probs_torch, custom_target_torch)\n",
    "loss_torch.backward()\n",
    "grad_torch = custom_probs_torch.grad.data.numpy()\n",
    "\n",
    "print(\"PyTorch Loss:\", loss_torch.item())\n",
    "print(\"PyTorch Gradient:\\n\", grad_torch)\n"
   ],
   "metadata": {
    "colab": {
     "base_uri": "https://localhost:8080/"
    },
    "id": "jH_AqFe2BMaj",
    "outputId": "7fcc9df7-da54-4b0d-859d-f0b0a11467bf",
    "ExecuteTime": {
     "end_time": "2025-02-15T13:36:02.011521Z",
     "start_time": "2025-02-15T13:36:02.005147Z"
    }
   },
   "outputs": [
    {
     "name": "stdout",
     "output_type": "stream",
     "text": [
      "Custom Loss: 2.3285357862456886\n",
      "Custom Gradient:\n",
      " [[ 0.01977479  0.02031637  0.0199488   0.01976217  0.01937691  0.02008902\n",
      "   0.0194208   0.02090742  0.02115294 -0.18074922]\n",
      " [ 0.02087327  0.01989464  0.02003745  0.02139009 -0.18170187  0.01835201\n",
      "   0.01812903  0.02102981  0.02082159  0.02117397]\n",
      " [ 0.02139497  0.02074339  0.01957068  0.0206769  -0.18155331  0.02018187\n",
      "   0.01852659  0.02127015  0.01977535  0.01941341]\n",
      " [ 0.01896106  0.02078327  0.01962651  0.02002731  0.01814037  0.0202055\n",
      "  -0.17981464  0.02020295  0.02142733  0.02044034]\n",
      " [ 0.01980902  0.02020567  0.02159817  0.01834945 -0.17857164  0.02144958\n",
      "   0.01906779  0.01867468  0.01958697  0.01983032]]\n",
      "PyTorch Loss: 2.9976301193237305\n",
      "PyTorch Gradient:\n",
      " [[  0.          0.          0.          0.          0.          0.\n",
      "    0.          0.          0.         -3.2117872]\n",
      " [  0.          0.          0.          0.        -15.410296    0.\n",
      "    0.          0.          0.          0.       ]\n",
      " [  0.          0.          0.          0.         -9.81195     0.\n",
      "    0.          0.          0.          0.       ]\n",
      " [  0.          0.          0.          0.          0.          0.\n",
      "   -1.8148786   0.          0.          0.       ]\n",
      " [  0.          0.          0.          0.         -1.1728987   0.\n",
      "    0.          0.          0.          0.       ]]\n"
     ]
    }
   ],
   "execution_count": 16
  },
  {
   "cell_type": "code",
   "execution_count": null,
   "metadata": {
    "id": "dUvohjyp6yXP"
   },
   "outputs": [],
   "source": [
    "def simple_sgd(variables, gradients, config, state):\n",
    "    # 'variables' and 'gradients' have complex structure, accumulated_grads will be stored in a simpler one\n",
    "    state.setdefault('accumulated_grads', {})\n",
    "\n",
    "    var_index = 0\n",
    "    for current_layer_vars, current_layer_grads in zip(variables, gradients):\n",
    "        for current_var, current_grad in zip(current_layer_vars, current_layer_grads):\n",
    "\n",
    "            current_var -= config['learning_rate'] * current_grad\n",
    "            var_index += 1"
   ]
  },
  {
   "cell_type": "markdown",
   "metadata": {
    "id": "h2TE4a3-6yXP"
   },
   "source": [
    "## Toy training example"
   ]
  },
  {
   "cell_type": "markdown",
   "metadata": {
    "id": "9ewrE7tb6yXP"
   },
   "source": [
    "Use this example to debug your code, just logistic regression. You do not need to change anything here. This code is provided for you to test the layers."
   ]
  },
  {
   "cell_type": "code",
   "execution_count": null,
   "metadata": {
    "colab": {
     "base_uri": "https://localhost:8080/",
     "height": 448
    },
    "id": "JlD2ypxA6yXP",
    "outputId": "d7a23faa-6d3c-44ee-f815-5388f05260e5",
    "scrolled": false
   },
   "outputs": [
    {
     "output_type": "execute_result",
     "data": {
      "text/plain": [
       "<matplotlib.collections.PathCollection at 0x7adf8f3d9850>"
      ]
     },
     "metadata": {},
     "execution_count": 25
    },
    {
     "output_type": "display_data",
     "data": {
      "text/plain": [
       "<Figure size 640x480 with 1 Axes>"
      ],
      "image/png": "[encoded data removed]"
     },
     "metadata": {}
    }
   ],
   "source": [
    "# Generate some data\n",
    "N = 500\n",
    "\n",
    "X1 = np.random.randn(N,2) + np.array([2,2])\n",
    "X2 = np.random.randn(N,2) + np.array([-2,-2])\n",
    "\n",
    "Y = np.concatenate([np.ones(N),np.zeros(N)])[:,None]\n",
    "Y = np.hstack([Y, 1-Y])\n",
    "\n",
    "X = np.vstack([X1,X2])\n",
    "plt.scatter(X[:,0],X[:,1], c = Y[:,0], edgecolors= 'none')"
   ]
  },
  {
   "cell_type": "markdown",
   "metadata": {
    "id": "6YA59tRe6yXQ"
   },
   "source": [
    "Define a **logistic regression** for debugging."
   ]
  },
  {
   "cell_type": "code",
   "execution_count": null,
   "metadata": {
    "colab": {
     "base_uri": "https://localhost:8080/"
    },
    "id": "wBkFEbVA6yXR",
    "outputId": "d6f7daf7-8b34-426a-918b-be042adc5178"
   },
   "outputs": [
    {
     "output_type": "stream",
     "name": "stdout",
     "text": [
      "Linear 2 -> 2\n",
      "SoftMax\n",
      "\n"
     ]
    }
   ],
   "source": [
    "net = Sequential()\n",
    "net.add(Linear(2, 2))\n",
    "\n",
    "net.add(SoftMax())\n",
    "criterion = ClassNLLCriterionUnstable()\n",
    "\n",
    "print(net)"
   ]
  },
  {
   "cell_type": "markdown",
   "metadata": {
    "id": "8TmMYZrF6yXR"
   },
   "source": [
    "Start with batch_size = 1000 to make sure every step lowers the loss, then try stochastic version."
   ]
  },
  {
   "cell_type": "code",
   "execution_count": null,
   "metadata": {
    "id": "_eG4lPvr6yXR"
   },
   "outputs": [],
   "source": [
    "# Optimizer params\n",
    "optimizer_config = {'learning_rate' : 1e-1}\n",
    "optimizer_state = {}\n",
    "\n",
    "# Looping params\n",
    "n_epoch = 20\n",
    "batch_size = 128"
   ]
  },
  {
   "cell_type": "code",
   "execution_count": null,
   "metadata": {
    "id": "0wfDdxLc6yXR"
   },
   "outputs": [],
   "source": [
    "# batch generator\n",
    "def get_batches(dataset, batch_size):\n",
    "    X, Y = dataset\n",
    "    n_samples = X.shape[0]\n",
    "\n",
    "    # Shuffle at the start of epoch\n",
    "    indices = np.arange(n_samples)\n",
    "    np.random.shuffle(indices)\n",
    "\n",
    "    for start in range(0, n_samples, batch_size):\n",
    "        end = min(start + batch_size, n_samples)\n",
    "\n",
    "        batch_idx = indices[start:end]\n",
    "\n",
    "        yield X[batch_idx], Y[batch_idx]"
   ]
  },
  {
   "cell_type": "markdown",
   "metadata": {
    "id": "z_ro0Qqd6yXS"
   },
   "source": [
    "### Train"
   ]
  },
  {
   "cell_type": "markdown",
   "metadata": {
    "id": "7kjj3f5Q6yXS"
   },
   "source": [
    "Basic training loop. Examine it."
   ]
  },
  {
   "cell_type": "code",
   "execution_count": null,
   "metadata": {
    "colab": {
     "base_uri": "https://localhost:8080/",
     "height": 582
    },
    "id": "uHr99fks6yXS",
    "outputId": "5f6a24fe-c903-4ad1-bd2a-76bf207a4f33",
    "scrolled": false
   },
   "outputs": [
    {
     "output_type": "display_data",
     "data": {
      "text/plain": [
       "<Figure size 800x600 with 1 Axes>"
      ],
      "image/png": "[encoded data removed]"
     },
     "metadata": {}
    },
    {
     "output_type": "stream",
     "name": "stdout",
     "text": [
      "Current loss: 0.693637\n"
     ]
    }
   ],
   "source": [
    "loss_history = []\n",
    "\n",
    "for i in range(n_epoch):\n",
    "    for x_batch, y_batch in get_batches((X, Y), batch_size):\n",
    "\n",
    "        net.zeroGradParameters()\n",
    "\n",
    "        # Forward\n",
    "        predictions = net.forward(x_batch)\n",
    "        loss = criterion.forward(predictions, y_batch.astype(np.int32))\n",
    "\n",
    "        # Backward\n",
    "        dp = criterion.backward(predictions, y_batch.astype(np.int32))\n",
    "        net.backward(x_batch, dp)\n",
    "\n",
    "        # Update weights\n",
    "        simple_sgd(net.getParameters(),\n",
    "                   net.getGradParameters(),\n",
    "                   optimizer_config,\n",
    "                   optimizer_state)\n",
    "\n",
    "        loss_history.append(loss)\n",
    "\n",
    "    # Visualize\n",
    "    display.clear_output(wait=True)\n",
    "    plt.figure(figsize=(8, 6))\n",
    "\n",
    "    plt.title(\"Training loss\")\n",
    "    plt.xlabel(\"#iteration\")\n",
    "    plt.ylabel(\"loss\")\n",
    "    plt.plot(loss_history, 'b')\n",
    "    plt.show()\n",
    "\n",
    "    print('Current loss: %f' % loss)"
   ]
  }
 ],
 "metadata": {
  "colab": {
   "provenance": [],
   "gpuType": "V28"
  },
  "kernelspec": {
   "display_name": "Python 3 (ipykernel)",
   "name": "python3",
   "language": "python"
  },
  "language_info": {
   "codemirror_mode": {
    "name": "ipython",
    "version": 3
   },
   "file_extension": ".py",
   "mimetype": "text/x-python",
   "name": "python",
   "nbconvert_exporter": "python",
   "pygments_lexer": "ipython3",
   "version": "3.7.3"
  },
  "accelerator": "TPU"
 },
 "nbformat": 4,
 "nbformat_minor": 0
}
