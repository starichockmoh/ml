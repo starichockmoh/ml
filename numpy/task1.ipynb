{
 "cells": [
  {
   "cell_type": "markdown",
   "id": "777ad24791fdd28",
   "metadata": {},
   "source": [
    "1. Сгенерировать матрицу размером 4 × 9, заполненную случайными целыми числами из отрезка [0,20] и вывести ее на на экран."
   ]
  },
  {
   "cell_type": "code",
   "execution_count": 1,
   "id": "initial_id",
   "metadata": {
    "collapsed": true,
    "jupyter": {
     "outputs_hidden": true
    },
    "ExecuteTime": {
     "end_time": "2024-09-17T10:07:43.826595700Z",
     "start_time": "2024-09-17T10:07:42.987826200Z"
    }
   },
   "outputs": [
    {
     "name": "stdout",
     "output_type": "stream",
     "text": [
      "[[ 3  8 19  1 15 13 11  6 11]\n",
      " [ 3 10  5 12 10 16  4  3 13]\n",
      " [14 10 14  2  7  6  1  2 20]\n",
      " [ 3  4 11 14  4  7 13  7  7]]\n"
     ]
    }
   ],
   "source": [
    "import numpy as np\n",
    "\n",
    "\n",
    "arr = np.random.randint(low=0, high=21, size=(4, 9))\n",
    "print(arr)"
   ]
  },
  {
   "cell_type": "markdown",
   "id": "20cdbc7c31fcf4ec",
   "metadata": {},
   "source": [
    "2. Вывести на экран элемент с индексами [2, 6]."
   ]
  },
  {
   "cell_type": "code",
   "execution_count": 2,
   "id": "8f97e660394e57c1",
   "metadata": {
    "ExecuteTime": {
     "end_time": "2024-09-17T10:07:50.887980500Z",
     "start_time": "2024-09-17T10:07:50.851456700Z"
    }
   },
   "outputs": [
    {
     "name": "stdout",
     "output_type": "stream",
     "text": [
      "1\n"
     ]
    }
   ],
   "source": [
    "print(arr[2, 6])"
   ]
  },
  {
   "cell_type": "markdown",
   "id": "cc4857b2f99c4dfe",
   "metadata": {},
   "source": [
    "3. Вывести на экран столбец матрицы под номером 3."
   ]
  },
  {
   "cell_type": "code",
   "execution_count": 3,
   "id": "f8af6b1629ce236c",
   "metadata": {
    "ExecuteTime": {
     "end_time": "2024-09-17T10:07:54.031701800Z",
     "start_time": "2024-09-17T10:07:53.994293900Z"
    }
   },
   "outputs": [
    {
     "name": "stdout",
     "output_type": "stream",
     "text": [
      "[19  5 14 11]\n"
     ]
    }
   ],
   "source": [
    "print(arr[ : , 2])"
   ]
  },
  {
   "cell_type": "markdown",
   "id": "62168cf891028e4c",
   "metadata": {},
   "source": [
    "4. Вывести на экран каждый второй элемент третьей строки матрицы."
   ]
  },
  {
   "cell_type": "code",
   "execution_count": 4,
   "id": "bbf1e08f02e3edfb",
   "metadata": {
    "ExecuteTime": {
     "end_time": "2024-09-17T10:07:56.180756900Z",
     "start_time": "2024-09-17T10:07:56.153620800Z"
    }
   },
   "outputs": [
    {
     "name": "stdout",
     "output_type": "stream",
     "text": [
      "[10  2  6  2]\n"
     ]
    }
   ],
   "source": [
    "print(arr[2][1 : : 2])"
   ]
  },
  {
   "cell_type": "markdown",
   "id": "69553acaaec28529",
   "metadata": {},
   "source": [
    "5. Вывести на экран элементы последнего столбца в обратном порядке."
   ]
  },
  {
   "cell_type": "code",
   "execution_count": 15,
   "id": "f14dfa6f006273f6",
   "metadata": {
    "ExecuteTime": {
     "end_time": "2024-09-17T10:16:30.158096400Z",
     "start_time": "2024-09-17T10:16:30.101262700Z"
    }
   },
   "outputs": [
    {
     "name": "stdout",
     "output_type": "stream",
     "text": [
      "[ 7 20 13 11]\n"
     ]
    }
   ],
   "source": [
    "print(arr[ ::-1 , -1])"
   ]
  },
  {
   "cell_type": "markdown",
   "id": "b9425bc122a3adeb",
   "metadata": {},
   "source": [
    "6. Изменить форму матрицы с 4 × 9 на 6 × 6."
   ]
  },
  {
   "cell_type": "code",
   "execution_count": 6,
   "id": "4912fd672356ba3",
   "metadata": {
    "ExecuteTime": {
     "end_time": "2024-09-17T10:08:00.375472800Z",
     "start_time": "2024-09-17T10:08:00.333454800Z"
    }
   },
   "outputs": [
    {
     "name": "stdout",
     "output_type": "stream",
     "text": [
      "[[ 3  8 19  1 15 13]\n",
      " [11  6 11  3 10  5]\n",
      " [12 10 16  4  3 13]\n",
      " [14 10 14  2  7  6]\n",
      " [ 1  2 20  3  4 11]\n",
      " [14  4  7 13  7  7]]\n"
     ]
    }
   ],
   "source": [
    "reshaped_arr = arr.reshape(6, 6)\n",
    "print(reshaped_arr)"
   ]
  },
  {
   "cell_type": "markdown",
   "id": "8acf102dd60005bb",
   "metadata": {},
   "source": [
    "7. Возвести каждый элемент матрицы в заданную степень."
   ]
  },
  {
   "cell_type": "code",
   "execution_count": 7,
   "id": "de4e5d31e8974502",
   "metadata": {
    "ExecuteTime": {
     "end_time": "2024-09-17T10:08:02.955883200Z",
     "start_time": "2024-09-17T10:08:02.925044900Z"
    }
   },
   "outputs": [
    {
     "name": "stdout",
     "output_type": "stream",
     "text": [
      "[[  9  64 361   1 225 169]\n",
      " [121  36 121   9 100  25]\n",
      " [144 100 256  16   9 169]\n",
      " [196 100 196   4  49  36]\n",
      " [  1   4 400   9  16 121]\n",
      " [196  16  49 169  49  49]]\n"
     ]
    }
   ],
   "source": [
    "degree_arr = reshaped_arr ** 2 \n",
    "print(degree_arr)"
   ]
  },
  {
   "cell_type": "markdown",
   "id": "b2c874c9ba90886f",
   "metadata": {},
   "source": [
    "8. Найти минимум на главной диагонали."
   ]
  },
  {
   "cell_type": "code",
   "execution_count": 8,
   "id": "82e67a9126fae4f",
   "metadata": {
    "ExecuteTime": {
     "end_time": "2024-09-17T10:08:05.466548400Z",
     "start_time": "2024-09-17T10:08:05.436729900Z"
    }
   },
   "outputs": [
    {
     "name": "stdout",
     "output_type": "stream",
     "text": [
      "4\n"
     ]
    }
   ],
   "source": [
    "print(np.diagonal(degree_arr).min())"
   ]
  },
  {
   "cell_type": "markdown",
   "id": "d5b0288f7943f74b",
   "metadata": {},
   "source": [
    "9. Найти максимальный элемент в предпоследнем столбце."
   ]
  },
  {
   "cell_type": "code",
   "execution_count": 9,
   "id": "ba6ea4fb6e3c2442",
   "metadata": {
    "ExecuteTime": {
     "end_time": "2024-09-17T10:08:08.017706100Z",
     "start_time": "2024-09-17T10:08:07.984998900Z"
    }
   },
   "outputs": [
    {
     "name": "stdout",
     "output_type": "stream",
     "text": [
      "225\n"
     ]
    }
   ],
   "source": [
    "print(degree_arr[ : , -2].max())"
   ]
  },
  {
   "cell_type": "markdown",
   "id": "d4bd7190b98a4964",
   "metadata": {},
   "source": [
    "10. Определить, образуют ли элементы сжатого до одной оси массива невозрастающую последовательность."
   ]
  },
  {
   "cell_type": "code",
   "execution_count": 10,
   "id": "f89ae8a587b30c3a",
   "metadata": {
    "ExecuteTime": {
     "end_time": "2024-09-17T10:08:10.382401400Z",
     "start_time": "2024-09-17T10:08:10.333735300Z"
    }
   },
   "outputs": [
    {
     "name": "stdout",
     "output_type": "stream",
     "text": [
      "[  9  64 361   1 225 169 121  36 121   9 100  25 144 100 256  16   9 169\n",
      " 196 100 196   4  49  36   1   4 400   9  16 121 196  16  49 169  49  49]\n",
      "[400 361 256 225 196 196 196 169 169 169 144 121 121 121 100 100 100  64\n",
      "  49  49  49  49  36  36  25  16  16  16   9   9   9   9   4   4   1   1]\n",
      "False\n"
     ]
    }
   ],
   "source": [
    "zip_arr = degree_arr.reshape(-1)\n",
    "sorted_arr = np.sort(zip_arr)[-1 : : -1]\n",
    "print(zip_arr)\n",
    "print(sorted_arr)\n",
    "bool_arr = zip_arr == sorted_arr\n",
    "print(bool_arr.min())"
   ]
  },
  {
   "cell_type": "markdown",
   "id": "3caf5c918d17b2f2",
   "metadata": {},
   "source": [
    "11. Подсчитать произведение ненулевых элементов на побочной диагонали."
   ]
  },
  {
   "cell_type": "code",
   "execution_count": 11,
   "id": "bd479ab996dde967",
   "metadata": {
    "ExecuteTime": {
     "end_time": "2024-09-17T10:08:13.322842200Z",
     "start_time": "2024-09-17T10:08:13.297549900Z"
    }
   },
   "outputs": [
    {
     "name": "stdout",
     "output_type": "stream",
     "text": [
      "41550745600\n"
     ]
    }
   ],
   "source": [
    "anti_diagonal = np.fliplr(degree_arr).diagonal()\n",
    "non_zero_elements = anti_diagonal[anti_diagonal != 0]\n",
    "print(np.prod(non_zero_elements))"
   ]
  },
  {
   "cell_type": "markdown",
   "id": "833693792a59229f",
   "metadata": {},
   "source": [
    "12. Создать массив из случайных целых чисел из [-20, 20] размерностью 15"
   ]
  },
  {
   "cell_type": "code",
   "execution_count": 12,
   "id": "e1f3246a401b3cc7",
   "metadata": {
    "ExecuteTime": {
     "end_time": "2024-09-17T10:08:15.494644Z",
     "start_time": "2024-09-17T10:08:15.449411300Z"
    }
   },
   "outputs": [
    {
     "name": "stdout",
     "output_type": "stream",
     "text": [
      "[ -5 -16  20   9   0  13 -14 -18  20 -21  10 -15  18 -15   6]\n"
     ]
    }
   ],
   "source": [
    "new_arr = np.random.randint(low=-21, high=21, size=15)\n",
    "print(new_arr)"
   ]
  },
  {
   "cell_type": "markdown",
   "id": "444d497655585a59",
   "metadata": {},
   "source": [
    "13. Выведите только положительные элементы массива"
   ]
  },
  {
   "cell_type": "code",
   "execution_count": 13,
   "id": "b25edbf83ec3ead4",
   "metadata": {
    "ExecuteTime": {
     "end_time": "2024-09-17T10:08:17.214708300Z",
     "start_time": "2024-09-17T10:08:17.186349900Z"
    }
   },
   "outputs": [
    {
     "name": "stdout",
     "output_type": "stream",
     "text": [
      "[20  9 13 20 10 18  6]\n"
     ]
    }
   ],
   "source": [
    "print(new_arr[new_arr > 0])\n"
   ]
  },
  {
   "cell_type": "markdown",
   "id": "854d12ecebb26804",
   "metadata": {},
   "source": [
    "14. Посчитайте количество четных элементов в массиве"
   ]
  },
  {
   "cell_type": "code",
   "execution_count": 16,
   "id": "73474430f75d7b70",
   "metadata": {
    "ExecuteTime": {
     "end_time": "2024-09-17T10:19:52.010979400Z",
     "start_time": "2024-09-17T10:19:51.976121Z"
    }
   },
   "outputs": [
    {
     "name": "stdout",
     "output_type": "stream",
     "text": [
      "9\n"
     ]
    }
   ],
   "source": [
    "print(len(new_arr[new_arr % 2 == 0]))"
   ]
  },
  {
   "cell_type": "code",
   "execution_count": null,
   "outputs": [],
   "source": [],
   "metadata": {
    "collapsed": false
   },
   "id": "34a9e70acf948517"
  }
 ],
 "metadata": {
  "kernelspec": {
   "display_name": "Python 3 (ipykernel)",
   "language": "python",
   "name": "python3"
  },
  "language_info": {
   "codemirror_mode": {
    "name": "ipython",
    "version": 3
   },
   "file_extension": ".py",
   "mimetype": "text/x-python",
   "name": "python",
   "nbconvert_exporter": "python",
   "pygments_lexer": "ipython3",
   "version": "3.12.3"
  }
 },
 "nbformat": 4,
 "nbformat_minor": 5
}
