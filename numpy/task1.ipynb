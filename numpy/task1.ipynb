{
 "cells": [
  {
   "metadata": {},
   "cell_type": "markdown",
   "source": "1. Сгенерировать матрицу размером 4 × 9, заполненную случайными целыми числами из отрезка [0,20] и вывести ее на на экран.",
   "id": "777ad24791fdd28"
  },
  {
   "metadata": {
    "collapsed": true,
    "ExecuteTime": {
     "end_time": "2024-09-10T17:54:27.434158Z",
     "start_time": "2024-09-10T17:54:27.431618Z"
    }
   },
   "cell_type": "code",
   "source": [
    "import numpy as np\n",
    "\n",
    "\n",
    "arr = np.random.randint(low=0, high=21, size=(4, 9))\n",
    "print(arr)"
   ],
   "id": "initial_id",
   "outputs": [
    {
     "name": "stdout",
     "output_type": "stream",
     "text": [
      "[[ 3 11 17  1 20 10 15 16  9]\n",
      " [ 0 18 15  1  7  0  7 13  5]\n",
      " [ 9 20 17 12 17  1  2 12 12]\n",
      " [ 5 12 10 18 19 13  8 20 13]]\n"
     ]
    }
   ],
   "execution_count": 56
  },
  {
   "metadata": {},
   "cell_type": "markdown",
   "source": "2. Вывести на экран элемент с индексами [2, 6].",
   "id": "20cdbc7c31fcf4ec"
  },
  {
   "metadata": {
    "ExecuteTime": {
     "end_time": "2024-09-10T17:54:40.796593Z",
     "start_time": "2024-09-10T17:54:40.791045Z"
    }
   },
   "cell_type": "code",
   "source": "print(arr[2, 6])",
   "id": "8f97e660394e57c1",
   "outputs": [
    {
     "name": "stdout",
     "output_type": "stream",
     "text": [
      "2\n"
     ]
    }
   ],
   "execution_count": 58
  },
  {
   "metadata": {},
   "cell_type": "markdown",
   "source": "3. Вывести на экран столбец матрицы под номером 3.",
   "id": "cc4857b2f99c4dfe"
  },
  {
   "metadata": {
    "ExecuteTime": {
     "end_time": "2024-09-10T17:54:45.117297Z",
     "start_time": "2024-09-10T17:54:45.114638Z"
    }
   },
   "cell_type": "code",
   "source": "print(arr[ : , 2])",
   "id": "f8af6b1629ce236c",
   "outputs": [
    {
     "name": "stdout",
     "output_type": "stream",
     "text": [
      "[17 15 17 10]\n"
     ]
    }
   ],
   "execution_count": 59
  },
  {
   "metadata": {},
   "cell_type": "markdown",
   "source": "4. Вывести на экран каждый второй элемент третьей строки матрицы.",
   "id": "62168cf891028e4c"
  },
  {
   "metadata": {
    "ExecuteTime": {
     "end_time": "2024-09-10T17:54:58.513263Z",
     "start_time": "2024-09-10T17:54:58.509951Z"
    }
   },
   "cell_type": "code",
   "source": "print(arr[2][1 : : 2])",
   "id": "bbf1e08f02e3edfb",
   "outputs": [
    {
     "name": "stdout",
     "output_type": "stream",
     "text": [
      "[20 12  1 12]\n"
     ]
    }
   ],
   "execution_count": 60
  },
  {
   "metadata": {},
   "cell_type": "markdown",
   "source": "5. Вывести на экран элементы последнего столбца в обратном порядке.",
   "id": "69553acaaec28529"
  },
  {
   "metadata": {
    "ExecuteTime": {
     "end_time": "2024-09-10T17:55:13.714685Z",
     "start_time": "2024-09-10T17:55:13.712092Z"
    }
   },
   "cell_type": "code",
   "source": "print(arr[ : , -1][-1 : : -1])",
   "id": "f14dfa6f006273f6",
   "outputs": [
    {
     "name": "stdout",
     "output_type": "stream",
     "text": [
      "[13 12  5  9]\n"
     ]
    }
   ],
   "execution_count": 61
  },
  {
   "metadata": {},
   "cell_type": "markdown",
   "source": "6. Изменить форму матрицы с 4 × 9 на 6 × 6.",
   "id": "b9425bc122a3adeb"
  },
  {
   "metadata": {
    "ExecuteTime": {
     "end_time": "2024-09-10T17:55:25.562065Z",
     "start_time": "2024-09-10T17:55:25.559359Z"
    }
   },
   "cell_type": "code",
   "source": [
    "reshaped_arr = arr.reshape(6, 6)\n",
    "print(reshaped_arr)"
   ],
   "id": "4912fd672356ba3",
   "outputs": [
    {
     "name": "stdout",
     "output_type": "stream",
     "text": [
      "[[ 3 11 17  1 20 10]\n",
      " [15 16  9  0 18 15]\n",
      " [ 1  7  0  7 13  5]\n",
      " [ 9 20 17 12 17  1]\n",
      " [ 2 12 12  5 12 10]\n",
      " [18 19 13  8 20 13]]\n"
     ]
    }
   ],
   "execution_count": 62
  },
  {
   "metadata": {},
   "cell_type": "markdown",
   "source": "7. Возвести каждый элемент матрицы в заданную степень.",
   "id": "8acf102dd60005bb"
  },
  {
   "metadata": {
    "ExecuteTime": {
     "end_time": "2024-09-10T17:55:31.448356Z",
     "start_time": "2024-09-10T17:55:31.441544Z"
    }
   },
   "cell_type": "code",
   "source": [
    "degree_arr = reshaped_arr ** 2 \n",
    "print(degree_arr)"
   ],
   "id": "de4e5d31e8974502",
   "outputs": [
    {
     "name": "stdout",
     "output_type": "stream",
     "text": [
      "[[  9 121 289   1 400 100]\n",
      " [225 256  81   0 324 225]\n",
      " [  1  49   0  49 169  25]\n",
      " [ 81 400 289 144 289   1]\n",
      " [  4 144 144  25 144 100]\n",
      " [324 361 169  64 400 169]]\n"
     ]
    }
   ],
   "execution_count": 63
  },
  {
   "metadata": {},
   "cell_type": "markdown",
   "source": "8. Найти минимум на главной диагонали.",
   "id": "b2c874c9ba90886f"
  },
  {
   "metadata": {
    "ExecuteTime": {
     "end_time": "2024-09-10T17:55:36.051830Z",
     "start_time": "2024-09-10T17:55:36.049638Z"
    }
   },
   "cell_type": "code",
   "source": "print(np.diagonal(degree_arr).min())",
   "id": "82e67a9126fae4f",
   "outputs": [
    {
     "name": "stdout",
     "output_type": "stream",
     "text": [
      "0\n"
     ]
    }
   ],
   "execution_count": 64
  },
  {
   "metadata": {},
   "cell_type": "markdown",
   "source": "9. Найти максимальный элемент в предпоследнем столбце.",
   "id": "d5b0288f7943f74b"
  },
  {
   "metadata": {
    "ExecuteTime": {
     "end_time": "2024-09-10T17:55:40.297366Z",
     "start_time": "2024-09-10T17:55:40.294145Z"
    }
   },
   "cell_type": "code",
   "source": "print(degree_arr[ : , -2].max())",
   "id": "ba6ea4fb6e3c2442",
   "outputs": [
    {
     "name": "stdout",
     "output_type": "stream",
     "text": [
      "400\n"
     ]
    }
   ],
   "execution_count": 65
  },
  {
   "metadata": {},
   "cell_type": "markdown",
   "source": "10. Определить, образуют ли элементы сжатого до одной оси массива невозрастающую последовательность.",
   "id": "d4bd7190b98a4964"
  },
  {
   "metadata": {
    "ExecuteTime": {
     "end_time": "2024-09-10T17:55:49.288339Z",
     "start_time": "2024-09-10T17:55:49.282034Z"
    }
   },
   "cell_type": "code",
   "source": [
    "zip_arr = degree_arr.reshape(-1)\n",
    "sorted_arr = np.sort(zip_arr)[-1 : : -1]\n",
    "print(zip_arr)\n",
    "print(sorted_arr)\n",
    "bool_arr = zip_arr == sorted_arr\n",
    "print(bool_arr.min())"
   ],
   "id": "f89ae8a587b30c3a",
   "outputs": [
    {
     "name": "stdout",
     "output_type": "stream",
     "text": [
      "[  9 121 289   1 400 100 225 256  81   0 324 225   1  49   0  49 169  25\n",
      "  81 400 289 144 289   1   4 144 144  25 144 100 324 361 169  64 400 169]\n",
      "[400 400 400 361 324 324 289 289 289 256 225 225 169 169 169 144 144 144\n",
      " 144 121 100 100  81  81  64  49  49  25  25   9   4   1   1   1   0   0]\n",
      "False\n"
     ]
    }
   ],
   "execution_count": 66
  },
  {
   "metadata": {},
   "cell_type": "markdown",
   "source": "11. Подсчитать произведение ненулевых элементов на побочной диагонали.",
   "id": "3caf5c918d17b2f2"
  },
  {
   "metadata": {
    "ExecuteTime": {
     "end_time": "2024-09-10T17:56:09.714115Z",
     "start_time": "2024-09-10T17:56:09.710394Z"
    }
   },
   "cell_type": "code",
   "source": [
    "anti_diagonal = np.fliplr(degree_arr).diagonal()\n",
    "non_zero_elements = anti_diagonal[anti_diagonal != 0]\n",
    "print(np.prod(non_zero_elements))"
   ],
   "id": "bd479ab996dde967",
   "outputs": [
    {
     "name": "stdout",
     "output_type": "stream",
     "text": [
      "21406537958400\n"
     ]
    }
   ],
   "execution_count": 67
  },
  {
   "metadata": {},
   "cell_type": "markdown",
   "source": "12. Создать массив из случайных целых чисел из [-20, 20] размерностью 15",
   "id": "833693792a59229f"
  },
  {
   "metadata": {
    "ExecuteTime": {
     "end_time": "2024-09-10T17:56:18.338578Z",
     "start_time": "2024-09-10T17:56:18.333164Z"
    }
   },
   "cell_type": "code",
   "source": [
    "new_arr = np.random.randint(low=-21, high=21, size=15)\n",
    "print(new_arr)"
   ],
   "id": "e1f3246a401b3cc7",
   "outputs": [
    {
     "name": "stdout",
     "output_type": "stream",
     "text": [
      "[  1  19 -10  11   3   1  -1  19 -13  13   2 -11   4  -6 -11]\n"
     ]
    }
   ],
   "execution_count": 68
  },
  {
   "metadata": {},
   "cell_type": "markdown",
   "source": "13. Выведите только положительные элементы массива",
   "id": "444d497655585a59"
  },
  {
   "metadata": {
    "ExecuteTime": {
     "end_time": "2024-09-10T17:56:37.501879Z",
     "start_time": "2024-09-10T17:56:37.497175Z"
    }
   },
   "cell_type": "code",
   "source": "print(new_arr[new_arr > 0])\n",
   "id": "b25edbf83ec3ead4",
   "outputs": [
    {
     "name": "stdout",
     "output_type": "stream",
     "text": [
      "[ 1 19 11  3  1 19 13  2  4]\n"
     ]
    }
   ],
   "execution_count": 70
  },
  {
   "metadata": {},
   "cell_type": "markdown",
   "source": "14. Посчитайте количество четных элементов в массиве",
   "id": "854d12ecebb26804"
  },
  {
   "metadata": {
    "ExecuteTime": {
     "end_time": "2024-09-10T17:56:31.456681Z",
     "start_time": "2024-09-10T17:56:31.453928Z"
    }
   },
   "cell_type": "code",
   "source": "print(len(new_arr[new_arr % 2 == 0]))",
   "id": "73474430f75d7b70",
   "outputs": [
    {
     "name": "stdout",
     "output_type": "stream",
     "text": [
      "4\n"
     ]
    }
   ],
   "execution_count": 69
  }
 ],
 "metadata": {
  "kernelspec": {
   "display_name": "Python 3",
   "language": "python",
   "name": "python3"
  },
  "language_info": {
   "codemirror_mode": {
    "name": "ipython",
    "version": 2
   },
   "file_extension": ".py",
   "mimetype": "text/x-python",
   "name": "python",
   "nbconvert_exporter": "python",
   "pygments_lexer": "ipython2",
   "version": "2.7.6"
  }
 },
 "nbformat": 4,
 "nbformat_minor": 5
}
