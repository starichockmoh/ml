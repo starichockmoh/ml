{
 "cells": [
  {
   "cell_type": "markdown",
   "source": [
    "### 1 задание\n",
    "  Откройте набор данных. Посмотрите на содержимое, выведя в одержимое нескольких строчек"
   ],
   "metadata": {
    "collapsed": false
   },
   "id": "2cc29979ecab619e"
  },
  {
   "metadata": {
    "ExecuteTime": {
     "end_time": "2025-02-15T14:17:33.990Z",
     "start_time": "2025-02-15T14:17:33.834220Z"
    }
   },
   "cell_type": "code",
   "source": [
    "import pandas as pd\n",
    "\n",
    "df = pd.read_csv('./mental_health_and_technology_usage_2024.csv')\n",
    "df.head(5)"
   ],
   "id": "d45e976ddc04f07e",
   "outputs": [
    {
     "data": {
      "text/plain": [
       "      User_ID  Age  Gender  Technology_Usage_Hours  Social_Media_Usage_Hours  \\\n",
       "0  USER-00001   23  Female                    6.57                      6.00   \n",
       "1  USER-00002   21    Male                    3.01                      2.57   \n",
       "2  USER-00003   51    Male                    3.04                      6.14   \n",
       "3  USER-00004   25  Female                    3.84                      4.48   \n",
       "4  USER-00005   53    Male                    1.20                      0.56   \n",
       "\n",
       "   Gaming_Hours  Screen_Time_Hours Mental_Health_Status Stress_Level  \\\n",
       "0          0.68              12.36                 Good          Low   \n",
       "1          3.74               7.61                 Poor         High   \n",
       "2          1.26               3.16                 Fair         High   \n",
       "3          2.59              13.08            Excellent       Medium   \n",
       "4          0.29              12.63                 Good          Low   \n",
       "\n",
       "   Sleep_Hours  Physical_Activity_Hours Support_Systems_Access  \\\n",
       "0         8.01                     6.71                     No   \n",
       "1         7.28                     5.88                    Yes   \n",
       "2         8.04                     9.81                     No   \n",
       "3         5.62                     5.28                    Yes   \n",
       "4         5.55                     4.00                     No   \n",
       "\n",
       "  Work_Environment_Impact Online_Support_Usage  \n",
       "0                Negative                  Yes  \n",
       "1                Positive                   No  \n",
       "2                Negative                   No  \n",
       "3                Negative                  Yes  \n",
       "4                Positive                  Yes  "
      ],
      "text/html": [
       "<div>\n",
       "<style scoped>\n",
       "    .dataframe tbody tr th:only-of-type {\n",
       "        vertical-align: middle;\n",
       "    }\n",
       "\n",
       "    .dataframe tbody tr th {\n",
       "        vertical-align: top;\n",
       "    }\n",
       "\n",
       "    .dataframe thead th {\n",
       "        text-align: right;\n",
       "    }\n",
       "</style>\n",
       "<table border=\"1\" class=\"dataframe\">\n",
       "  <thead>\n",
       "    <tr style=\"text-align: right;\">\n",
       "      <th></th>\n",
       "      <th>User_ID</th>\n",
       "      <th>Age</th>\n",
       "      <th>Gender</th>\n",
       "      <th>Technology_Usage_Hours</th>\n",
       "      <th>Social_Media_Usage_Hours</th>\n",
       "      <th>Gaming_Hours</th>\n",
       "      <th>Screen_Time_Hours</th>\n",
       "      <th>Mental_Health_Status</th>\n",
       "      <th>Stress_Level</th>\n",
       "      <th>Sleep_Hours</th>\n",
       "      <th>Physical_Activity_Hours</th>\n",
       "      <th>Support_Systems_Access</th>\n",
       "      <th>Work_Environment_Impact</th>\n",
       "      <th>Online_Support_Usage</th>\n",
       "    </tr>\n",
       "  </thead>\n",
       "  <tbody>\n",
       "    <tr>\n",
       "      <th>0</th>\n",
       "      <td>USER-00001</td>\n",
       "      <td>23</td>\n",
       "      <td>Female</td>\n",
       "      <td>6.57</td>\n",
       "      <td>6.00</td>\n",
       "      <td>0.68</td>\n",
       "      <td>12.36</td>\n",
       "      <td>Good</td>\n",
       "      <td>Low</td>\n",
       "      <td>8.01</td>\n",
       "      <td>6.71</td>\n",
       "      <td>No</td>\n",
       "      <td>Negative</td>\n",
       "      <td>Yes</td>\n",
       "    </tr>\n",
       "    <tr>\n",
       "      <th>1</th>\n",
       "      <td>USER-00002</td>\n",
       "      <td>21</td>\n",
       "      <td>Male</td>\n",
       "      <td>3.01</td>\n",
       "      <td>2.57</td>\n",
       "      <td>3.74</td>\n",
       "      <td>7.61</td>\n",
       "      <td>Poor</td>\n",
       "      <td>High</td>\n",
       "      <td>7.28</td>\n",
       "      <td>5.88</td>\n",
       "      <td>Yes</td>\n",
       "      <td>Positive</td>\n",
       "      <td>No</td>\n",
       "    </tr>\n",
       "    <tr>\n",
       "      <th>2</th>\n",
       "      <td>USER-00003</td>\n",
       "      <td>51</td>\n",
       "      <td>Male</td>\n",
       "      <td>3.04</td>\n",
       "      <td>6.14</td>\n",
       "      <td>1.26</td>\n",
       "      <td>3.16</td>\n",
       "      <td>Fair</td>\n",
       "      <td>High</td>\n",
       "      <td>8.04</td>\n",
       "      <td>9.81</td>\n",
       "      <td>No</td>\n",
       "      <td>Negative</td>\n",
       "      <td>No</td>\n",
       "    </tr>\n",
       "    <tr>\n",
       "      <th>3</th>\n",
       "      <td>USER-00004</td>\n",
       "      <td>25</td>\n",
       "      <td>Female</td>\n",
       "      <td>3.84</td>\n",
       "      <td>4.48</td>\n",
       "      <td>2.59</td>\n",
       "      <td>13.08</td>\n",
       "      <td>Excellent</td>\n",
       "      <td>Medium</td>\n",
       "      <td>5.62</td>\n",
       "      <td>5.28</td>\n",
       "      <td>Yes</td>\n",
       "      <td>Negative</td>\n",
       "      <td>Yes</td>\n",
       "    </tr>\n",
       "    <tr>\n",
       "      <th>4</th>\n",
       "      <td>USER-00005</td>\n",
       "      <td>53</td>\n",
       "      <td>Male</td>\n",
       "      <td>1.20</td>\n",
       "      <td>0.56</td>\n",
       "      <td>0.29</td>\n",
       "      <td>12.63</td>\n",
       "      <td>Good</td>\n",
       "      <td>Low</td>\n",
       "      <td>5.55</td>\n",
       "      <td>4.00</td>\n",
       "      <td>No</td>\n",
       "      <td>Positive</td>\n",
       "      <td>Yes</td>\n",
       "    </tr>\n",
       "  </tbody>\n",
       "</table>\n",
       "</div>"
      ]
     },
     "execution_count": 1,
     "metadata": {},
     "output_type": "execute_result"
    }
   ],
   "execution_count": 1
  },
  {
   "cell_type": "markdown",
   "source": [
    "### 2 задание\n",
    "  Посмотрите с помощью методов Pandas на количество строчек и столбцов, информацию о столбцах (info)\n",
    "  \n",
    "  * User_ID: ID.\n",
    "  * Age: Возраст участника.\n",
    "  * Daily_Screen_Time (hours): Среднее ежедневное время экрана в часах.\n",
    "  * Mental_Health_Score (1-10): Оценка психического здоровья по самооценке, где 1 – плохо, 10 – отлично.\n",
    "  * Stress_Level (1-10): Уровень стресса по самооценке, где 1 — очень низкий, а 10 — очень высокий.\n",
    "  * Sleep_Quality (1-10): Самооценка качества сна.."
   ],
   "metadata": {
    "collapsed": false
   },
   "id": "e4569adc4806de0a"
  },
  {
   "cell_type": "code",
   "execution_count": 2,
   "outputs": [
    {
     "name": "stdout",
     "output_type": "stream",
     "text": [
      "<class 'pandas.core.frame.DataFrame'>\n",
      "RangeIndex: 10000 entries, 0 to 9999\n",
      "Data columns (total 14 columns):\n",
      " #   Column                    Non-Null Count  Dtype  \n",
      "---  ------                    --------------  -----  \n",
      " 0   User_ID                   10000 non-null  object \n",
      " 1   Age                       10000 non-null  int64  \n",
      " 2   Gender                    10000 non-null  object \n",
      " 3   Technology_Usage_Hours    10000 non-null  float64\n",
      " 4   Social_Media_Usage_Hours  10000 non-null  float64\n",
      " 5   Gaming_Hours              10000 non-null  float64\n",
      " 6   Screen_Time_Hours         10000 non-null  float64\n",
      " 7   Mental_Health_Status      10000 non-null  object \n",
      " 8   Stress_Level              10000 non-null  object \n",
      " 9   Sleep_Hours               10000 non-null  float64\n",
      " 10  Physical_Activity_Hours   10000 non-null  float64\n",
      " 11  Support_Systems_Access    10000 non-null  object \n",
      " 12  Work_Environment_Impact   10000 non-null  object \n",
      " 13  Online_Support_Usage      10000 non-null  object \n",
      "dtypes: float64(6), int64(1), object(7)\n",
      "memory usage: 1.1+ MB\n"
     ]
    }
   ],
   "source": [
    "df.info()"
   ],
   "metadata": {
    "collapsed": false,
    "ExecuteTime": {
     "end_time": "2024-10-01T09:51:08.489695500Z",
     "start_time": "2024-10-01T09:51:08.452713900Z"
    }
   },
   "id": "45b6205e6d66f5c0"
  },
  {
   "cell_type": "markdown",
   "source": [
    "### 3 задание\n",
    "  Выведите название столбцов и сопоставьте им русские названия в текстовой ячейке"
   ],
   "metadata": {
    "collapsed": false
   },
   "id": "bf6d0a18008d71ea"
  },
  {
   "cell_type": "code",
   "execution_count": 3,
   "outputs": [
    {
     "data": {
      "text/plain": "['User_ID',\n 'Age',\n 'Gender',\n 'Technology_Usage_Hours',\n 'Social_Media_Usage_Hours',\n 'Gaming_Hours',\n 'Screen_Time_Hours',\n 'Mental_Health_Status',\n 'Stress_Level',\n 'Sleep_Hours',\n 'Physical_Activity_Hours',\n 'Support_Systems_Access',\n 'Work_Environment_Impact',\n 'Online_Support_Usage']"
     },
     "execution_count": 3,
     "metadata": {},
     "output_type": "execute_result"
    }
   ],
   "source": [
    "df.columns.tolist()"
   ],
   "metadata": {
    "collapsed": false,
    "ExecuteTime": {
     "end_time": "2024-10-01T09:51:33.695172100Z",
     "start_time": "2024-10-01T09:51:33.668615Z"
    }
   },
   "id": "7410ac4fb1b1668e"
  },
  {
   "cell_type": "markdown",
   "source": [
    "1. User_ID — Идентификатор пользователя\n",
    "2. Age — Возраст\n",
    "3. Gender — Пол\n",
    "4. Technology_Usage_Hours — Часы использования технологий\n",
    "5. Social_Media_Usage_Hours — Часы использования социальных сетей\n",
    "6. Gaming_Hours — Часы, потраченные на игры\n",
    "7. Screen_Time_Hours — Время перед экраном (в часах)\n",
    "8. Mental_Health_Status — Состояние психического здоровья\n",
    "9. Stress_Level — Уровень стресса\n",
    "10. Sleep_Hours — Часы сна\n",
    "11. Physical_Activity_Hours — Часы физической активности\n",
    "12. Support_Systems_Access — Доступ к системам поддержки\n",
    "13. Work_Environment_Impact — Влияние рабочей среды\n",
    "14. Online_Support_Usage — Использование онлайн-поддержки"
   ],
   "metadata": {
    "collapsed": false
   },
   "id": "7e1ec859292c4889"
  },
  {
   "cell_type": "markdown",
   "source": [
    "### 4 задание\n",
    "  Посмотрите описание (describe) числовых столбцов. Сделайте вывод  о наборе по минимальному и максимальному значениям, по среднему значению, по значению квартилей"
   ],
   "metadata": {
    "collapsed": false
   },
   "id": "8b4639a1d806d2c7"
  },
  {
   "cell_type": "code",
   "execution_count": 4,
   "outputs": [
    {
     "data": {
      "text/plain": "                Age  Technology_Usage_Hours  Social_Media_Usage_Hours  \\\ncount  10000.000000            10000.000000              10000.000000   \nmean      41.518600                6.474341                  3.972321   \nstd       13.920217                3.169022                  2.313707   \nmin       18.000000                1.000000                  0.000000   \n25%       29.000000                3.760000                  1.980000   \n50%       42.000000                6.425000                  3.950000   \n75%       54.000000                9.212500                  5.990000   \nmax       65.000000               12.000000                  8.000000   \n\n       Gaming_Hours  Screen_Time_Hours   Sleep_Hours  Physical_Activity_Hours  \ncount  10000.000000       10000.000000  10000.000000             10000.000000  \nmean       2.515598           7.975765      6.500724                 5.003860  \nstd        1.446748           4.042608      1.450933                 2.905044  \nmin        0.000000           1.000000      4.000000                 0.000000  \n25%        1.260000           4.520000      5.260000                 2.490000  \n50%        2.520000           7.900000      6.500000                 4.990000  \n75%        3.790000          11.500000      7.760000                 7.540000  \nmax        5.000000          15.000000      9.000000                10.000000  ",
      "text/html": "<div>\n<style scoped>\n    .dataframe tbody tr th:only-of-type {\n        vertical-align: middle;\n    }\n\n    .dataframe tbody tr th {\n        vertical-align: top;\n    }\n\n    .dataframe thead th {\n        text-align: right;\n    }\n</style>\n<table border=\"1\" class=\"dataframe\">\n  <thead>\n    <tr style=\"text-align: right;\">\n      <th></th>\n      <th>Age</th>\n      <th>Technology_Usage_Hours</th>\n      <th>Social_Media_Usage_Hours</th>\n      <th>Gaming_Hours</th>\n      <th>Screen_Time_Hours</th>\n      <th>Sleep_Hours</th>\n      <th>Physical_Activity_Hours</th>\n    </tr>\n  </thead>\n  <tbody>\n    <tr>\n      <th>count</th>\n      <td>10000.000000</td>\n      <td>10000.000000</td>\n      <td>10000.000000</td>\n      <td>10000.000000</td>\n      <td>10000.000000</td>\n      <td>10000.000000</td>\n      <td>10000.000000</td>\n    </tr>\n    <tr>\n      <th>mean</th>\n      <td>41.518600</td>\n      <td>6.474341</td>\n      <td>3.972321</td>\n      <td>2.515598</td>\n      <td>7.975765</td>\n      <td>6.500724</td>\n      <td>5.003860</td>\n    </tr>\n    <tr>\n      <th>std</th>\n      <td>13.920217</td>\n      <td>3.169022</td>\n      <td>2.313707</td>\n      <td>1.446748</td>\n      <td>4.042608</td>\n      <td>1.450933</td>\n      <td>2.905044</td>\n    </tr>\n    <tr>\n      <th>min</th>\n      <td>18.000000</td>\n      <td>1.000000</td>\n      <td>0.000000</td>\n      <td>0.000000</td>\n      <td>1.000000</td>\n      <td>4.000000</td>\n      <td>0.000000</td>\n    </tr>\n    <tr>\n      <th>25%</th>\n      <td>29.000000</td>\n      <td>3.760000</td>\n      <td>1.980000</td>\n      <td>1.260000</td>\n      <td>4.520000</td>\n      <td>5.260000</td>\n      <td>2.490000</td>\n    </tr>\n    <tr>\n      <th>50%</th>\n      <td>42.000000</td>\n      <td>6.425000</td>\n      <td>3.950000</td>\n      <td>2.520000</td>\n      <td>7.900000</td>\n      <td>6.500000</td>\n      <td>4.990000</td>\n    </tr>\n    <tr>\n      <th>75%</th>\n      <td>54.000000</td>\n      <td>9.212500</td>\n      <td>5.990000</td>\n      <td>3.790000</td>\n      <td>11.500000</td>\n      <td>7.760000</td>\n      <td>7.540000</td>\n    </tr>\n    <tr>\n      <th>max</th>\n      <td>65.000000</td>\n      <td>12.000000</td>\n      <td>8.000000</td>\n      <td>5.000000</td>\n      <td>15.000000</td>\n      <td>9.000000</td>\n      <td>10.000000</td>\n    </tr>\n  </tbody>\n</table>\n</div>"
     },
     "execution_count": 4,
     "metadata": {},
     "output_type": "execute_result"
    }
   ],
   "source": [
    "df.describe()"
   ],
   "metadata": {
    "collapsed": false,
    "ExecuteTime": {
     "end_time": "2024-10-01T09:51:47.654737700Z",
     "start_time": "2024-10-01T09:51:47.565487200Z"
    }
   },
   "id": "a2cf514d28428d21"
  },
  {
   "cell_type": "markdown",
   "source": [
    "### Вывод по описанию числовых столбцов:\n",
    "\n",
    "1. **Возраст (Age):**\n",
    "   - Минимальный возраст: 18 лет\n",
    "   - Максимальный возраст: 65 лет\n",
    "   - Средний возраст: 41.5 года\n",
    "   - 25-й перцентиль: 29 лет (четверть людей младше 29 лет)\n",
    "   - 50-й перцентиль (медиана): 42 года (половина людей младше 42 лет)\n",
    "   - 75-й перцентиль: 54 года (четверть людей старше 54 лет)\n",
    "\n",
    "2. **Часы использования технологий (Technology_Usage_Hours):**\n",
    "   - Минимум: 1 час\n",
    "   - Максимум: 12 часов\n",
    "   - Среднее значение: 6.47 часа в день\n",
    "   - 25-й перцентиль: 3.76 часа\n",
    "   - 50-й перцентиль: 6.43 часа\n",
    "   - 75-й перцентиль: 9.21 часа\n",
    "\n",
    "3. **Часы использования социальных сетей (Social_Media_Usage_Hours):**\n",
    "   - Минимум: 0 часов\n",
    "   - Максимум: 8 часов\n",
    "   - Среднее значение: 3.97 часа\n",
    "   - 25-й перцентиль: 1.98 часа\n",
    "   - 50-й перцентиль: 3.95 часа\n",
    "   - 75-й перцентиль: 5.99 часа\n",
    "\n",
    "4. **Часы, потраченные на игры (Gaming_Hours):**\n",
    "   - Минимум: 0 часов\n",
    "   - Максимум: 5 часов\n",
    "   - Среднее значение: 2.52 часа\n",
    "   - 25-й перцентиль: 1.26 часа\n",
    "   - 50-й перцентиль: 2.52 часа\n",
    "   - 75-й перцентиль: 3.79 часа\n",
    "\n",
    "5. **Время перед экраном (Screen_Time_Hours):**\n",
    "   - Минимум: 1 час\n",
    "   - Максимум: 15 часов\n",
    "   - Среднее значение: 7.98 часа\n",
    "   - 25-й перцентиль: 4.52 часа\n",
    "   - 50-й перцентиль: 7.90 часа\n",
    "   - 75-й перцентиль: 11.5 часа\n",
    "\n",
    "6. **Часы сна (Sleep_Hours):**\n",
    "   - Минимум: 4 часа\n",
    "   - Максимум: 9 часов\n",
    "   - Среднее значение: 6.5 часа\n",
    "   - 25-й перцентиль: 5.26 часа\n",
    "   - 50-й перцентиль: 6.5 часа\n",
    "   - 75-й перцентиль: 7.76 часа\n",
    "\n",
    "7. **Часы физической активности (Physical_Activity_Hours):**\n",
    "   - Минимум: 0 часов\n",
    "   - Максимум: 10 часов\n",
    "   - Среднее значение: 5 часов\n",
    "   - 25-й перцентиль: 2.49 часа\n",
    "   - 50-й перцентиль: 4.99 часа\n",
    "   - 75-й перцентиль: 7.54 часа\n",
    "\n",
    "### Общий вывод:\n",
    "- В выборке довольно широкий диапазон возрастов (от 18 до 65 лет) с медианой около 42 лет.\n",
    "- Люди тратят в среднем около 6.5 часов в день на использование технологий, 4 часа — на социальные сети и около 2.5 часов — на игры.\n",
    "- Среднее время перед экраном почти 8 часов, что довольно высоко.\n",
    "- Среднее время сна составляет 6.5 часов, что ниже рекомендуемой нормы.\n",
    "- Физическая активность в среднем составляет 5 часов, но у четверти выборки она составляет менее 2.5 часов в день.\n"
   ],
   "metadata": {
    "collapsed": false
   },
   "id": "ec69e1cac835e7b0"
  },
  {
   "cell_type": "markdown",
   "source": [
    "### 5 задание\n",
    "Посмотрите описание (describe) категориальных / текстовых столбцов. Сделайте выводы. "
   ],
   "metadata": {
    "collapsed": false
   },
   "id": "c1c4f2e562e8e387"
  },
  {
   "cell_type": "code",
   "execution_count": 5,
   "outputs": [
    {
     "data": {
      "text/plain": "           User_ID Gender Mental_Health_Status Stress_Level  \\\ncount        10000  10000                10000        10000   \nunique       10000      3                    4            3   \ntop     USER-09984  Other            Excellent       Medium   \nfreq             1   3364                 2518         3338   \n\n       Support_Systems_Access Work_Environment_Impact Online_Support_Usage  \ncount                   10000                   10000                10000  \nunique                      2                       3                    2  \ntop                        No                Negative                   No  \nfreq                     5006                    3378                 5013  ",
      "text/html": "<div>\n<style scoped>\n    .dataframe tbody tr th:only-of-type {\n        vertical-align: middle;\n    }\n\n    .dataframe tbody tr th {\n        vertical-align: top;\n    }\n\n    .dataframe thead th {\n        text-align: right;\n    }\n</style>\n<table border=\"1\" class=\"dataframe\">\n  <thead>\n    <tr style=\"text-align: right;\">\n      <th></th>\n      <th>User_ID</th>\n      <th>Gender</th>\n      <th>Mental_Health_Status</th>\n      <th>Stress_Level</th>\n      <th>Support_Systems_Access</th>\n      <th>Work_Environment_Impact</th>\n      <th>Online_Support_Usage</th>\n    </tr>\n  </thead>\n  <tbody>\n    <tr>\n      <th>count</th>\n      <td>10000</td>\n      <td>10000</td>\n      <td>10000</td>\n      <td>10000</td>\n      <td>10000</td>\n      <td>10000</td>\n      <td>10000</td>\n    </tr>\n    <tr>\n      <th>unique</th>\n      <td>10000</td>\n      <td>3</td>\n      <td>4</td>\n      <td>3</td>\n      <td>2</td>\n      <td>3</td>\n      <td>2</td>\n    </tr>\n    <tr>\n      <th>top</th>\n      <td>USER-09984</td>\n      <td>Other</td>\n      <td>Excellent</td>\n      <td>Medium</td>\n      <td>No</td>\n      <td>Negative</td>\n      <td>No</td>\n    </tr>\n    <tr>\n      <th>freq</th>\n      <td>1</td>\n      <td>3364</td>\n      <td>2518</td>\n      <td>3338</td>\n      <td>5006</td>\n      <td>3378</td>\n      <td>5013</td>\n    </tr>\n  </tbody>\n</table>\n</div>"
     },
     "execution_count": 5,
     "metadata": {},
     "output_type": "execute_result"
    }
   ],
   "source": [
    "df.describe(include=['object','category'])"
   ],
   "metadata": {
    "collapsed": false,
    "ExecuteTime": {
     "end_time": "2024-10-01T09:53:40.809006600Z",
     "start_time": "2024-10-01T09:53:40.690014600Z"
    }
   },
   "id": "f5ba36e89339780c"
  },
  {
   "cell_type": "markdown",
   "source": [
    "### Выводы:\n",
    "- Наиболее часто встречающийся пол — \"Other\", возможно большинство воздержалось указывать).\n",
    "- \"Excellent\" — самое частое состояние психического здоровья (25.18%).\n",
    "- \"Medium\" — самый частый уровень стресса (33.38%).\n",
    "- Около половины выборки (50%) не имеют доступа к системам поддержки.\n",
    "- Около 33% респондентов оценивают влияние рабочей среды как негативное.\n",
    "- Около половины людей не использует онлайн-поддержку."
   ],
   "metadata": {
    "collapsed": false
   },
   "id": "b8cc316d30ca7a6f"
  },
  {
   "cell_type": "markdown",
   "source": [
    "### 6 задание\n",
    "Для категориальных признаков посмотрите на уникальные значения этих признаков."
   ],
   "metadata": {
    "collapsed": false
   },
   "id": "b72919e80672e320"
  },
  {
   "cell_type": "code",
   "execution_count": 6,
   "outputs": [
    {
     "name": "stdout",
     "output_type": "stream",
     "text": [
      "Gender :  ['Female' 'Male' 'Other']\n",
      "Mental_Health_Status :  ['Good' 'Poor' 'Fair' 'Excellent']\n",
      "Stress_Level :  ['Low' 'High' 'Medium']\n",
      "Support_Systems_Access :  ['No' 'Yes']\n",
      "Work_Environment_Impact :  ['Negative' 'Positive' 'Neutral']\n",
      "Online_Support_Usage :  ['Yes' 'No']\n"
     ]
    }
   ],
   "source": [
    "cols = df.describe(include=['object','category']).columns.tolist()\n",
    "for col in cols[1:]:\n",
    "    print(col, ': ', df[col].unique())"
   ],
   "metadata": {
    "collapsed": false,
    "ExecuteTime": {
     "end_time": "2024-10-01T09:54:41.655759300Z",
     "start_time": "2024-10-01T09:54:41.488640600Z"
    }
   },
   "id": "da174386d122a616"
  },
  {
   "cell_type": "markdown",
   "source": [
    "### 7 задание\n",
    "Попытайтесь выявить зависимость зависимости между психологическим состоянием ( Mental_Health_Status) и такими признаками как Gaming_Hours, Screen_Time_Hours, Sleep_Hours. Используйте группировку (по Mental_Health_Status - обязательно, по остальным признакам по желанию) и агрегацию данных"
   ],
   "metadata": {
    "collapsed": false
   },
   "id": "d0a307c8c734347"
  },
  {
   "cell_type": "code",
   "execution_count": 7,
   "outputs": [
    {
     "data": {
      "text/plain": "                      Gaming_Hours  Screen_Time_Hours  Sleep_Hours\nMental_Health_Status                                              \nExcellent                 2.542133           7.949023     6.480175\nFair                      2.494956           7.920964     6.509289\nGood                      2.503596           8.087707     6.497145\nPoor                      2.521510           7.944783     6.516582",
      "text/html": "<div>\n<style scoped>\n    .dataframe tbody tr th:only-of-type {\n        vertical-align: middle;\n    }\n\n    .dataframe tbody tr th {\n        vertical-align: top;\n    }\n\n    .dataframe thead th {\n        text-align: right;\n    }\n</style>\n<table border=\"1\" class=\"dataframe\">\n  <thead>\n    <tr style=\"text-align: right;\">\n      <th></th>\n      <th>Gaming_Hours</th>\n      <th>Screen_Time_Hours</th>\n      <th>Sleep_Hours</th>\n    </tr>\n    <tr>\n      <th>Mental_Health_Status</th>\n      <th></th>\n      <th></th>\n      <th></th>\n    </tr>\n  </thead>\n  <tbody>\n    <tr>\n      <th>Excellent</th>\n      <td>2.542133</td>\n      <td>7.949023</td>\n      <td>6.480175</td>\n    </tr>\n    <tr>\n      <th>Fair</th>\n      <td>2.494956</td>\n      <td>7.920964</td>\n      <td>6.509289</td>\n    </tr>\n    <tr>\n      <th>Good</th>\n      <td>2.503596</td>\n      <td>8.087707</td>\n      <td>6.497145</td>\n    </tr>\n    <tr>\n      <th>Poor</th>\n      <td>2.521510</td>\n      <td>7.944783</td>\n      <td>6.516582</td>\n    </tr>\n  </tbody>\n</table>\n</div>"
     },
     "execution_count": 7,
     "metadata": {},
     "output_type": "execute_result"
    }
   ],
   "source": [
    "grouped_data_health = df.groupby('Mental_Health_Status')[['Gaming_Hours', 'Screen_Time_Hours', 'Sleep_Hours']].mean()\n",
    "grouped_data_health"
   ],
   "metadata": {
    "collapsed": false,
    "ExecuteTime": {
     "end_time": "2024-10-01T09:54:52.669206200Z",
     "start_time": "2024-10-01T09:54:52.602199200Z"
    }
   },
   "id": "fd2e9917766e446f"
  },
  {
   "cell_type": "code",
   "execution_count": 8,
   "outputs": [
    {
     "data": {
      "text/plain": "              Gaming_Hours  Screen_Time_Hours  Sleep_Hours\nStress_Level                                              \nHigh              2.512459           7.918111     6.525204\nLow               2.532011           8.078079     6.484361\nMedium            2.502346           7.931150     6.492636",
      "text/html": "<div>\n<style scoped>\n    .dataframe tbody tr th:only-of-type {\n        vertical-align: middle;\n    }\n\n    .dataframe tbody tr th {\n        vertical-align: top;\n    }\n\n    .dataframe thead th {\n        text-align: right;\n    }\n</style>\n<table border=\"1\" class=\"dataframe\">\n  <thead>\n    <tr style=\"text-align: right;\">\n      <th></th>\n      <th>Gaming_Hours</th>\n      <th>Screen_Time_Hours</th>\n      <th>Sleep_Hours</th>\n    </tr>\n    <tr>\n      <th>Stress_Level</th>\n      <th></th>\n      <th></th>\n      <th></th>\n    </tr>\n  </thead>\n  <tbody>\n    <tr>\n      <th>High</th>\n      <td>2.512459</td>\n      <td>7.918111</td>\n      <td>6.525204</td>\n    </tr>\n    <tr>\n      <th>Low</th>\n      <td>2.532011</td>\n      <td>8.078079</td>\n      <td>6.484361</td>\n    </tr>\n    <tr>\n      <th>Medium</th>\n      <td>2.502346</td>\n      <td>7.931150</td>\n      <td>6.492636</td>\n    </tr>\n  </tbody>\n</table>\n</div>"
     },
     "execution_count": 8,
     "metadata": {},
     "output_type": "execute_result"
    }
   ],
   "source": [
    "grouped_data_stress = df.groupby('Stress_Level')[['Gaming_Hours', 'Screen_Time_Hours', 'Sleep_Hours']].mean()\n",
    "grouped_data_stress"
   ],
   "metadata": {
    "collapsed": false,
    "ExecuteTime": {
     "end_time": "2024-10-01T09:55:03.363348100Z",
     "start_time": "2024-10-01T09:55:03.246047100Z"
    }
   },
   "id": "1d99c8bb22b261d6"
  },
  {
   "cell_type": "code",
   "execution_count": 9,
   "outputs": [
    {
     "data": {
      "text/plain": "Mental_Health_Status              Excellent         Fair         Good  \\\nAge                      count  2518.000000  2490.000000  2508.000000   \n                         mean     41.551231    42.006827    41.237241   \n                         std      13.863471    14.036469    13.875046   \n                         min      18.000000    18.000000    18.000000   \n                         25%      30.000000    29.000000    29.000000   \n                         50%      42.000000    42.000000    41.000000   \n                         75%      53.000000    54.000000    53.000000   \n                         max      65.000000    65.000000    65.000000   \nTechnology_Usage_Hours   count  2518.000000  2490.000000  2508.000000   \n                         mean      6.438995     6.352145     6.536304   \n                         std       3.143397     3.209587     3.146783   \n                         min       1.000000     1.000000     1.000000   \n                         25%       3.810000     3.570000     3.840000   \n                         50%       6.425000     6.180000     6.550000   \n                         75%       9.130000     9.137500     9.252500   \n                         max      11.990000    12.000000    12.000000   \nSocial_Media_Usage_Hours count  2518.000000  2490.000000  2508.000000   \n                         mean      3.929365     4.023783     3.986523   \n                         std       2.301193     2.304675     2.327314   \n                         min       0.000000     0.000000     0.000000   \n                         25%       1.980000     2.012500     1.940000   \n                         50%       3.920000     4.035000     3.935000   \n                         75%       5.950000     5.997500     6.020000   \n                         max       8.000000     7.990000     8.000000   \nGaming_Hours             count  2518.000000  2490.000000  2508.000000   \n                         mean      2.542133     2.494956     2.503596   \n                         std       1.450221     1.438065     1.455652   \n                         min       0.000000     0.000000     0.000000   \n                         25%       1.302500     1.270000     1.210000   \n                         50%       2.530000     2.510000     2.510000   \n                         75%       3.850000     3.760000     3.800000   \n                         max       5.000000     5.000000     5.000000   \nScreen_Time_Hours        count  2518.000000  2490.000000  2508.000000   \n                         mean      7.949023     7.920964     8.087707   \n                         std       4.059197     4.003676     4.087353   \n                         min       1.010000     1.000000     1.000000   \n                         25%       4.410000     4.540000     4.590000   \n                         50%       7.860000     7.940000     8.020000   \n                         75%      11.545000    11.267500    11.742500   \n                         max      15.000000    14.990000    15.000000   \nSleep_Hours              count  2518.000000  2490.000000  2508.000000   \n                         mean      6.480175     6.509289     6.497145   \n                         std       1.458015     1.449285     1.437176   \n                         min       4.000000     4.000000     4.000000   \n                         25%       5.200000     5.260000     5.307500   \n                         50%       6.500000     6.540000     6.450000   \n                         75%       7.750000     7.750000     7.730000   \n                         max       9.000000     9.000000     9.000000   \nPhysical_Activity_Hours  count  2518.000000  2490.000000  2508.000000   \n                         mean      5.054631     4.977277     4.964613   \n                         std       2.890783     2.934293     2.918785   \n                         min       0.000000     0.000000     0.010000   \n                         25%       2.550000     2.380000     2.457500   \n                         50%       5.070000     4.960000     4.940000   \n                         75%       7.540000     7.610000     7.540000   \n                         max      10.000000    10.000000    10.000000   \n\nMental_Health_Status                   Poor  \nAge                      count  2484.000000  \n                         mean     41.280193  \n                         std      13.900993  \n                         min      18.000000  \n                         25%      29.000000  \n                         50%      41.000000  \n                         75%      54.000000  \n                         max      65.000000  \nTechnology_Usage_Hours   count  2484.000000  \n                         mean      6.570101  \n                         std       3.173635  \n                         min       1.010000  \n                         25%       3.837500  \n                         50%       6.545000  \n                         75%       9.250000  \n                         max      12.000000  \nSocial_Media_Usage_Hours count  2484.000000  \n                         mean      3.949940  \n                         std       2.321866  \n                         min       0.000000  \n                         25%       1.930000  \n                         50%       3.915000  \n                         75%       6.002500  \n                         max       7.990000  \nGaming_Hours             count  2484.000000  \n                         mean      2.521510  \n                         std       1.443299  \n                         min       0.000000  \n                         25%       1.280000  \n                         50%       2.510000  \n                         75%       3.770000  \n                         max       5.000000  \nScreen_Time_Hours        count  2484.000000  \n                         mean      7.944783  \n                         std       4.019396  \n                         min       1.000000  \n                         25%       4.545000  \n                         50%       7.810000  \n                         75%      11.490000  \n                         max      15.000000  \nSleep_Hours              count  2484.000000  \n                         mean      6.516582  \n                         std       1.459798  \n                         min       4.000000  \n                         25%       5.270000  \n                         50%       6.520000  \n                         75%       7.800000  \n                         max       9.000000  \nPhysical_Activity_Hours  count  2484.000000  \n                         mean      5.018667  \n                         std       2.876830  \n                         min       0.000000  \n                         25%       2.537500  \n                         50%       4.990000  \n                         75%       7.472500  \n                         max      10.000000  ",
      "text/html": "<div>\n<style scoped>\n    .dataframe tbody tr th:only-of-type {\n        vertical-align: middle;\n    }\n\n    .dataframe tbody tr th {\n        vertical-align: top;\n    }\n\n    .dataframe thead th {\n        text-align: right;\n    }\n</style>\n<table border=\"1\" class=\"dataframe\">\n  <thead>\n    <tr style=\"text-align: right;\">\n      <th></th>\n      <th>Mental_Health_Status</th>\n      <th>Excellent</th>\n      <th>Fair</th>\n      <th>Good</th>\n      <th>Poor</th>\n    </tr>\n  </thead>\n  <tbody>\n    <tr>\n      <th rowspan=\"8\" valign=\"top\">Age</th>\n      <th>count</th>\n      <td>2518.000000</td>\n      <td>2490.000000</td>\n      <td>2508.000000</td>\n      <td>2484.000000</td>\n    </tr>\n    <tr>\n      <th>mean</th>\n      <td>41.551231</td>\n      <td>42.006827</td>\n      <td>41.237241</td>\n      <td>41.280193</td>\n    </tr>\n    <tr>\n      <th>std</th>\n      <td>13.863471</td>\n      <td>14.036469</td>\n      <td>13.875046</td>\n      <td>13.900993</td>\n    </tr>\n    <tr>\n      <th>min</th>\n      <td>18.000000</td>\n      <td>18.000000</td>\n      <td>18.000000</td>\n      <td>18.000000</td>\n    </tr>\n    <tr>\n      <th>25%</th>\n      <td>30.000000</td>\n      <td>29.000000</td>\n      <td>29.000000</td>\n      <td>29.000000</td>\n    </tr>\n    <tr>\n      <th>50%</th>\n      <td>42.000000</td>\n      <td>42.000000</td>\n      <td>41.000000</td>\n      <td>41.000000</td>\n    </tr>\n    <tr>\n      <th>75%</th>\n      <td>53.000000</td>\n      <td>54.000000</td>\n      <td>53.000000</td>\n      <td>54.000000</td>\n    </tr>\n    <tr>\n      <th>max</th>\n      <td>65.000000</td>\n      <td>65.000000</td>\n      <td>65.000000</td>\n      <td>65.000000</td>\n    </tr>\n    <tr>\n      <th rowspan=\"8\" valign=\"top\">Technology_Usage_Hours</th>\n      <th>count</th>\n      <td>2518.000000</td>\n      <td>2490.000000</td>\n      <td>2508.000000</td>\n      <td>2484.000000</td>\n    </tr>\n    <tr>\n      <th>mean</th>\n      <td>6.438995</td>\n      <td>6.352145</td>\n      <td>6.536304</td>\n      <td>6.570101</td>\n    </tr>\n    <tr>\n      <th>std</th>\n      <td>3.143397</td>\n      <td>3.209587</td>\n      <td>3.146783</td>\n      <td>3.173635</td>\n    </tr>\n    <tr>\n      <th>min</th>\n      <td>1.000000</td>\n      <td>1.000000</td>\n      <td>1.000000</td>\n      <td>1.010000</td>\n    </tr>\n    <tr>\n      <th>25%</th>\n      <td>3.810000</td>\n      <td>3.570000</td>\n      <td>3.840000</td>\n      <td>3.837500</td>\n    </tr>\n    <tr>\n      <th>50%</th>\n      <td>6.425000</td>\n      <td>6.180000</td>\n      <td>6.550000</td>\n      <td>6.545000</td>\n    </tr>\n    <tr>\n      <th>75%</th>\n      <td>9.130000</td>\n      <td>9.137500</td>\n      <td>9.252500</td>\n      <td>9.250000</td>\n    </tr>\n    <tr>\n      <th>max</th>\n      <td>11.990000</td>\n      <td>12.000000</td>\n      <td>12.000000</td>\n      <td>12.000000</td>\n    </tr>\n    <tr>\n      <th rowspan=\"8\" valign=\"top\">Social_Media_Usage_Hours</th>\n      <th>count</th>\n      <td>2518.000000</td>\n      <td>2490.000000</td>\n      <td>2508.000000</td>\n      <td>2484.000000</td>\n    </tr>\n    <tr>\n      <th>mean</th>\n      <td>3.929365</td>\n      <td>4.023783</td>\n      <td>3.986523</td>\n      <td>3.949940</td>\n    </tr>\n    <tr>\n      <th>std</th>\n      <td>2.301193</td>\n      <td>2.304675</td>\n      <td>2.327314</td>\n      <td>2.321866</td>\n    </tr>\n    <tr>\n      <th>min</th>\n      <td>0.000000</td>\n      <td>0.000000</td>\n      <td>0.000000</td>\n      <td>0.000000</td>\n    </tr>\n    <tr>\n      <th>25%</th>\n      <td>1.980000</td>\n      <td>2.012500</td>\n      <td>1.940000</td>\n      <td>1.930000</td>\n    </tr>\n    <tr>\n      <th>50%</th>\n      <td>3.920000</td>\n      <td>4.035000</td>\n      <td>3.935000</td>\n      <td>3.915000</td>\n    </tr>\n    <tr>\n      <th>75%</th>\n      <td>5.950000</td>\n      <td>5.997500</td>\n      <td>6.020000</td>\n      <td>6.002500</td>\n    </tr>\n    <tr>\n      <th>max</th>\n      <td>8.000000</td>\n      <td>7.990000</td>\n      <td>8.000000</td>\n      <td>7.990000</td>\n    </tr>\n    <tr>\n      <th rowspan=\"8\" valign=\"top\">Gaming_Hours</th>\n      <th>count</th>\n      <td>2518.000000</td>\n      <td>2490.000000</td>\n      <td>2508.000000</td>\n      <td>2484.000000</td>\n    </tr>\n    <tr>\n      <th>mean</th>\n      <td>2.542133</td>\n      <td>2.494956</td>\n      <td>2.503596</td>\n      <td>2.521510</td>\n    </tr>\n    <tr>\n      <th>std</th>\n      <td>1.450221</td>\n      <td>1.438065</td>\n      <td>1.455652</td>\n      <td>1.443299</td>\n    </tr>\n    <tr>\n      <th>min</th>\n      <td>0.000000</td>\n      <td>0.000000</td>\n      <td>0.000000</td>\n      <td>0.000000</td>\n    </tr>\n    <tr>\n      <th>25%</th>\n      <td>1.302500</td>\n      <td>1.270000</td>\n      <td>1.210000</td>\n      <td>1.280000</td>\n    </tr>\n    <tr>\n      <th>50%</th>\n      <td>2.530000</td>\n      <td>2.510000</td>\n      <td>2.510000</td>\n      <td>2.510000</td>\n    </tr>\n    <tr>\n      <th>75%</th>\n      <td>3.850000</td>\n      <td>3.760000</td>\n      <td>3.800000</td>\n      <td>3.770000</td>\n    </tr>\n    <tr>\n      <th>max</th>\n      <td>5.000000</td>\n      <td>5.000000</td>\n      <td>5.000000</td>\n      <td>5.000000</td>\n    </tr>\n    <tr>\n      <th rowspan=\"8\" valign=\"top\">Screen_Time_Hours</th>\n      <th>count</th>\n      <td>2518.000000</td>\n      <td>2490.000000</td>\n      <td>2508.000000</td>\n      <td>2484.000000</td>\n    </tr>\n    <tr>\n      <th>mean</th>\n      <td>7.949023</td>\n      <td>7.920964</td>\n      <td>8.087707</td>\n      <td>7.944783</td>\n    </tr>\n    <tr>\n      <th>std</th>\n      <td>4.059197</td>\n      <td>4.003676</td>\n      <td>4.087353</td>\n      <td>4.019396</td>\n    </tr>\n    <tr>\n      <th>min</th>\n      <td>1.010000</td>\n      <td>1.000000</td>\n      <td>1.000000</td>\n      <td>1.000000</td>\n    </tr>\n    <tr>\n      <th>25%</th>\n      <td>4.410000</td>\n      <td>4.540000</td>\n      <td>4.590000</td>\n      <td>4.545000</td>\n    </tr>\n    <tr>\n      <th>50%</th>\n      <td>7.860000</td>\n      <td>7.940000</td>\n      <td>8.020000</td>\n      <td>7.810000</td>\n    </tr>\n    <tr>\n      <th>75%</th>\n      <td>11.545000</td>\n      <td>11.267500</td>\n      <td>11.742500</td>\n      <td>11.490000</td>\n    </tr>\n    <tr>\n      <th>max</th>\n      <td>15.000000</td>\n      <td>14.990000</td>\n      <td>15.000000</td>\n      <td>15.000000</td>\n    </tr>\n    <tr>\n      <th rowspan=\"8\" valign=\"top\">Sleep_Hours</th>\n      <th>count</th>\n      <td>2518.000000</td>\n      <td>2490.000000</td>\n      <td>2508.000000</td>\n      <td>2484.000000</td>\n    </tr>\n    <tr>\n      <th>mean</th>\n      <td>6.480175</td>\n      <td>6.509289</td>\n      <td>6.497145</td>\n      <td>6.516582</td>\n    </tr>\n    <tr>\n      <th>std</th>\n      <td>1.458015</td>\n      <td>1.449285</td>\n      <td>1.437176</td>\n      <td>1.459798</td>\n    </tr>\n    <tr>\n      <th>min</th>\n      <td>4.000000</td>\n      <td>4.000000</td>\n      <td>4.000000</td>\n      <td>4.000000</td>\n    </tr>\n    <tr>\n      <th>25%</th>\n      <td>5.200000</td>\n      <td>5.260000</td>\n      <td>5.307500</td>\n      <td>5.270000</td>\n    </tr>\n    <tr>\n      <th>50%</th>\n      <td>6.500000</td>\n      <td>6.540000</td>\n      <td>6.450000</td>\n      <td>6.520000</td>\n    </tr>\n    <tr>\n      <th>75%</th>\n      <td>7.750000</td>\n      <td>7.750000</td>\n      <td>7.730000</td>\n      <td>7.800000</td>\n    </tr>\n    <tr>\n      <th>max</th>\n      <td>9.000000</td>\n      <td>9.000000</td>\n      <td>9.000000</td>\n      <td>9.000000</td>\n    </tr>\n    <tr>\n      <th rowspan=\"8\" valign=\"top\">Physical_Activity_Hours</th>\n      <th>count</th>\n      <td>2518.000000</td>\n      <td>2490.000000</td>\n      <td>2508.000000</td>\n      <td>2484.000000</td>\n    </tr>\n    <tr>\n      <th>mean</th>\n      <td>5.054631</td>\n      <td>4.977277</td>\n      <td>4.964613</td>\n      <td>5.018667</td>\n    </tr>\n    <tr>\n      <th>std</th>\n      <td>2.890783</td>\n      <td>2.934293</td>\n      <td>2.918785</td>\n      <td>2.876830</td>\n    </tr>\n    <tr>\n      <th>min</th>\n      <td>0.000000</td>\n      <td>0.000000</td>\n      <td>0.010000</td>\n      <td>0.000000</td>\n    </tr>\n    <tr>\n      <th>25%</th>\n      <td>2.550000</td>\n      <td>2.380000</td>\n      <td>2.457500</td>\n      <td>2.537500</td>\n    </tr>\n    <tr>\n      <th>50%</th>\n      <td>5.070000</td>\n      <td>4.960000</td>\n      <td>4.940000</td>\n      <td>4.990000</td>\n    </tr>\n    <tr>\n      <th>75%</th>\n      <td>7.540000</td>\n      <td>7.610000</td>\n      <td>7.540000</td>\n      <td>7.472500</td>\n    </tr>\n    <tr>\n      <th>max</th>\n      <td>10.000000</td>\n      <td>10.000000</td>\n      <td>10.000000</td>\n      <td>10.000000</td>\n    </tr>\n  </tbody>\n</table>\n</div>"
     },
     "execution_count": 9,
     "metadata": {},
     "output_type": "execute_result"
    }
   ],
   "source": [
    "df.groupby('Mental_Health_Status').describe().T"
   ],
   "metadata": {
    "collapsed": false,
    "ExecuteTime": {
     "end_time": "2024-10-01T09:55:10.479026800Z",
     "start_time": "2024-10-01T09:55:10.322638300Z"
    }
   },
   "id": "5fd951b5dc0b6cd1"
  },
  {
   "cell_type": "markdown",
   "source": [
    "## Выводы\n",
    "\n",
    "Как показывает таблицы, уровень стресса и уровень ментального здоровья практически не зависят от часов, проведенных за экраном и за играми, также не зависит и от часов сна."
   ],
   "metadata": {
    "collapsed": false
   },
   "id": "c6333350496e86db"
  },
  {
   "cell_type": "code",
   "execution_count": null,
   "outputs": [],
   "source": [],
   "metadata": {
    "collapsed": false
   },
   "id": "d2fbf6f8aafe9656"
  }
 ],
 "metadata": {
  "kernelspec": {
   "display_name": "Python 3",
   "language": "python",
   "name": "python3"
  },
  "language_info": {
   "codemirror_mode": {
    "name": "ipython",
    "version": 2
   },
   "file_extension": ".py",
   "mimetype": "text/x-python",
   "name": "python",
   "nbconvert_exporter": "python",
   "pygments_lexer": "ipython2",
   "version": "2.7.6"
  }
 },
 "nbformat": 4,
 "nbformat_minor": 5
}
