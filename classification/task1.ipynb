{
 "cells": [
  {
   "metadata": {},
   "cell_type": "markdown",
   "source": [
    "# Предобработка\n",
    "\n",
    "### Загружаем данные"
   ],
   "id": "3e46f5cb9a23f36f"
  },
  {
   "metadata": {},
   "cell_type": "code",
   "outputs": [],
   "execution_count": null,
   "source": [
    "import pandas as pd\n",
    "import matplotlib.pyplot as plt\n",
    "\n",
    "from sklearn.preprocessing import LabelEncoder, OrdinalEncoder, OneHotEncoder\n",
    "from sklearn.preprocessing import MinMaxScaler, StandardScaler\n",
    "\n",
    "from sklearn.model_selection import train_test_split\n",
    "\n",
    "import seaborn as sns\n",
    "sns.set()\n",
    "\n",
    "df = pd.read_csv('brain_stroke.csv')\n",
    "df.head()"
   ],
   "id": "2da58bbdcb7fc863"
  },
  {
   "metadata": {},
   "cell_type": "markdown",
   "source": "",
   "id": "6ce487fc33acd2b6"
  },
  {
   "metadata": {},
   "cell_type": "markdown",
   "source": "### Проверяем наличие пропусков",
   "id": "2c163d2dacea74b6"
  },
  {
   "metadata": {
    "ExecuteTime": {
     "end_time": "2024-11-29T15:44:51.332619Z",
     "start_time": "2024-11-29T15:44:51.316189Z"
    }
   },
   "cell_type": "code",
   "source": "print(df.isnull().sum())",
   "id": "c89b10e901bbed8a",
   "outputs": [
    {
     "name": "stdout",
     "output_type": "stream",
     "text": [
      "gender               0\n",
      "age                  0\n",
      "hypertension         0\n",
      "heart_disease        0\n",
      "ever_married         0\n",
      "work_type            0\n",
      "Residence_type       0\n",
      "avg_glucose_level    0\n",
      "bmi                  0\n",
      "smoking_status       0\n",
      "stroke               0\n",
      "dtype: int64\n"
     ]
    }
   ],
   "execution_count": 2
  },
  {
   "metadata": {},
   "cell_type": "markdown",
   "source": "### Проведем кодирование категориальных столбцов",
   "id": "b15037c5ca099ed9"
  },
  {
   "metadata": {
    "ExecuteTime": {
     "end_time": "2024-11-29T15:46:37.622871Z",
     "start_time": "2024-11-29T15:46:37.610067Z"
    }
   },
   "cell_type": "code",
   "source": "df.describe(include=['object'])",
   "id": "841fffbe9d77e1f6",
   "outputs": [
    {
     "data": {
      "text/plain": [
       "        gender ever_married work_type Residence_type smoking_status\n",
       "count     4981         4981      4981           4981           4981\n",
       "unique       2            2         4              2              4\n",
       "top     Female          Yes   Private          Urban   never smoked\n",
       "freq      2907         3280      2860           2532           1838"
      ],
      "text/html": [
       "<div>\n",
       "<style scoped>\n",
       "    .dataframe tbody tr th:only-of-type {\n",
       "        vertical-align: middle;\n",
       "    }\n",
       "\n",
       "    .dataframe tbody tr th {\n",
       "        vertical-align: top;\n",
       "    }\n",
       "\n",
       "    .dataframe thead th {\n",
       "        text-align: right;\n",
       "    }\n",
       "</style>\n",
       "<table border=\"1\" class=\"dataframe\">\n",
       "  <thead>\n",
       "    <tr style=\"text-align: right;\">\n",
       "      <th></th>\n",
       "      <th>gender</th>\n",
       "      <th>ever_married</th>\n",
       "      <th>work_type</th>\n",
       "      <th>Residence_type</th>\n",
       "      <th>smoking_status</th>\n",
       "    </tr>\n",
       "  </thead>\n",
       "  <tbody>\n",
       "    <tr>\n",
       "      <th>count</th>\n",
       "      <td>4981</td>\n",
       "      <td>4981</td>\n",
       "      <td>4981</td>\n",
       "      <td>4981</td>\n",
       "      <td>4981</td>\n",
       "    </tr>\n",
       "    <tr>\n",
       "      <th>unique</th>\n",
       "      <td>2</td>\n",
       "      <td>2</td>\n",
       "      <td>4</td>\n",
       "      <td>2</td>\n",
       "      <td>4</td>\n",
       "    </tr>\n",
       "    <tr>\n",
       "      <th>top</th>\n",
       "      <td>Female</td>\n",
       "      <td>Yes</td>\n",
       "      <td>Private</td>\n",
       "      <td>Urban</td>\n",
       "      <td>never smoked</td>\n",
       "    </tr>\n",
       "    <tr>\n",
       "      <th>freq</th>\n",
       "      <td>2907</td>\n",
       "      <td>3280</td>\n",
       "      <td>2860</td>\n",
       "      <td>2532</td>\n",
       "      <td>1838</td>\n",
       "    </tr>\n",
       "  </tbody>\n",
       "</table>\n",
       "</div>"
      ]
     },
     "execution_count": 3,
     "metadata": {},
     "output_type": "execute_result"
    }
   ],
   "execution_count": 3
  },
  {
   "metadata": {
    "ExecuteTime": {
     "end_time": "2024-11-29T15:48:38.017112Z",
     "start_time": "2024-11-29T15:48:37.998008Z"
    }
   },
   "cell_type": "code",
   "source": [
    "onehotencoder = OneHotEncoder()\n",
    "\n",
    "res = onehotencoder.fit_transform(df[['gender']])\n",
    "df[onehotencoder.categories_[0]] = res.toarray()\n",
    "df.drop('gender', axis=1, inplace=True)\n",
    "\n",
    "res = onehotencoder.fit_transform(df[['Residence_type']])\n",
    "df[onehotencoder.categories_[0]] = res.toarray()\n",
    "df.drop('Residence_type', axis=1, inplace=True)\n",
    "\n",
    "df.head()"
   ],
   "id": "93ed809acae0fe8b",
   "outputs": [
    {
     "data": {
      "text/plain": [
       "    age  hypertension  heart_disease ever_married      work_type  \\\n",
       "0  67.0             0              1          Yes        Private   \n",
       "1  80.0             0              1          Yes        Private   \n",
       "2  49.0             0              0          Yes        Private   \n",
       "3  79.0             1              0          Yes  Self-employed   \n",
       "4  81.0             0              0          Yes        Private   \n",
       "\n",
       "   avg_glucose_level   bmi   smoking_status  stroke  Female  Male  Rural  \\\n",
       "0             228.69  36.6  formerly smoked       1     0.0   1.0    0.0   \n",
       "1             105.92  32.5     never smoked       1     0.0   1.0    1.0   \n",
       "2             171.23  34.4           smokes       1     1.0   0.0    0.0   \n",
       "3             174.12  24.0     never smoked       1     1.0   0.0    1.0   \n",
       "4             186.21  29.0  formerly smoked       1     0.0   1.0    0.0   \n",
       "\n",
       "   Urban  \n",
       "0    1.0  \n",
       "1    0.0  \n",
       "2    1.0  \n",
       "3    0.0  \n",
       "4    1.0  "
      ],
      "text/html": [
       "<div>\n",
       "<style scoped>\n",
       "    .dataframe tbody tr th:only-of-type {\n",
       "        vertical-align: middle;\n",
       "    }\n",
       "\n",
       "    .dataframe tbody tr th {\n",
       "        vertical-align: top;\n",
       "    }\n",
       "\n",
       "    .dataframe thead th {\n",
       "        text-align: right;\n",
       "    }\n",
       "</style>\n",
       "<table border=\"1\" class=\"dataframe\">\n",
       "  <thead>\n",
       "    <tr style=\"text-align: right;\">\n",
       "      <th></th>\n",
       "      <th>age</th>\n",
       "      <th>hypertension</th>\n",
       "      <th>heart_disease</th>\n",
       "      <th>ever_married</th>\n",
       "      <th>work_type</th>\n",
       "      <th>avg_glucose_level</th>\n",
       "      <th>bmi</th>\n",
       "      <th>smoking_status</th>\n",
       "      <th>stroke</th>\n",
       "      <th>Female</th>\n",
       "      <th>Male</th>\n",
       "      <th>Rural</th>\n",
       "      <th>Urban</th>\n",
       "    </tr>\n",
       "  </thead>\n",
       "  <tbody>\n",
       "    <tr>\n",
       "      <th>0</th>\n",
       "      <td>67.0</td>\n",
       "      <td>0</td>\n",
       "      <td>1</td>\n",
       "      <td>Yes</td>\n",
       "      <td>Private</td>\n",
       "      <td>228.69</td>\n",
       "      <td>36.6</td>\n",
       "      <td>formerly smoked</td>\n",
       "      <td>1</td>\n",
       "      <td>0.0</td>\n",
       "      <td>1.0</td>\n",
       "      <td>0.0</td>\n",
       "      <td>1.0</td>\n",
       "    </tr>\n",
       "    <tr>\n",
       "      <th>1</th>\n",
       "      <td>80.0</td>\n",
       "      <td>0</td>\n",
       "      <td>1</td>\n",
       "      <td>Yes</td>\n",
       "      <td>Private</td>\n",
       "      <td>105.92</td>\n",
       "      <td>32.5</td>\n",
       "      <td>never smoked</td>\n",
       "      <td>1</td>\n",
       "      <td>0.0</td>\n",
       "      <td>1.0</td>\n",
       "      <td>1.0</td>\n",
       "      <td>0.0</td>\n",
       "    </tr>\n",
       "    <tr>\n",
       "      <th>2</th>\n",
       "      <td>49.0</td>\n",
       "      <td>0</td>\n",
       "      <td>0</td>\n",
       "      <td>Yes</td>\n",
       "      <td>Private</td>\n",
       "      <td>171.23</td>\n",
       "      <td>34.4</td>\n",
       "      <td>smokes</td>\n",
       "      <td>1</td>\n",
       "      <td>1.0</td>\n",
       "      <td>0.0</td>\n",
       "      <td>0.0</td>\n",
       "      <td>1.0</td>\n",
       "    </tr>\n",
       "    <tr>\n",
       "      <th>3</th>\n",
       "      <td>79.0</td>\n",
       "      <td>1</td>\n",
       "      <td>0</td>\n",
       "      <td>Yes</td>\n",
       "      <td>Self-employed</td>\n",
       "      <td>174.12</td>\n",
       "      <td>24.0</td>\n",
       "      <td>never smoked</td>\n",
       "      <td>1</td>\n",
       "      <td>1.0</td>\n",
       "      <td>0.0</td>\n",
       "      <td>1.0</td>\n",
       "      <td>0.0</td>\n",
       "    </tr>\n",
       "    <tr>\n",
       "      <th>4</th>\n",
       "      <td>81.0</td>\n",
       "      <td>0</td>\n",
       "      <td>0</td>\n",
       "      <td>Yes</td>\n",
       "      <td>Private</td>\n",
       "      <td>186.21</td>\n",
       "      <td>29.0</td>\n",
       "      <td>formerly smoked</td>\n",
       "      <td>1</td>\n",
       "      <td>0.0</td>\n",
       "      <td>1.0</td>\n",
       "      <td>0.0</td>\n",
       "      <td>1.0</td>\n",
       "    </tr>\n",
       "  </tbody>\n",
       "</table>\n",
       "</div>"
      ]
     },
     "execution_count": 4,
     "metadata": {},
     "output_type": "execute_result"
    }
   ],
   "execution_count": 4
  },
  {
   "metadata": {
    "ExecuteTime": {
     "end_time": "2024-11-29T15:49:56.208022Z",
     "start_time": "2024-11-29T15:49:56.191095Z"
    }
   },
   "cell_type": "code",
   "source": [
    "ordEnc = OrdinalEncoder()\n",
    "df[[\"smoking_status\", 'work_type', 'ever_married']] = ordEnc.fit_transform(\n",
    "    df[[\"smoking_status\", 'work_type', 'ever_married']])\n",
    "\n",
    "df.head()"
   ],
   "id": "8a8dd82635d9d4b4",
   "outputs": [
    {
     "data": {
      "text/plain": [
       "    age  hypertension  heart_disease  ever_married  work_type  \\\n",
       "0  67.0             0              1           1.0        1.0   \n",
       "1  80.0             0              1           1.0        1.0   \n",
       "2  49.0             0              0           1.0        1.0   \n",
       "3  79.0             1              0           1.0        2.0   \n",
       "4  81.0             0              0           1.0        1.0   \n",
       "\n",
       "   avg_glucose_level   bmi  smoking_status  stroke  Female  Male  Rural  Urban  \n",
       "0             228.69  36.6             1.0       1     0.0   1.0    0.0    1.0  \n",
       "1             105.92  32.5             2.0       1     0.0   1.0    1.0    0.0  \n",
       "2             171.23  34.4             3.0       1     1.0   0.0    0.0    1.0  \n",
       "3             174.12  24.0             2.0       1     1.0   0.0    1.0    0.0  \n",
       "4             186.21  29.0             1.0       1     0.0   1.0    0.0    1.0  "
      ],
      "text/html": [
       "<div>\n",
       "<style scoped>\n",
       "    .dataframe tbody tr th:only-of-type {\n",
       "        vertical-align: middle;\n",
       "    }\n",
       "\n",
       "    .dataframe tbody tr th {\n",
       "        vertical-align: top;\n",
       "    }\n",
       "\n",
       "    .dataframe thead th {\n",
       "        text-align: right;\n",
       "    }\n",
       "</style>\n",
       "<table border=\"1\" class=\"dataframe\">\n",
       "  <thead>\n",
       "    <tr style=\"text-align: right;\">\n",
       "      <th></th>\n",
       "      <th>age</th>\n",
       "      <th>hypertension</th>\n",
       "      <th>heart_disease</th>\n",
       "      <th>ever_married</th>\n",
       "      <th>work_type</th>\n",
       "      <th>avg_glucose_level</th>\n",
       "      <th>bmi</th>\n",
       "      <th>smoking_status</th>\n",
       "      <th>stroke</th>\n",
       "      <th>Female</th>\n",
       "      <th>Male</th>\n",
       "      <th>Rural</th>\n",
       "      <th>Urban</th>\n",
       "    </tr>\n",
       "  </thead>\n",
       "  <tbody>\n",
       "    <tr>\n",
       "      <th>0</th>\n",
       "      <td>67.0</td>\n",
       "      <td>0</td>\n",
       "      <td>1</td>\n",
       "      <td>1.0</td>\n",
       "      <td>1.0</td>\n",
       "      <td>228.69</td>\n",
       "      <td>36.6</td>\n",
       "      <td>1.0</td>\n",
       "      <td>1</td>\n",
       "      <td>0.0</td>\n",
       "      <td>1.0</td>\n",
       "      <td>0.0</td>\n",
       "      <td>1.0</td>\n",
       "    </tr>\n",
       "    <tr>\n",
       "      <th>1</th>\n",
       "      <td>80.0</td>\n",
       "      <td>0</td>\n",
       "      <td>1</td>\n",
       "      <td>1.0</td>\n",
       "      <td>1.0</td>\n",
       "      <td>105.92</td>\n",
       "      <td>32.5</td>\n",
       "      <td>2.0</td>\n",
       "      <td>1</td>\n",
       "      <td>0.0</td>\n",
       "      <td>1.0</td>\n",
       "      <td>1.0</td>\n",
       "      <td>0.0</td>\n",
       "    </tr>\n",
       "    <tr>\n",
       "      <th>2</th>\n",
       "      <td>49.0</td>\n",
       "      <td>0</td>\n",
       "      <td>0</td>\n",
       "      <td>1.0</td>\n",
       "      <td>1.0</td>\n",
       "      <td>171.23</td>\n",
       "      <td>34.4</td>\n",
       "      <td>3.0</td>\n",
       "      <td>1</td>\n",
       "      <td>1.0</td>\n",
       "      <td>0.0</td>\n",
       "      <td>0.0</td>\n",
       "      <td>1.0</td>\n",
       "    </tr>\n",
       "    <tr>\n",
       "      <th>3</th>\n",
       "      <td>79.0</td>\n",
       "      <td>1</td>\n",
       "      <td>0</td>\n",
       "      <td>1.0</td>\n",
       "      <td>2.0</td>\n",
       "      <td>174.12</td>\n",
       "      <td>24.0</td>\n",
       "      <td>2.0</td>\n",
       "      <td>1</td>\n",
       "      <td>1.0</td>\n",
       "      <td>0.0</td>\n",
       "      <td>1.0</td>\n",
       "      <td>0.0</td>\n",
       "    </tr>\n",
       "    <tr>\n",
       "      <th>4</th>\n",
       "      <td>81.0</td>\n",
       "      <td>0</td>\n",
       "      <td>0</td>\n",
       "      <td>1.0</td>\n",
       "      <td>1.0</td>\n",
       "      <td>186.21</td>\n",
       "      <td>29.0</td>\n",
       "      <td>1.0</td>\n",
       "      <td>1</td>\n",
       "      <td>0.0</td>\n",
       "      <td>1.0</td>\n",
       "      <td>0.0</td>\n",
       "      <td>1.0</td>\n",
       "    </tr>\n",
       "  </tbody>\n",
       "</table>\n",
       "</div>"
      ]
     },
     "execution_count": 5,
     "metadata": {},
     "output_type": "execute_result"
    }
   ],
   "execution_count": 5
  },
  {
   "metadata": {},
   "cell_type": "markdown",
   "source": "### Разделим целевой и нецелевые признаки, разделим тренировочную и тестовую выборки",
   "id": "df0d4ff318af3526"
  },
  {
   "metadata": {
    "ExecuteTime": {
     "end_time": "2024-11-29T15:52:48.000263Z",
     "start_time": "2024-11-29T15:52:47.996865Z"
    }
   },
   "cell_type": "code",
   "source": [
    "y = df['stroke']\n",
    "X = df.drop(['stroke'], axis=1)\n",
    "\n",
    "X_train, X_test, y_train, y_test = train_test_split(X, y, test_size = 0.2, random_state = 43)"
   ],
   "id": "5d439a7627dc3d0b",
   "outputs": [],
   "execution_count": 6
  },
  {
   "metadata": {},
   "cell_type": "markdown",
   "source": "### Кодируем целевой признак",
   "id": "efd93d3668437b72"
  },
  {
   "metadata": {
    "ExecuteTime": {
     "end_time": "2024-11-29T15:53:28.113674Z",
     "start_time": "2024-11-29T15:53:28.111324Z"
    }
   },
   "cell_type": "code",
   "source": [
    "labEnc = LabelEncoder()\n",
    "y_train = labEnc.fit_transform(y_train)\n",
    "y_test = labEnc.transform(y_test)"
   ],
   "id": "3f943901834a90ca",
   "outputs": [],
   "execution_count": 7
  },
  {
   "metadata": {},
   "cell_type": "markdown",
   "source": [
    "## Балансировка\n",
    "набор данных не сбалансированный по целевому признаку и если обучать модели на этом наборе получится хорошее качество для класса 0 и  плохое качество для класса 1. Поэтому надо применять методы для балансировки данных: уменьшите размер мажоритарного (преобладающий) класса  и при необходимости сгенерируйте данные для миноритарного (маленького) класса, например, с помощью метода smote"
   ],
   "id": "c9beee0fd39d672b"
  },
  {
   "metadata": {},
   "cell_type": "markdown",
   "source": "### Посмотрим на количество значений классов по целевому признаку.",
   "id": "93aac0a3ea0669d9"
  },
  {
   "metadata": {
    "ExecuteTime": {
     "end_time": "2024-11-29T15:57:19.643957Z",
     "start_time": "2024-11-29T15:57:19.640343Z"
    }
   },
   "cell_type": "code",
   "source": "pd.DataFrame(y_train).value_counts()\n",
   "id": "54bfba0d5b90599",
   "outputs": [
    {
     "data": {
      "text/plain": [
       "0\n",
       "0    3780\n",
       "1     204\n",
       "Name: count, dtype: int64"
      ]
     },
     "execution_count": 9,
     "metadata": {},
     "output_type": "execute_result"
    }
   ],
   "execution_count": 9
  },
  {
   "metadata": {},
   "cell_type": "markdown",
   "source": "### Проведем балансировку данных",
   "id": "925814e6e3259083"
  },
  {
   "metadata": {
    "ExecuteTime": {
     "end_time": "2024-11-29T15:57:23.355676Z",
     "start_time": "2024-11-29T15:57:23.230432Z"
    }
   },
   "cell_type": "code",
   "source": [
    "from imblearn.combine import SMOTETomek\n",
    "\n",
    "sampler = SMOTETomek()\n",
    "\n",
    "X_train, y_train = sampler.fit_resample(X_train, y_train)"
   ],
   "id": "385a8c85d2083f55",
   "outputs": [],
   "execution_count": 10
  },
  {
   "metadata": {},
   "cell_type": "markdown",
   "source": [
    "## Обучение\n",
    "### KNN"
   ],
   "id": "66c3f54990e4b881"
  },
  {
   "metadata": {},
   "cell_type": "markdown",
   "source": "### Нормализация нецелевых признаков",
   "id": "ae6cbb6fea354264"
  },
  {
   "metadata": {
    "ExecuteTime": {
     "end_time": "2024-11-29T15:59:20.290868Z",
     "start_time": "2024-11-29T15:59:20.264465Z"
    }
   },
   "cell_type": "code",
   "source": [
    "scaler_mm = StandardScaler()\n",
    "\n",
    "X_train_1 = scaler_mm.fit_transform(X_train)\n",
    "X_train_1 = pd.DataFrame(X_train_1, columns = scaler_mm.feature_names_in_)\n",
    "\n",
    "X_test_1 = scaler_mm.transform(X_test)\n",
    "X_test_1 = pd.DataFrame(X_test_1, columns =  scaler_mm.feature_names_in_)\n",
    "\n",
    "X_train_1.describe()\n",
    "X_test_1.describe()"
   ],
   "id": "9249c0d36d4f1715",
   "outputs": [
    {
     "data": {
      "text/plain": [
       "              age  hypertension  heart_disease  ever_married   work_type  \\\n",
       "count  997.000000    997.000000     997.000000    997.000000  997.000000   \n",
       "mean    -0.519237      0.028941       0.103443     -0.273929    0.108210   \n",
       "std      1.034570      1.042235       1.202495      1.174509    1.179262   \n",
       "min     -2.492564     -0.305180      -0.216567     -1.880613   -1.683171   \n",
       "25%     -1.362892     -0.305180      -0.216567     -1.880613   -0.305079   \n",
       "50%     -0.407855     -0.305180      -0.216567      0.583793   -0.305079   \n",
       "75%      0.274315     -0.305180      -0.216567      0.583793    1.073012   \n",
       "max      1.229352      3.276750       4.617513      0.583793    2.451104   \n",
       "\n",
       "       avg_glucose_level         bmi  smoking_status      Female        Male  \\\n",
       "count         997.000000  997.000000      997.000000  997.000000  997.000000   \n",
       "mean           -0.235810   -0.159722        0.031209    0.005178   -0.005178   \n",
       "std             0.806551    1.177238        1.106180    1.081964    1.081964   \n",
       "min            -1.155711   -2.549503       -1.470875   -1.259748   -0.929715   \n",
       "25%            -0.756467   -0.999078       -1.470875   -1.259748   -0.929715   \n",
       "50%            -0.463931   -0.215346        0.617797    0.929715   -0.929715   \n",
       "75%            -0.092997    0.517273        0.617797    0.929715    1.259748   \n",
       "max             2.681930    3.345521        1.662134    0.929715    1.259748   \n",
       "\n",
       "            Rural       Urban  \n",
       "count  997.000000  997.000000  \n",
       "mean    -0.011647    0.011647  \n",
       "std      1.086667    1.086667  \n",
       "min     -1.053986   -1.120097  \n",
       "25%     -1.053986   -1.120097  \n",
       "50%     -1.053986    1.053986  \n",
       "75%      1.120097    1.053986  \n",
       "max      1.120097    1.053986  "
      ],
      "text/html": [
       "<div>\n",
       "<style scoped>\n",
       "    .dataframe tbody tr th:only-of-type {\n",
       "        vertical-align: middle;\n",
       "    }\n",
       "\n",
       "    .dataframe tbody tr th {\n",
       "        vertical-align: top;\n",
       "    }\n",
       "\n",
       "    .dataframe thead th {\n",
       "        text-align: right;\n",
       "    }\n",
       "</style>\n",
       "<table border=\"1\" class=\"dataframe\">\n",
       "  <thead>\n",
       "    <tr style=\"text-align: right;\">\n",
       "      <th></th>\n",
       "      <th>age</th>\n",
       "      <th>hypertension</th>\n",
       "      <th>heart_disease</th>\n",
       "      <th>ever_married</th>\n",
       "      <th>work_type</th>\n",
       "      <th>avg_glucose_level</th>\n",
       "      <th>bmi</th>\n",
       "      <th>smoking_status</th>\n",
       "      <th>Female</th>\n",
       "      <th>Male</th>\n",
       "      <th>Rural</th>\n",
       "      <th>Urban</th>\n",
       "    </tr>\n",
       "  </thead>\n",
       "  <tbody>\n",
       "    <tr>\n",
       "      <th>count</th>\n",
       "      <td>997.000000</td>\n",
       "      <td>997.000000</td>\n",
       "      <td>997.000000</td>\n",
       "      <td>997.000000</td>\n",
       "      <td>997.000000</td>\n",
       "      <td>997.000000</td>\n",
       "      <td>997.000000</td>\n",
       "      <td>997.000000</td>\n",
       "      <td>997.000000</td>\n",
       "      <td>997.000000</td>\n",
       "      <td>997.000000</td>\n",
       "      <td>997.000000</td>\n",
       "    </tr>\n",
       "    <tr>\n",
       "      <th>mean</th>\n",
       "      <td>-0.519237</td>\n",
       "      <td>0.028941</td>\n",
       "      <td>0.103443</td>\n",
       "      <td>-0.273929</td>\n",
       "      <td>0.108210</td>\n",
       "      <td>-0.235810</td>\n",
       "      <td>-0.159722</td>\n",
       "      <td>0.031209</td>\n",
       "      <td>0.005178</td>\n",
       "      <td>-0.005178</td>\n",
       "      <td>-0.011647</td>\n",
       "      <td>0.011647</td>\n",
       "    </tr>\n",
       "    <tr>\n",
       "      <th>std</th>\n",
       "      <td>1.034570</td>\n",
       "      <td>1.042235</td>\n",
       "      <td>1.202495</td>\n",
       "      <td>1.174509</td>\n",
       "      <td>1.179262</td>\n",
       "      <td>0.806551</td>\n",
       "      <td>1.177238</td>\n",
       "      <td>1.106180</td>\n",
       "      <td>1.081964</td>\n",
       "      <td>1.081964</td>\n",
       "      <td>1.086667</td>\n",
       "      <td>1.086667</td>\n",
       "    </tr>\n",
       "    <tr>\n",
       "      <th>min</th>\n",
       "      <td>-2.492564</td>\n",
       "      <td>-0.305180</td>\n",
       "      <td>-0.216567</td>\n",
       "      <td>-1.880613</td>\n",
       "      <td>-1.683171</td>\n",
       "      <td>-1.155711</td>\n",
       "      <td>-2.549503</td>\n",
       "      <td>-1.470875</td>\n",
       "      <td>-1.259748</td>\n",
       "      <td>-0.929715</td>\n",
       "      <td>-1.053986</td>\n",
       "      <td>-1.120097</td>\n",
       "    </tr>\n",
       "    <tr>\n",
       "      <th>25%</th>\n",
       "      <td>-1.362892</td>\n",
       "      <td>-0.305180</td>\n",
       "      <td>-0.216567</td>\n",
       "      <td>-1.880613</td>\n",
       "      <td>-0.305079</td>\n",
       "      <td>-0.756467</td>\n",
       "      <td>-0.999078</td>\n",
       "      <td>-1.470875</td>\n",
       "      <td>-1.259748</td>\n",
       "      <td>-0.929715</td>\n",
       "      <td>-1.053986</td>\n",
       "      <td>-1.120097</td>\n",
       "    </tr>\n",
       "    <tr>\n",
       "      <th>50%</th>\n",
       "      <td>-0.407855</td>\n",
       "      <td>-0.305180</td>\n",
       "      <td>-0.216567</td>\n",
       "      <td>0.583793</td>\n",
       "      <td>-0.305079</td>\n",
       "      <td>-0.463931</td>\n",
       "      <td>-0.215346</td>\n",
       "      <td>0.617797</td>\n",
       "      <td>0.929715</td>\n",
       "      <td>-0.929715</td>\n",
       "      <td>-1.053986</td>\n",
       "      <td>1.053986</td>\n",
       "    </tr>\n",
       "    <tr>\n",
       "      <th>75%</th>\n",
       "      <td>0.274315</td>\n",
       "      <td>-0.305180</td>\n",
       "      <td>-0.216567</td>\n",
       "      <td>0.583793</td>\n",
       "      <td>1.073012</td>\n",
       "      <td>-0.092997</td>\n",
       "      <td>0.517273</td>\n",
       "      <td>0.617797</td>\n",
       "      <td>0.929715</td>\n",
       "      <td>1.259748</td>\n",
       "      <td>1.120097</td>\n",
       "      <td>1.053986</td>\n",
       "    </tr>\n",
       "    <tr>\n",
       "      <th>max</th>\n",
       "      <td>1.229352</td>\n",
       "      <td>3.276750</td>\n",
       "      <td>4.617513</td>\n",
       "      <td>0.583793</td>\n",
       "      <td>2.451104</td>\n",
       "      <td>2.681930</td>\n",
       "      <td>3.345521</td>\n",
       "      <td>1.662134</td>\n",
       "      <td>0.929715</td>\n",
       "      <td>1.259748</td>\n",
       "      <td>1.120097</td>\n",
       "      <td>1.053986</td>\n",
       "    </tr>\n",
       "  </tbody>\n",
       "</table>\n",
       "</div>"
      ]
     },
     "execution_count": 11,
     "metadata": {},
     "output_type": "execute_result"
    }
   ],
   "execution_count": 11
  },
  {
   "metadata": {},
   "cell_type": "markdown",
   "source": "### Сравнение производительности",
   "id": "8190eea48a9c37d"
  },
  {
   "metadata": {
    "ExecuteTime": {
     "end_time": "2024-11-29T16:11:21.554378Z",
     "start_time": "2024-11-29T16:11:15.873590Z"
    }
   },
   "cell_type": "code",
   "source": [
    "from sklearn.neighbors import KNeighborsClassifier\n",
    "\n",
    "from sklearn import metrics\n",
    "\n",
    "print(\"Метрика Манхэттен\")\n",
    "print('k\\tAccuracy\\t\\tPrecision')\n",
    "score1 = []\n",
    "for i in range(1,30):\n",
    "    clf = KNeighborsClassifier(n_neighbors=i, metric='manhattan')\n",
    "    clf.fit(X_train_1, y_train)\n",
    "    y_pred = clf.predict(X_test_1)\n",
    "    score1.append(clf.score(X_test_1, y_test))\n",
    "    score1.append(metrics.f1_score(y_test, y_pred))\n",
    "    print(i, score1[-2], score1[-1], sep='\\t')\n",
    "\n",
    "print(\"Метрика Евклида\")\n",
    "print('k\\tAccuracy\\t\\tPrecision')\n",
    "score2 = []\n",
    "for i in range(1,30):\n",
    "    clf = KNeighborsClassifier(n_neighbors=i, metric='euclidean')\n",
    "    clf.fit(X_train_1, y_train)\n",
    "    y_pred = clf.predict(X_test_1)\n",
    "    score2.append(clf.score(X_test_1, y_test))\n",
    "    score2.append(metrics.f1_score(y_test, y_pred))\n",
    "    print(i, score2[-2], score2[-1], sep='\\t')"
   ],
   "id": "6eb7a66ad05371e5",
   "outputs": [
    {
     "name": "stdout",
     "output_type": "stream",
     "text": [
      "Метрика Манхэттен\n",
      "k\tAccuracy\t\tPrecision\n",
      "1\t0.8986960882647944\t0.10619469026548672\n",
      "2\t0.9207622868605817\t0.04819277108433735\n",
      "3\t0.8996990972918756\t0.09090909090909091\n",
      "4\t0.9087261785356068\t0.042105263157894736\n",
      "5\t0.8866599799398195\t0.13740458015267176\n",
      "6\t0.8996990972918756\t0.12280701754385964\n",
      "7\t0.8756268806419257\t0.1267605633802817\n",
      "8\t0.8876629889669007\t0.0967741935483871\n",
      "9\t0.8736208625877633\t0.1\n",
      "10\t0.8846539618856569\t0.09448818897637795\n",
      "11\t0.8706118355065195\t0.0979020979020979\n",
      "12\t0.8826479438314945\t0.09302325581395349\n",
      "13\t0.8786359077231695\t0.16551724137931034\n",
      "14\t0.8866599799398195\t0.16296296296296298\n",
      "15\t0.8736208625877633\t0.17105263157894737\n",
      "16\t0.8896690070210632\t0.1791044776119403\n",
      "17\t0.8746238716148446\t0.17218543046357615\n",
      "18\t0.8846539618856569\t0.16058394160583941\n",
      "19\t0.872617853560682\t0.16993464052287582\n",
      "20\t0.8826479438314945\t0.18181818181818182\n",
      "21\t0.8686058174523571\t0.1761006289308176\n",
      "22\t0.8816449348044132\t0.1917808219178082\n",
      "23\t0.8696088264794383\t0.17721518987341772\n",
      "24\t0.8786359077231695\t0.17687074829931973\n",
      "25\t0.8736208625877633\t0.17105263157894737\n",
      "26\t0.8786359077231695\t0.16551724137931034\n",
      "27\t0.8706118355065195\t0.16774193548387098\n",
      "28\t0.876629889669007\t0.16326530612244897\n",
      "29\t0.8696088264794383\t0.17721518987341772\n",
      "Метрика Евклида\n",
      "k\tAccuracy\t\tPrecision\n",
      "1\t0.8966900702106319\t0.16260162601626016\n",
      "2\t0.9047141424272819\t0.07766990291262135\n",
      "3\t0.8605817452357071\t0.11464968152866242\n",
      "4\t0.8706118355065195\t0.12244897959183673\n",
      "5\t0.8405215646940822\t0.14054054054054055\n",
      "6\t0.8585757271815446\t0.14545454545454545\n",
      "7\t0.8254764292878636\t0.13\n",
      "8\t0.8385155466399198\t0.12972972972972974\n",
      "9\t0.8214643931795386\t0.14423076923076922\n",
      "10\t0.835506519558676\t0.1276595744680851\n",
      "11\t0.8154463390170511\t0.14814814814814814\n",
      "12\t0.8345035105315948\t0.15384615384615385\n",
      "13\t0.8124373119358074\t0.1382488479262673\n",
      "14\t0.8335005015045135\t0.15306122448979592\n",
      "15\t0.8064192577733199\t0.1645021645021645\n",
      "16\t0.8224674022066198\t0.16901408450704225\n",
      "17\t0.8004012036108324\t0.15319148936170213\n",
      "18\t0.8174523570712137\t0.1651376146788991\n",
      "19\t0.8004012036108324\t0.16033755274261605\n",
      "20\t0.8114343029087262\t0.16071428571428573\n",
      "21\t0.7923771313941825\t0.16194331983805668\n",
      "22\t0.8104312938816449\t0.16740088105726872\n",
      "23\t0.7953861584754263\t0.17073170731707318\n",
      "24\t0.8074222668004012\t0.1724137931034483\n",
      "25\t0.7993981945837513\t0.17355371900826447\n",
      "26\t0.8074222668004012\t0.1724137931034483\n",
      "27\t0.8004012036108324\t0.16736401673640167\n",
      "28\t0.8064192577733199\t0.1645021645021645\n",
      "29\t0.7953861584754263\t0.16393442622950818\n"
     ]
    }
   ],
   "execution_count": 12
  },
  {
   "metadata": {},
   "cell_type": "markdown",
   "source": "### Наилучшее - Манхэттен k = 2",
   "id": "5e989f5151eaa520"
  },
  {
   "metadata": {
    "ExecuteTime": {
     "end_time": "2024-11-29T16:15:39.069630Z",
     "start_time": "2024-11-29T16:15:39.011266Z"
    }
   },
   "cell_type": "code",
   "source": [
    "clf = KNeighborsClassifier(n_neighbors=2, metric='manhattan')\n",
    "clf.fit(X_train_1, y_train)\n",
    "\n",
    "from sklearn.metrics import accuracy_score, classification_report\n",
    "\n",
    "predictions = clf.predict(X_test_1)\n",
    "print('Accuracy:', accuracy_score(y_test, predictions) * 100)\n",
    "print('Classification Report:\\n', classification_report(y_test, predictions))"
   ],
   "id": "4e4a0a4b932d6b72",
   "outputs": [
    {
     "name": "stdout",
     "output_type": "stream",
     "text": [
      "Accuracy: 92.07622868605817\n",
      "Classification Report:\n",
      "               precision    recall  f1-score   support\n",
      "\n",
      "           0       0.96      0.96      0.96       953\n",
      "           1       0.05      0.05      0.05        44\n",
      "\n",
      "    accuracy                           0.92       997\n",
      "   macro avg       0.50      0.50      0.50       997\n",
      "weighted avg       0.92      0.92      0.92       997\n",
      "\n"
     ]
    }
   ],
   "execution_count": 14
  },
  {
   "metadata": {},
   "cell_type": "markdown",
   "source": [
    "## Дерево решений\n",
    "### Нормализация нецелевых признаков"
   ],
   "id": "9b4ac7197491c72d"
  },
  {
   "metadata": {
    "ExecuteTime": {
     "end_time": "2024-11-29T16:33:24.768973Z",
     "start_time": "2024-11-29T16:33:24.755582Z"
    }
   },
   "cell_type": "code",
   "source": [
    "scaler_dt = StandardScaler()\n",
    "\n",
    "X_train_2 = scaler_dt.fit_transform(X_train)\n",
    "X_train_2 = pd.DataFrame(X_train_2, columns = scaler_dt.feature_names_in_)\n",
    "\n",
    "X_test_2 = scaler_dt.transform(X_test)\n",
    "X_test_2 = pd.DataFrame(X_test_2, columns =  scaler_dt.feature_names_in_)"
   ],
   "id": "886169fbff044878",
   "outputs": [],
   "execution_count": 32
  },
  {
   "metadata": {},
   "cell_type": "markdown",
   "source": "### Обучаем дерево",
   "id": "195a98174b84289e"
  },
  {
   "metadata": {
    "ExecuteTime": {
     "end_time": "2024-11-29T16:33:26.425728Z",
     "start_time": "2024-11-29T16:33:26.395962Z"
    }
   },
   "cell_type": "code",
   "source": [
    "from sklearn.tree import DecisionTreeClassifier\n",
    "\n",
    "dt = DecisionTreeClassifier(max_depth=15, random_state=10)\n",
    "# обучаем\n",
    "dt.fit(X_train_2, y_train)\n",
    "# проверяем качество на тестовой выборке\n",
    "dt.score(X_test_2, y_test)"
   ],
   "id": "6a2ca2645ab7412e",
   "outputs": [
    {
     "data": {
      "text/plain": [
       "0.8896690070210632"
      ]
     },
     "execution_count": 33,
     "metadata": {},
     "output_type": "execute_result"
    }
   ],
   "execution_count": 33
  },
  {
   "metadata": {
    "ExecuteTime": {
     "end_time": "2024-11-29T16:33:28.717654Z",
     "start_time": "2024-11-29T16:33:28.707377Z"
    }
   },
   "cell_type": "code",
   "source": [
    "predictions = dt.predict(X_test_2)\n",
    "print('Accuracy:', accuracy_score(y_test, predictions) * 100)\n",
    "print('Classification Report:\\n', classification_report(y_test, predictions))"
   ],
   "id": "1e808bbd7962cc3c",
   "outputs": [
    {
     "name": "stdout",
     "output_type": "stream",
     "text": [
      "Accuracy: 88.96690070210632\n",
      "Classification Report:\n",
      "               precision    recall  f1-score   support\n",
      "\n",
      "           0       0.96      0.93      0.94       953\n",
      "           1       0.07      0.11      0.08        44\n",
      "\n",
      "    accuracy                           0.89       997\n",
      "   macro avg       0.51      0.52      0.51       997\n",
      "weighted avg       0.92      0.89      0.90       997\n",
      "\n"
     ]
    }
   ],
   "execution_count": 34
  },
  {
   "metadata": {},
   "cell_type": "markdown",
   "source": [
    "## Случайный лес\n",
    "### Нормализация нецелевых признаков"
   ],
   "id": "3a45708e725e7d31"
  },
  {
   "metadata": {
    "ExecuteTime": {
     "end_time": "2024-11-29T16:21:35.562316Z",
     "start_time": "2024-11-29T16:21:35.553758Z"
    }
   },
   "cell_type": "code",
   "source": [
    "scaler_ss = StandardScaler()\n",
    "\n",
    "X_train_3 = scaler_ss.fit_transform(X_train)\n",
    "X_train_3 = pd.DataFrame(X_train_3, columns = scaler_ss.feature_names_in_)\n",
    "\n",
    "X_test_3 = scaler_ss.transform(X_test)\n",
    "X_test_3 = pd.DataFrame(X_test_3, columns =  scaler_ss.feature_names_in_)"
   ],
   "id": "5f91b7e60406b6a7",
   "outputs": [],
   "execution_count": 16
  },
  {
   "metadata": {},
   "cell_type": "markdown",
   "source": "### Обучаем лес",
   "id": "493fda560c18820d"
  },
  {
   "metadata": {
    "ExecuteTime": {
     "end_time": "2024-11-29T16:21:37.258425Z",
     "start_time": "2024-11-29T16:21:36.706158Z"
    }
   },
   "cell_type": "code",
   "source": [
    "from sklearn.ensemble import RandomForestClassifier\n",
    "\n",
    "rf= RandomForestClassifier(n_estimators=100)\n",
    "rf.fit(X_train_3, y_train)\n",
    "rf.score(X_test_3, y_test)"
   ],
   "id": "2f86563070c6792",
   "outputs": [
    {
     "data": {
      "text/plain": [
       "0.9408224674022067"
      ]
     },
     "execution_count": 17,
     "metadata": {},
     "output_type": "execute_result"
    }
   ],
   "execution_count": 17
  },
  {
   "metadata": {
    "ExecuteTime": {
     "end_time": "2024-11-29T16:21:58.922477Z",
     "start_time": "2024-11-29T16:21:58.907670Z"
    }
   },
   "cell_type": "code",
   "source": [
    "predictions = rf.predict(X_test_3)\n",
    "print('Accuracy:', accuracy_score(y_test, predictions) * 100)\n",
    "print('Classification Report:\\n', classification_report(y_test, predictions))"
   ],
   "id": "ec1ec373e4046332",
   "outputs": [
    {
     "name": "stdout",
     "output_type": "stream",
     "text": [
      "Accuracy: 94.08224674022067\n",
      "Classification Report:\n",
      "               precision    recall  f1-score   support\n",
      "\n",
      "           0       0.96      0.98      0.97       953\n",
      "           1       0.11      0.05      0.06        44\n",
      "\n",
      "    accuracy                           0.94       997\n",
      "   macro avg       0.53      0.51      0.52       997\n",
      "weighted avg       0.92      0.94      0.93       997\n",
      "\n"
     ]
    }
   ],
   "execution_count": 18
  },
  {
   "metadata": {},
   "cell_type": "markdown",
   "source": [
    "## Метод опорных векторов\n",
    "### Нормализация"
   ],
   "id": "6c50acf26fdaeca0"
  },
  {
   "metadata": {
    "ExecuteTime": {
     "end_time": "2024-11-29T16:36:15.140756Z",
     "start_time": "2024-11-29T16:36:15.136137Z"
    }
   },
   "cell_type": "code",
   "source": [
    "scaler_ma = MinMaxScaler(feature_range=(-1, 1))\n",
    "\n",
    "X_train_4 = scaler_ma.fit_transform(X_train)\n",
    "X_train_4 = pd.DataFrame(X_train_4, columns = scaler_mm.feature_names_in_)\n",
    "\n",
    "X_test_4 = scaler_ma.transform(X_test)\n",
    "X_test_4 = pd.DataFrame(X_test_4, columns =  scaler_mm.feature_names_in_)"
   ],
   "id": "9cea99c929aee056",
   "outputs": [],
   "execution_count": 36
  },
  {
   "metadata": {},
   "cell_type": "markdown",
   "source": "### Обучаем",
   "id": "cbdaf6a30f51ac06"
  },
  {
   "metadata": {
    "ExecuteTime": {
     "end_time": "2024-11-29T16:37:03.526387Z",
     "start_time": "2024-11-29T16:37:03.074100Z"
    }
   },
   "cell_type": "code",
   "source": [
    "from sklearn.svm import SVC\n",
    "\n",
    "svc=SVC()\n",
    "svc.fit(X_train_4, y_train)\n",
    "print(svc.score(X_test_4, y_test))"
   ],
   "id": "c7ef8ce6548c4ca1",
   "outputs": [
    {
     "name": "stdout",
     "output_type": "stream",
     "text": [
      "0.8716148445336008\n"
     ]
    }
   ],
   "execution_count": 37
  },
  {
   "metadata": {
    "ExecuteTime": {
     "end_time": "2024-11-29T16:37:29.625176Z",
     "start_time": "2024-11-29T16:37:29.561299Z"
    }
   },
   "cell_type": "code",
   "source": [
    "predictions = svc.predict(X_test_4)\n",
    "print('Accuracy:', accuracy_score(y_test, predictions) * 100)\n",
    "print('Classification Report:\\n', classification_report(y_test, predictions))"
   ],
   "id": "25c531a5193ddcdf",
   "outputs": [
    {
     "name": "stdout",
     "output_type": "stream",
     "text": [
      "Accuracy: 87.16148445336009\n",
      "Classification Report:\n",
      "               precision    recall  f1-score   support\n",
      "\n",
      "           0       0.97      0.90      0.93       953\n",
      "           1       0.14      0.36      0.20        44\n",
      "\n",
      "    accuracy                           0.87       997\n",
      "   macro avg       0.55      0.63      0.57       997\n",
      "weighted avg       0.93      0.87      0.90       997\n",
      "\n"
     ]
    }
   ],
   "execution_count": 39
  }
 ],
 "metadata": {
  "kernelspec": {
   "display_name": "Python 3",
   "language": "python",
   "name": "python3"
  },
  "language_info": {
   "codemirror_mode": {
    "name": "ipython",
    "version": 2
   },
   "file_extension": ".py",
   "mimetype": "text/x-python",
   "name": "python",
   "nbconvert_exporter": "python",
   "pygments_lexer": "ipython2",
   "version": "2.7.6"
  }
 },
 "nbformat": 4,
 "nbformat_minor": 5
}
